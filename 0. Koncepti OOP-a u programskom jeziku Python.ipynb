{
 "cells": [
  {
   "cell_type": "markdown",
   "metadata": {
    "slideshow": {
     "slide_type": "slide"
    }
   },
   "source": [
    "# Koncepti OOP-a u programskom jeziku Python"
   ]
  },
  {
   "cell_type": "markdown",
   "metadata": {
    "slideshow": {
     "slide_type": "skip"
    }
   },
   "source": [
    "Za paradigmu Objekto Orijentisanog Programiranja se veže sljedećih šest koncepata: koncept **klase**, koncept **instance**, **enkapsulacija**, **apstrakcija**, **nasljeđivanje** i **polimorfizam**. Opišimo način rada istih u programskom jeziku Python. *(Za sve implementacije je korišten Python 3.7)*"
   ]
  },
  {
   "cell_type": "markdown",
   "metadata": {
    "slideshow": {
     "slide_type": "slide"
    }
   },
   "source": [
    "## Klasa\n"
   ]
  },
  {
   "cell_type": "markdown",
   "metadata": {
    "slideshow": {
     "slide_type": "skip"
    }
   },
   "source": [
    "Kolekciju atributa i metoda koji opisuju ponašanje jedne programske cjeline (ili programskog tipa) nazivamo klasom.\n",
    "Klasa se u programskom jeziku Python definiše ključnom riječju *class*. *Ključna riječ **pass** omogućava nedovršene implementacije u Python-u.*"
   ]
  },
  {
   "cell_type": "code",
   "execution_count": 6,
   "metadata": {
    "slideshow": {
     "slide_type": "fragment"
    }
   },
   "outputs": [],
   "source": [
    "class Primjer:\n",
    "    pass"
   ]
  },
  {
   "cell_type": "markdown",
   "metadata": {
    "slideshow": {
     "slide_type": "slide"
    }
   },
   "source": [
    "### Metode i konstruktor"
   ]
  },
  {
   "cell_type": "markdown",
   "metadata": {
    "slideshow": {
     "slide_type": "skip"
    }
   },
   "source": [
    "Funkciju koju deklarišemo unutar neke klase nazivamo metodom članicom klase (ili samo metodom). Metoda treba da izvršava samo ono što je od bliske relevantnosti samoj klasi unutar koje se deklariše. Metoda *mora* imati definisan barem jedan parametar. Python će prilikom izvršavanja te metode, u taj parametar smjestiti pokazivač na samu instancu te klase. *O terminu instace će biti govora u narednom potpoglavlju.* Konvencija je da se taj parametar nazove **self**. Osim toga, metodu deklarišemo kao bilo koju drugu funkciju u Python-u, koristeći ključnu riječ **def**."
   ]
  },
  {
   "cell_type": "code",
   "execution_count": 8,
   "metadata": {
    "slideshow": {
     "slide_type": "fragment"
    }
   },
   "outputs": [],
   "source": [
    "class Primjer:\n",
    "    def metoda_clanica_primjera(self) -> None:\n",
    "        pass"
   ]
  },
  {
   "cell_type": "markdown",
   "metadata": {
    "slideshow": {
     "slide_type": "skip"
    }
   },
   "source": [
    "Deklaracija konstruktora u programskom jeziku Python nije mandatorna, ali je ustaljena konvencija da se uvijek deklarišu (osim kod *statičkih* klasa o kojima će biti riječi kasnije). Konstruktor se deklariše kao i bilo koja druga metoda klase, s tim da ga moramo nazvati imenom **\\_\\_init\\_\\_**."
   ]
  },
  {
   "cell_type": "code",
   "execution_count": 34,
   "metadata": {
    "slideshow": {
     "slide_type": "fragment"
    }
   },
   "outputs": [],
   "source": [
    "class Primjer:\n",
    "    def __init__(self) -> None:\n",
    "        pass"
   ]
  },
  {
   "cell_type": "markdown",
   "metadata": {
    "slideshow": {
     "slide_type": "slide"
    }
   },
   "source": [
    "### Atributi"
   ]
  },
  {
   "cell_type": "markdown",
   "metadata": {
    "slideshow": {
     "slide_type": "skip"
    }
   },
   "source": [
    "Atribut klase deklarišemo tako što ga u bilo kojoj metodi vežemo za pokazivač na klasu **self** na sljedeći način: *(Potrebno je da se prilikom tog vezivanja dodijeli i neka vrijednost tom atributu. Ukoliko nam u datom momentu ne odgovara da tom atributu dodijelimo neku smislenu vrijednost, praksa je da mu se dodijeli vrijednost **None**, koja je ništavna (ili null) vrijednost u Python-u)*"
   ]
  },
  {
   "cell_type": "code",
   "execution_count": 22,
   "metadata": {
    "slideshow": {
     "slide_type": "fragment"
    }
   },
   "outputs": [],
   "source": [
    "class Primjer:\n",
    "    def __init__(self) -> None:\n",
    "        self.brojcani_atribut_klase: int = None"
   ]
  },
  {
   "cell_type": "markdown",
   "metadata": {
    "slideshow": {
     "slide_type": "fragment"
    }
   },
   "source": [
    "Iako to ne moramo, konvencija je da se svi atributi neke klase deklarišu unutar konstruktora."
   ]
  },
  {
   "cell_type": "markdown",
   "metadata": {
    "slideshow": {
     "slide_type": "skip"
    }
   },
   "source": [
    "Ukoliko smo se navikli na programske jezike starijeg kova, kao što su npr. C++ ili Java, vjerovatno bismo pokušali deklarisati atribute naše klase na način koji bi mogao izgledati kao:"
   ]
  },
  {
   "cell_type": "code",
   "execution_count": 30,
   "metadata": {
    "slideshow": {
     "slide_type": "skip"
    }
   },
   "outputs": [],
   "source": [
    "class PrimjerSaParametrima:  # Los primjer\n",
    "    brojcani_atribut: int = 0\n",
    "    tekstualni_atribut: str = 'Neki tekst'\n",
    "    \n",
    "    def __init__(self, b_a: int, t_a: str) -> None:\n",
    "        brojcani_atribut: int = b_a\n",
    "        tekstualni_atribut: str = t_a"
   ]
  },
  {
   "cell_type": "markdown",
   "metadata": {
    "slideshow": {
     "slide_type": "skip"
    }
   },
   "source": [
    "Interpreter neće pronaći nikakvu grešku u navedenoj implementaciji klase, ali će njeno ponašanje autoru biti krajnje neočekivano. Vratiti ćemo se na ovaj primjer u narednom potpoglavlju. Prije toga pogledajmo na šta bi mogao naići autor klase koji je više privržen Java-i, nego recimo programskom jeziku C++."
   ]
  },
  {
   "cell_type": "code",
   "execution_count": 15,
   "metadata": {
    "slideshow": {
     "slide_type": "slide"
    }
   },
   "outputs": [],
   "source": [
    "class PrimjerSaParametrima:  # Los primjer\n",
    "    brojcani_atribut: int = 0\n",
    "    tekstualni_atribut: str = 'Neki tekst'\n",
    "    \n",
    "    def __init__(self, brojcani_atribut: int, tekstualni_atribut: str) -> None:\n",
    "        self.brojcani_atribut = brojcani_atribut\n",
    "        self.tekstualni_atribut = tekstualni_atribut"
   ]
  },
  {
   "cell_type": "markdown",
   "metadata": {
    "slideshow": {
     "slide_type": "skip"
    }
   },
   "source": [
    "Ovaj način deklarisanja atributa je sasvim legalan, u smislu da interpreter neće vratiti nikakvu grešku, te autor vjerovatno neće primijetiti nikakvo neobično ponašanje prilikom korištenja deklarisanih atributa. Međutim, vjerovatno će ga sljedeće ponašanje iznenaditi:"
   ]
  },
  {
   "cell_type": "code",
   "execution_count": 16,
   "metadata": {
    "slideshow": {
     "slide_type": "fragment"
    }
   },
   "outputs": [
    {
     "name": "stdout",
     "output_type": "stream",
     "text": [
      "0\n"
     ]
    }
   ],
   "source": [
    "print(Primjer.brojcani_atribut)"
   ]
  },
  {
   "cell_type": "code",
   "execution_count": 20,
   "metadata": {
    "slideshow": {
     "slide_type": "fragment"
    }
   },
   "outputs": [
    {
     "name": "stdout",
     "output_type": "stream",
     "text": [
      "123\n"
     ]
    }
   ],
   "source": [
    "Primjer.brojcani_atribut = 123\n",
    "print(Primjer.brojcani_atribut)"
   ]
  },
  {
   "cell_type": "markdown",
   "metadata": {
    "slideshow": {
     "slide_type": "skip"
    }
   },
   "source": [
    "Naime, Python razlikuje dvije vrste atributa: *atribute klase* i *atribute instance*. O razlici između ove dvije vrste atributa ćemo reći više u narednom potpoglavlju. Za sada je bitno da znamo da atribute deklarišemo samo i samo unutar konstruktora, na gore navedeni način."
   ]
  },
  {
   "cell_type": "markdown",
   "metadata": {
    "slideshow": {
     "slide_type": "skip"
    }
   },
   "source": [
    "*Primjer 1:* Recimo da želimo implementirati program koji će simulirati oglašavanje ptica i koji će još, pored toga, čuvati neke podatke o njima. Sve atribute jedne ptice, kao i funkcionalnost oglašavanja bismo mogli smjestiti u jednu klasu na sljedeći način:"
   ]
  },
  {
   "cell_type": "code",
   "execution_count": 42,
   "metadata": {
    "slideshow": {
     "slide_type": "slide"
    }
   },
   "outputs": [],
   "source": [
    "class Ptica:\n",
    "    \"\"\"\n",
    "    Klasa koja predstavlja jednu pticu i\n",
    "    čuva nekoliko informacija o istoj kao što su:\n",
    "        - Raspon krila\n",
    "        - Način glasanja\n",
    "        - Boja\n",
    "        - Nadimak\n",
    "    i omogućava oglašavanje ptice pozivanjem metode oglasi_se().\n",
    "    \"\"\"\n",
    "    def __init__(self, raspon_krila: float, nacin_glasanja: str, boja: str, nadimak: str = None) -> None:\n",
    "        \"\"\"\n",
    "        Konstruktor klase Ptica.\n",
    "        \n",
    "        Args:\n",
    "            raspon_krila: Decimalna vrijednost u centimetrima koja čuva informaciju u rasponu krila ptice.\n",
    "            nacin_glasanja: Zvuk kojim se ptica oglašava. Tekstualna vrijednost.\n",
    "            boja: Boja ptice. Tekstualna vrijednost.\n",
    "            nadimak: Nadimak ptice. Ovo nije vrsta ptice. Ovaj parametar je opcionalan.\n",
    "        \"\"\"\n",
    "        self.raspon_krila: float = raspon_krila\n",
    "        self.nacin_glasanja: str = nacin_glasanja\n",
    "        self.boja: str = boja\n",
    "        self.nadimak: str = nadimak\n",
    "    \n",
    "    def oglasi_se(self) -> None:\n",
    "        \"\"\"\n",
    "        Metoda ispisuje zvuk kojim se ptica oglašava.\n",
    "        \"\"\"\n",
    "        print(self.nacin_glasanja)"
   ]
  },
  {
   "cell_type": "markdown",
   "metadata": {
    "slideshow": {
     "slide_type": "slide"
    }
   },
   "source": [
    "## Instanca"
   ]
  },
  {
   "cell_type": "markdown",
   "metadata": {
    "slideshow": {
     "slide_type": "skip"
    }
   },
   "source": [
    "Za razliku od klase, koja je tek *nacrt* neke programske cjeline, instanca je kopija te klase sa zadatim vrijednostima atributa. Npr. dok je gore navedena klasa Ptica, tek jedan nacrt neke ptice, njena instanca bi mogla biti sova, nadimka Hedvig, raspona krila od 100 cm, bijele boje i koja se oglašava kao \"huuhuuhuu\"."
   ]
  },
  {
   "cell_type": "markdown",
   "metadata": {
    "slideshow": {
     "slide_type": "fragment"
    }
   },
   "source": [
    "Instanca klase se u Python-u formira stavivši otvorenu i zatvorenu zagradu nakon naziva klase."
   ]
  },
  {
   "cell_type": "code",
   "execution_count": 36,
   "metadata": {
    "slideshow": {
     "slide_type": "fragment"
    }
   },
   "outputs": [
    {
     "name": "stdout",
     "output_type": "stream",
     "text": [
      "<__main__.Primjer object at 0x108969f60>\n"
     ]
    }
   ],
   "source": [
    "instanca_primjera: Primjer = Primjer()\n",
    "\n",
    "print(instanca_primjera)"
   ]
  },
  {
   "cell_type": "markdown",
   "metadata": {
    "slideshow": {
     "slide_type": "skip"
    }
   },
   "source": [
    "*Fusnota: Primijetimo da je instanca_primjera tek jedan pokazivač na našu instancu. Također, primijetimo da smo klasu Primjer, bez ikakvih problema, naveli kao tip varijable instanca_primjera.*"
   ]
  },
  {
   "cell_type": "markdown",
   "metadata": {
    "slideshow": {
     "slide_type": "skip"
    }
   },
   "source": [
    "Ukoliko konstruktor klase prima neke atribute, prosljeđujemo ih kao parametre unutar otvorene i zatvorene zagrada pri instanciranju klase. Pogledajmo kako bi npr. mogla izgledati jedna instanca gore navedene klase Ptica."
   ]
  },
  {
   "cell_type": "code",
   "execution_count": 40,
   "metadata": {
    "slideshow": {
     "slide_type": "fragment"
    }
   },
   "outputs": [
    {
     "name": "stdout",
     "output_type": "stream",
     "text": [
      "<__main__.Ptica object at 0x108a11358>\n"
     ]
    }
   ],
   "source": [
    "sova_hedvig: Ptica = Ptica(100, 'huuhuuhuu', 'bijela', 'Hedvig')\n",
    "\n",
    "print(sova_hedvig)"
   ]
  },
  {
   "cell_type": "markdown",
   "metadata": {
    "slideshow": {
     "slide_type": "skip"
    }
   },
   "source": [
    "Python podržava i argumente sa ključnim riječima *(eng. keyword arguments)*. Primijetimo u narednom primjeru i kako pristupamo atributima ili metodama instance."
   ]
  },
  {
   "cell_type": "code",
   "execution_count": 43,
   "metadata": {
    "slideshow": {
     "slide_type": "fragment"
    }
   },
   "outputs": [
    {
     "name": "stdout",
     "output_type": "stream",
     "text": [
      "Hedvig\n",
      "huuhuuhuu\n"
     ]
    }
   ],
   "source": [
    "sova_hedvig: Ptica = Ptica(\n",
    "    raspon_krila=100,\n",
    "    nacin_glasanja='huuhuuhuu',\n",
    "    boja='bijela',\n",
    "    nadimak='Hedvig')\n",
    "    \n",
    "print(sova_hedvig.nadimak)\n",
    "sova_hedvig.oglasi_se()"
   ]
  },
  {
   "cell_type": "markdown",
   "metadata": {
    "slideshow": {
     "slide_type": "skip"
    }
   },
   "source": [
    "Prosljeđivanje argumenata na ovaj način je uvijek poželjno zbog pojednostavljene čitljivosti koda."
   ]
  },
  {
   "cell_type": "markdown",
   "metadata": {},
   "source": [
    "Vratimo se sada na primjer naveden u prethodnom potpoglavlju."
   ]
  },
  {
   "cell_type": "code",
   "execution_count": 44,
   "metadata": {
    "slideshow": {
     "slide_type": "slide"
    }
   },
   "outputs": [],
   "source": [
    "class PrimjerSaParametrima:  # Los primjer\n",
    "    brojcani_atribut: int = 0\n",
    "    tekstualni_atribut: str = 'Neki tekst'\n",
    "    \n",
    "    def __init__(self, brojcani_atribut: int, tekstualni_atribut: str) -> None:\n",
    "        self.brojcani_atribut = brojcani_atribut\n",
    "        self.tekstualni_atribut = tekstualni_atribut"
   ]
  },
  {
   "cell_type": "markdown",
   "metadata": {},
   "source": [
    "Pomenuli smo da Python razlikuje atribute klase i atribute instance. Atributi klase su vezani samo za klasu i oni *žive* van instanci klase, dok atributi instance se vežu isključivo za neku instancu klase. Tako na primjer, možemo pristupiti atributu klase bez da smo igdje instancirali datu klasu:"
   ]
  },
  {
   "cell_type": "code",
   "execution_count": 45,
   "metadata": {},
   "outputs": [
    {
     "name": "stdout",
     "output_type": "stream",
     "text": [
      "Neki tekst\n"
     ]
    }
   ],
   "source": [
    "print(PrimjerSaParametrima.tekstualni_atribut)"
   ]
  },
  {
   "cell_type": "markdown",
   "metadata": {},
   "source": [
    "Ukoliko želimo pristupiti atributu klase iz same klase, možemo ga jednostavno dohvatiti koristeći ključnu riječ **self**:"
   ]
  },
  {
   "cell_type": "code",
   "execution_count": 46,
   "metadata": {},
   "outputs": [
    {
     "name": "stdout",
     "output_type": "stream",
     "text": [
      "Ja sam atribut klase\n"
     ]
    },
    {
     "data": {
      "text/plain": [
       "<__main__.KlasaSaAtributomKlase at 0x108a2d400>"
      ]
     },
     "execution_count": 46,
     "metadata": {},
     "output_type": "execute_result"
    }
   ],
   "source": [
    "class KlasaSaAtributomKlase:\n",
    "    atribut_klase: str = 'Ja sam atribut klase'\n",
    "        \n",
    "    def __init__(self):\n",
    "        print(self.atribut_klase)\n",
    "\n",
    "KlasaSaAtributomKlase()"
   ]
  },
  {
   "cell_type": "markdown",
   "metadata": {},
   "source": [
    "Međutim, ukoliko unutar neke metode članice dodijelimo neku vrijednost atributu klase, on za tu instancu \"postaje\" atribut instance.\n",
    "Opaska: Takav atribut zapravo ne postane atribut instance, nego se kreira novi, istoimeni atribut instance kojem se dodijeli odgovarajuća vrijednost. Atribut instance ima privilegiju kod vezivanja sa ključnom riječi **self** i autor koda više ne može pristupiti atributu klase, unutar date instance, koristeći **self**. S toga djeluje kao da je atribut klase postao atribut instance. Da to nije slučaj, se može primijetiti u sljedećem primjeru."
   ]
  },
  {
   "cell_type": "code",
   "execution_count": 48,
   "metadata": {},
   "outputs": [
    {
     "name": "stdout",
     "output_type": "stream",
     "text": [
      "Ispisujemo atribut klase: Ja sam atribut klase\n",
      "Vrijednost atributa atribut_klase: Ja sam atribut klase\n",
      "Vrijednost atributa atribut_klase: A sada sam postao atributom instance\n",
      "Ispisujemo ponovo atribut klase: Ja sam atribut klase (Nije se promijenio)\n",
      "Ispisujemo atribut instance: A sada sam postao atributom instance\n",
      "Djeluje kao da su se atribut klase i atribut instance poistovijetili unutar instance \"instanca\".\n",
      "Medjutim to nije slucaj:\n",
      "Atribut klase unutar instance \"instaca\": Ja sam atribut klase\n",
      "Atribut instance unutar instance \"instaca\": A sada sam postao atributom instance\n"
     ]
    }
   ],
   "source": [
    "class KlasaSaAtributomKlase:\n",
    "    atribut_klase: str = 'Ja sam atribut klase'\n",
    "        \n",
    "    def __init__(self):\n",
    "        print(f'Vrijednost atributa atribut_klase: {self.atribut_klase}')\n",
    "        self.atribut_klase: str = 'A sada sam postao atributom instance'\n",
    "        print(f'Vrijednost atributa atribut_klase: {self.atribut_klase}')\n",
    "            \n",
    "\n",
    "print(f'Ispisujemo atribut klase: {KlasaSaAtributomKlase.atribut_klase}')\n",
    "instanca = KlasaSaAtributomKlase()\n",
    "print(f'Ispisujemo ponovo atribut klase: {KlasaSaAtributomKlase.atribut_klase} (Nije se promijenio)')\n",
    "print(f'Ispisujemo atribut instance: {instanca.atribut_klase}')\n",
    "\n",
    "print('Djeluje kao da su se atribut klase i atribut instance poistovijetili unutar instance \"instanca\".')\n",
    "print('Medjutim to nije slucaj:')\n",
    "\n",
    "print(f'Atribut klase unutar instance \"instaca\": {instanca.__class__.__dict__[\"atribut_klase\"]}')\n",
    "print(f'Atribut instance unutar instance \"instaca\": {instanca.__dict__[\"atribut_klase\"]}')"
   ]
  },
  {
   "cell_type": "markdown",
   "metadata": {},
   "source": [
    "Analizirajmo sada još jedan primjer naveden u prethodnom poglavlju."
   ]
  },
  {
   "cell_type": "code",
   "execution_count": 50,
   "metadata": {},
   "outputs": [],
   "source": [
    "class PrimjerSaParametrima:  # Los primjer\n",
    "    brojcani_atribut: int = 0\n",
    "    tekstualni_atribut: str = 'Neki tekst'\n",
    "    \n",
    "    def __init__(self, b_a: int, t_a: str) -> None:\n",
    "        brojcani_atribut: int = b_a\n",
    "        tekstualni_atribut: str = t_a\n",
    "    \n",
    "    def ispisi_tekstualni_atribut(self):\n",
    "        print(self.tekstualni_atribut)"
   ]
  },
  {
   "cell_type": "markdown",
   "metadata": {},
   "source": [
    "Pogledajmo kako se ponaša instanca date klase."
   ]
  },
  {
   "cell_type": "code",
   "execution_count": 51,
   "metadata": {},
   "outputs": [
    {
     "name": "stdout",
     "output_type": "stream",
     "text": [
      "Neki tekst\n"
     ]
    }
   ],
   "source": [
    "instanca = PrimjerSaParametrima(3, 'Drugi tekst')\n",
    "instanca.ispisi_tekstualni_atribut()"
   ]
  },
  {
   "cell_type": "markdown",
   "metadata": {},
   "source": [
    "Primijetimo da je ispisan tekst atributa klase. Tačnije, ukoliko bismo provjerili, vidjeli bismo da se odgovarajući atribut instance se nije ni formirao. To je zato što **brojcani_atribut** i **tekstualni_atribut** nisu ništa drugo do varijable kreirane unutar vidokruga (scope-a) konstruktora."
   ]
  },
  {
   "cell_type": "markdown",
   "metadata": {},
   "source": [
    "Ispravan način deklarisanja atributa klase i atributa instace jeste taj da im se samo ne miješaju imena (ukoliko za to nema potrebe). Tako bi ispravna implementacija date klase mogla glasiti kao:"
   ]
  },
  {
   "cell_type": "code",
   "execution_count": 55,
   "metadata": {},
   "outputs": [
    {
     "name": "stdout",
     "output_type": "stream",
     "text": [
      "Vrijednosti atributa klase:\n",
      "\tBrojcani atribut klase: 0\n",
      "\tTekstualni atribut klase Neki tekst\n",
      "Vrijednosti atributa instance:\n",
      "\tBrojcani atribut instance: 3\n",
      "\tTekstualni atribut instance: Drugi tekst\n"
     ]
    }
   ],
   "source": [
    "class PrimjerSaParametrima:  # Los primjer\n",
    "    brojcani_atribut_klase: int = 0\n",
    "    tekstualni_atribut_klase: str = 'Neki tekst'\n",
    "    \n",
    "    def __init__(self, brojcani_atribut: int, tekstualni_atribut: str) -> None:\n",
    "        self.brojcani_atribut: int = brojcani_atribut\n",
    "        self.tekstualni_atribut: str = tekstualni_atribut\n",
    "    \n",
    "    def ispisi_atribute(self):\n",
    "        print(f'Vrijednosti atributa klase:\\n'\n",
    "              f'\\tBrojcani atribut klase: {self.brojcani_atribut_klase}\\n'\n",
    "              f'\\tTekstualni atribut klase {self.tekstualni_atribut_klase}\\n'\n",
    "              f'Vrijednosti atributa instance:\\n'\n",
    "              f'\\tBrojcani atribut instance: {self.brojcani_atribut}\\n'\n",
    "              f'\\tTekstualni atribut instance: {self.tekstualni_atribut}')\n",
    "\n",
    "PrimjerSaParametrima(\n",
    "    brojcani_atribut = 3,\n",
    "    tekstualni_atribut = 'Drugi tekst').ispisi_atribute()"
   ]
  },
  {
   "cell_type": "markdown",
   "metadata": {},
   "source": [
    "## Enkapsulacija"
   ]
  },
  {
   "cell_type": "markdown",
   "metadata": {},
   "source": [
    "Nekada želimo, iz sigurnosnih ili nekih drugih razloga, da određenim metodama i atributima neke klase zabranimo pristup iz vana. To jeste da, na primjer, u implementaciji ispod omogućimo poziv metode *zabranjena_metoda* date instance samo i samo iz neke metode te instance."
   ]
  },
  {
   "cell_type": "code",
   "execution_count": 56,
   "metadata": {},
   "outputs": [
    {
     "name": "stdout",
     "output_type": "stream",
     "text": [
      "Dozvoljen poziv:\n",
      "Poziv ove metode je dozvoljen samo unutar instance ove klase.\n",
      "Poziv ove metode je dozvoljen samo unutar instance ove klase.\n"
     ]
    }
   ],
   "source": [
    "class KlasaSaZabranjenomMetodom:\n",
    "    def __init__(self):\n",
    "        pass\n",
    "    \n",
    "    def dozvoljena_metoda(self):\n",
    "        print('Dozvoljen poziv:')\n",
    "        self.zabranjena_metoda()\n",
    "    \n",
    "    def zabranjena_metoda(self):\n",
    "        print('Poziv ove metode je dozvoljen samo unutar instance ove klase.')\n",
    "\n",
    "instanca = KlasaSaZabranjenomMetodom()\n",
    "instanca.dozvoljena_metoda()  # Poziv dozvoljene metode van instance.\n",
    "instanca.zabranjena_metoda()  # Poziv zabranjene metode van instance. Zelimo da zabranimo ovakav poziv."
   ]
  },
  {
   "cell_type": "markdown",
   "metadata": {},
   "source": [
    "Koncept zabrane pristupa određenim metodata van instance date klase se naziva **enkapsulacijom**. Metode/atributi kojima je zabranjen pristup van instance se nazivaju **privatnim** metodama/atributima, a metode/atributi kojima je dozvoljen pristup iz vana se nazivaju **javnim** metodama/atributima. Postoje još i **zaštićene** metode/atributi ali o njima nećemo govoriti ovom prilikom."
   ]
  },
  {
   "cell_type": "markdown",
   "metadata": {},
   "source": [
    "Python **ne** omogućava enkapsulaciju. Dakle ne omogućava autoru koda da zabrani pristup nekim metodama/atributima neke klase i to pod opravdanjem: \"Svi smo mi odrasli ovdje\". Stoga Python, strogo govoreći nije objektno orijentisan jezik. Ali postoje odgovarajuće konvencije kod imenovanja metoda/atributa za koje autor želi da obznani da ih \"ne bi trebao\" niko direktno pozivati ili mijenjati. Tako ukoliko bismo željeli naznačiti da neka metoda nije javna, dovoljno ju je prefiksati sa underscore-om (_):"
   ]
  },
  {
   "cell_type": "code",
   "execution_count": 59,
   "metadata": {},
   "outputs": [
    {
     "name": "stdout",
     "output_type": "stream",
     "text": [
      "Dozvoljen poziv:\n",
      "Poziv ove metode je dozvoljen samo unutar instance ove klase.\n",
      "Poziv ove metode je dozvoljen samo unutar instance ove klase.\n"
     ]
    }
   ],
   "source": [
    "class KlasaSaZabranjenomMetodom:\n",
    "    def __init__(self):\n",
    "        pass\n",
    "    \n",
    "    def dozvoljena_metoda(self):\n",
    "        print('Dozvoljen poziv:')\n",
    "        self._zabranjena_metoda()\n",
    "    \n",
    "    def _zabranjena_metoda(self):\n",
    "        print('Poziv ove metode je dozvoljen samo unutar instance ove klase.')\n",
    "\n",
    "instanca = KlasaSaZabranjenomMetodom()\n",
    "instanca.dozvoljena_metoda()  # Poziv dozvoljene metode van instance.\n",
    "instanca._zabranjena_metoda()  # Poziv zabranjene metode van instance. Zelimo da zabranimo ovakav poziv, ali ne mozemo."
   ]
  },
  {
   "cell_type": "markdown",
   "metadata": {},
   "source": [
    "## Nasljeđivanje"
   ]
  },
  {
   "cell_type": "markdown",
   "metadata": {},
   "source": [
    "Recimo da želimo implementirati klase koje će prestavljati redom, papagaje, vrane i sove. Ponovo želimo da za svaku instanciranu pticu (bilo da je to papagaj, vrana ili sova) čuvamo informacije o tome koji je nadimak ptice, koje je boje, koliko joj je raspon krila i kako se oglašava. Jedan od načina implementacija datih klasa bi mogao biti sljedeći."
   ]
  },
  {
   "cell_type": "code",
   "execution_count": 73,
   "metadata": {},
   "outputs": [
    {
     "name": "stdout",
     "output_type": "stream",
     "text": [
      "\n"
     ]
    }
   ],
   "source": [
    "class Papagaj:\n",
    "    \"\"\"\n",
    "    Klasa koja predstavlja jednog papagaja i\n",
    "    čuva nekoliko informacija o istom kao što su:\n",
    "        - Raspon krila\n",
    "        - Način glasanja\n",
    "        - Boja\n",
    "        - Nadimak\n",
    "    i omogućava oglašavanje papagaja pozivanjem metode oglasi_se().\n",
    "    \"\"\"\n",
    "    def __init__(self, raspon_krila: float, nacin_glasanja: str, boja: str, nadimak: str = None) -> None:\n",
    "        \"\"\"\n",
    "        Konstruktor klase Papagaj.\n",
    "        \n",
    "        Args:\n",
    "            raspon_krila: Decimalna vrijednost u centimetrima koja čuva informaciju u rasponu krila papagaja.\n",
    "            nacin_glasanja: Zvuk kojim se papagaj oglašava. Tekstualna vrijednost.\n",
    "            boja: Boja papagaja. Tekstualna vrijednost.\n",
    "            nadimak: Nadimak papagaja. Ovaj parametar je opcionalan.\n",
    "        \"\"\"\n",
    "        self.raspon_krila: float = raspon_krila\n",
    "        self.nacin_glasanja: str = nacin_glasanja\n",
    "        self.boja: str = boja\n",
    "        self.nadimak: str = nadimak\n",
    "    \n",
    "    def oglasi_se(self) -> None:\n",
    "        \"\"\"\n",
    "        Metoda ispisuje zvuk kojim se papagaj oglašava.\n",
    "        \"\"\"\n",
    "        print(self.nacin_glasanja)\n",
    "\n",
    "        \n",
    "Papagaj(\n",
    "    raspon_krila='15',\n",
    "    nacin_glasanja='',  # Dati papagaj se ne oglašava.\n",
    "    boja='Zuta').oglasi_se()"
   ]
  },
  {
   "cell_type": "code",
   "execution_count": 86,
   "metadata": {},
   "outputs": [
    {
     "name": "stdout",
     "output_type": "stream",
     "text": [
      "Kree\n"
     ]
    }
   ],
   "source": [
    "class Vrana(Ptica):\n",
    "    \"\"\"\n",
    "    Klasa koja predstavlja jednu vranu i\n",
    "    čuva nekoliko informacija o istoj kao što su:\n",
    "        - Raspon krila\n",
    "        - Način glasanja\n",
    "        - Boja\n",
    "        - Nadimak\n",
    "    i omogućava oglašavanje vrane pozivanjem metode oglasi_se().\n",
    "    \"\"\"\n",
    "    def __init__(self, raspon_krila: float, nadimak: str = None) -> None:\n",
    "        \"\"\"\n",
    "        Konstruktor klase Papagaj.\n",
    "        \n",
    "        Args:\n",
    "            raspon_krila: Decimalna vrijednost u centimetrima koja čuva informaciju u rasponu krila vrane.\n",
    "            nadimak: Nadimak vrane. Ovaj parametar je opcionalan.\n",
    "        \"\"\"\n",
    "        self.raspon_krila: float = raspon_krila\n",
    "        self.nacin_glasanja: str = 'Kree'  # Sve vrane se isto oglasavaju\n",
    "        self.boja: str = 'Crna'  # Sve vrane su crne\n",
    "        self.nadimak: str = nadimak\n",
    "\n",
    "\n",
    "Vrana(raspon_krila='40').oglasi_se()"
   ]
  },
  {
   "cell_type": "code",
   "execution_count": 75,
   "metadata": {},
   "outputs": [
    {
     "name": "stdout",
     "output_type": "stream",
     "text": [
      "huuhuuhuu\n"
     ]
    }
   ],
   "source": [
    "class Sova:\n",
    "    \"\"\"\n",
    "    Klasa koja predstavlja jednu sovu i\n",
    "    čuva nekoliko informacija o istoj kao što su:\n",
    "        - Raspon krila\n",
    "        - Način glasanja\n",
    "        - Boja\n",
    "        - Nadimak\n",
    "    i omogućava oglašavanje sove pozivanjem metode oglasi_se().\n",
    "    \"\"\"\n",
    "    def __init__(self, raspon_krila: float, boja: str, nadimak: str = None) -> None:\n",
    "        \"\"\"\n",
    "        Konstruktor klase Papagaj.\n",
    "        \n",
    "        Args:\n",
    "            raspon_krila: Decimalna vrijednost u centimetrima koja čuva informaciju u rasponu krila sove.\n",
    "            boja: Boja sove. Tekstualna vrijednost.\n",
    "            nadimak: Nadimak sove. Ovaj parametar je opcionalan.\n",
    "        \"\"\"\n",
    "        self.raspon_krila: float = raspon_krila\n",
    "        self.nacin_glasanja: str = 'huuhuuhuu'  # Sve sove se oglašavaju isto.\n",
    "        self.boja: str = boja\n",
    "        self.nadimak: str = nadimak\n",
    "    \n",
    "    def oglasi_se(self) -> None:\n",
    "        \"\"\"\n",
    "        Metoda ispisuje zvuk kojim se sova oglašava.\n",
    "        \"\"\"\n",
    "        print(self.nacin_glasanja)\n",
    "\n",
    "\n",
    "Sova(\n",
    "    raspon_krila='100',\n",
    "    boja='Smedja').oglasi_se()"
   ]
  },
  {
   "cell_type": "markdown",
   "metadata": {},
   "source": [
    "Ovakva implementacija klasa će zadovoljiti sve potrebe korisnika naše aplikacije. Međutim, primijetimo da je dosta linija u svakoj klasi ponovljeno (kopirano) iz klase Ptica. Da bi se olakšao (ili skratio) posao programera kod implementacije klasa koje imaju zajedničke atribute i/ili funkcionalnosti, uveden je koncept nasljeđivanja klasa."
   ]
  },
  {
   "cell_type": "markdown",
   "metadata": {},
   "source": [
    "U slučaju kada se atributi/funckionalnosti klasa preklapaju, uvodi se praksa izdvajanja svih zajedničkih atributa/funkcionalnosti u jednu *roditeljsku* klasu, a onda, prilikom implementacije neke od tih klasa, jednom jednostavnom naredbom najprije kopiramo sav sadržaj roditeljske klase u klasu koju implementiramo. U tom slučaju kažemo da data klasa **nasljeđuje** datu roditeljsku klasu."
   ]
  },
  {
   "cell_type": "markdown",
   "metadata": {},
   "source": [
    "Nasljeđivanje se u Python-u implementira na sljedeći način:"
   ]
  },
  {
   "cell_type": "code",
   "execution_count": 64,
   "metadata": {},
   "outputs": [
    {
     "data": {
      "text/plain": [
       "<__main__.KlasaDijete at 0x108a2d198>"
      ]
     },
     "execution_count": 64,
     "metadata": {},
     "output_type": "execute_result"
    }
   ],
   "source": [
    "class KlasaRoditelj:\n",
    "    atribut_klase_roditelj = 'Ja sam atribut klase roditelj'\n",
    "\n",
    "            \n",
    "class KlasaDijete(KlasaRoditelj):\n",
    "    atribut_klase_dijete = 'Ja sam atribut klase dijete'\n",
    "\n",
    "\n",
    "KlasaDijete()"
   ]
  },
  {
   "cell_type": "markdown",
   "metadata": {},
   "source": [
    "Dakle, u nastavku imena klase unutar malih zagrada posljeđujemo naziv klase koju želimo naslijediti. Na ovaj način će KlasaDijete imati pristup svim atributima i metodama KlaseRoditelj."
   ]
  },
  {
   "cell_type": "markdown",
   "metadata": {},
   "source": [
    "Tako na primjer, u sljedećoj implementaciji instanca klase Dijete bez ikakvih problema pristupa bilo kom atributu (atributu klase ili atributu instance) i metodi naslijeđene klase Roditelj."
   ]
  },
  {
   "cell_type": "code",
   "execution_count": 66,
   "metadata": {},
   "outputs": [
    {
     "name": "stdout",
     "output_type": "stream",
     "text": [
      "Atribut instance klase Dijete: Ja sam atribut instance dijete\n",
      "Klasni atribut instance klase Dijete: Ja sam atribut klase dijete\n",
      "Atribut klase Roditelj dohvacen kroz instancu klase Dijete: Ja sam atribut klase roditelj\n"
     ]
    }
   ],
   "source": [
    "class Roditelj:\n",
    "    atribut_klase_roditelj = 'Ja sam atribut klase roditelj'\n",
    "    \n",
    "    def __init__(self, atribut_instance_roditelj: str) -> None:\n",
    "        self.atribut_instance_roditelj: str = atribut_instance_roditelj\n",
    "\n",
    "\n",
    "class Dijete(Roditelj):\n",
    "    atribut_klase_dijete = 'Ja sam atribut klase dijete'\n",
    "    \n",
    "    def __init__(self, atribut_instance_dijete: str) -> None:\n",
    "        self.atribut_instance_dijete: str = atribut_instance_dijete\n",
    "\n",
    "            \n",
    "instanca_klase_dijete: Dijete = Dijete(atribut_instance_dijete = 'Ja sam atribut instance dijete')\n",
    "print(f'Atribut instance klase Dijete: {instanca_klase_dijete.atribut_instance_dijete}')\n",
    "print(f'Klasni atribut instance klase Dijete: {instanca_klase_dijete.atribut_klase_dijete}')\n",
    "print(f'Atribut klase Roditelj dohvacen kroz instancu klase Dijete: {instanca_klase_dijete.atribut_klase_roditelj}')"
   ]
  },
  {
   "cell_type": "markdown",
   "metadata": {},
   "source": [
    "Međutim, ukoliko bismo željeli pristupiti atributu instance klase Roditelj, program će vratiti grešku:"
   ]
  },
  {
   "cell_type": "code",
   "execution_count": 67,
   "metadata": {},
   "outputs": [
    {
     "ename": "AttributeError",
     "evalue": "'Dijete' object has no attribute 'atribut_instance_roditelj'",
     "output_type": "error",
     "traceback": [
      "\u001b[0;31m---------------------------------------------------------------------------\u001b[0m",
      "\u001b[0;31mAttributeError\u001b[0m                            Traceback (most recent call last)",
      "\u001b[0;32m<ipython-input-67-8f7305b20907>\u001b[0m in \u001b[0;36m<module>\u001b[0;34m\u001b[0m\n\u001b[0;32m----> 1\u001b[0;31m \u001b[0mprint\u001b[0m\u001b[0;34m(\u001b[0m\u001b[0;34mf'Atribut instance Roditelj dohvacen kroz instancu klase Dijete: {instanca_klase_dijete.atribut_instance_roditelj}'\u001b[0m\u001b[0;34m)\u001b[0m\u001b[0;34m\u001b[0m\u001b[0;34m\u001b[0m\u001b[0m\n\u001b[0m",
      "\u001b[0;31mAttributeError\u001b[0m: 'Dijete' object has no attribute 'atribut_instance_roditelj'"
     ]
    }
   ],
   "source": [
    "print(f'Atribut instance Roditelj dohvacen kroz instancu klase Dijete: {instanca_klase_dijete.atribut_instance_roditelj}')"
   ]
  },
  {
   "cell_type": "markdown",
   "metadata": {},
   "source": [
    "To je zato što se prilikom instaciranja klase Dijete, konstruktor roditeljske klase ne izvršava, te se time atribut instance klase Roditelj nikada ne formira. Da bi se formirao atribut instance roditeljske klase, potrebno je da unutar konstruktora klase Dijete, eksplicitno pozovemo konstruktor naslijeđene klase, proslijedivši mu odgovarajuće parametre. Svim metodama/atributima naslijeđene klase pristupa koristeći funkciju **super()** na sljedeći način:"
   ]
  },
  {
   "cell_type": "code",
   "execution_count": 70,
   "metadata": {},
   "outputs": [
    {
     "name": "stdout",
     "output_type": "stream",
     "text": [
      "<super: <class 'Dijete'>, <Dijete object>>\n",
      "Atribut instance klase Dijete: Ja sam atribut instance dijete\n",
      "Klasni atribut instance klase Dijete: Ja sam atribut klase dijete\n",
      "Atribut klase Roditelj dohvacen kroz instancu klase Dijete: Ja sam atribut klase roditelj\n",
      "Atribut instance Roditelj dohvacen kroz instancu klase Dijete: Ja sam atribut instance roditelj\n"
     ]
    }
   ],
   "source": [
    "class Roditelj:\n",
    "    atribut_klase_roditelj = 'Ja sam atribut klase roditelj'\n",
    "    \n",
    "    def __init__(self, atribut_instance_roditelj: str) -> None:\n",
    "        self.atribut_instance_roditelj: str = atribut_instance_roditelj\n",
    "\n",
    "\n",
    "class Dijete(Roditelj):\n",
    "    atribut_klase_dijete = 'Ja sam atribut klase dijete'\n",
    "    \n",
    "    def __init__(self, atribut_instance_dijete: str, atribut_instance_roditelj: str) -> None:\n",
    "        super().__init__(atribut_instance_roditelj=atribut_instance_roditelj)\n",
    "        print(super())  # super() mozemo tretirati kao pokazivac na naslijedjenu klasu\n",
    "        self.atribut_instance_dijete: str = atribut_instance_dijete\n",
    "\n",
    "\n",
    "instanca_klase_dijete: Dijete = Dijete(\n",
    "    atribut_instance_dijete = 'Ja sam atribut instance dijete',\n",
    "    atribut_instance_roditelj = 'Ja sam atribut instance roditelj')\n",
    "print(f'Atribut instance klase Dijete: {instanca_klase_dijete.atribut_instance_dijete}')\n",
    "print(f'Klasni atribut instance klase Dijete: {instanca_klase_dijete.atribut_klase_dijete}')\n",
    "print(f'Atribut klase Roditelj dohvacen kroz instancu klase Dijete: {instanca_klase_dijete.atribut_klase_roditelj}')\n",
    "print(f'Atribut instance Roditelj dohvacen kroz instancu klase Dijete: {instanca_klase_dijete.atribut_instance_roditelj}')"
   ]
  },
  {
   "cell_type": "markdown",
   "metadata": {},
   "source": [
    "Pogledajmo sada kako bismo mogli implementirati gore navedene klase Papagaj, Vrana i Sova koristeći nasljeđivanje."
   ]
  },
  {
   "cell_type": "code",
   "execution_count": 77,
   "metadata": {},
   "outputs": [
    {
     "name": "stdout",
     "output_type": "stream",
     "text": [
      "Life is a conundrum of esoterica!\n"
     ]
    }
   ],
   "source": [
    "class Papagaj(Ptica):\n",
    "    \"\"\"\n",
    "    Klasa koja predstavlja jednog papagaja i\n",
    "    čuva nekoliko informacija o istom kao što su:\n",
    "        - Raspon krila\n",
    "        - Način glasanja\n",
    "        - Boja\n",
    "        - Nadimak\n",
    "    i omogućava oglašavanje papagaja pozivanjem metode oglasi_se().\n",
    "    \"\"\"\n",
    "    def __init__(self, raspon_krila: float, nacin_glasanja: str, boja: str, nadimak: str = None) -> None:\n",
    "        \"\"\"\n",
    "        Konstruktor klase Papagaj.\n",
    "        \n",
    "        Args:\n",
    "            raspon_krila: Decimalna vrijednost u centimetrima koja čuva informaciju u rasponu krila papagaja.\n",
    "            nacin_glasanja: Zvuk kojim se papagaj oglašava. Tekstualna vrijednost.\n",
    "            boja: Boja papagaja. Tekstualna vrijednost.\n",
    "            nadimak: Nadimak papagaja. Ovaj parametar je opcionalan.\n",
    "        \"\"\"\n",
    "        super().__init__(\n",
    "            raspon_krila=raspon_krila,\n",
    "            nacin_glasanja=nacin_glasanja,\n",
    "            boja=boja,\n",
    "            nadimak=nadimak)\n",
    "\n",
    "\n",
    "Papagaj(\n",
    "    raspon_krila='15',\n",
    "    nacin_glasanja='Life is a conundrum of esoterica!',  # Dati papagaj se ne oglašava.\n",
    "    boja='Zuta').oglasi_se()"
   ]
  },
  {
   "cell_type": "code",
   "execution_count": 87,
   "metadata": {},
   "outputs": [
    {
     "name": "stdout",
     "output_type": "stream",
     "text": [
      "Kree\n"
     ]
    }
   ],
   "source": [
    "class Vrana(Ptica):\n",
    "    \"\"\"\n",
    "    Klasa koja predstavlja jednu vranu i\n",
    "    čuva nekoliko informacija o istoj kao što su:\n",
    "        - Raspon krila\n",
    "        - Način glasanja\n",
    "        - Boja\n",
    "        - Nadimak\n",
    "    i omogućava oglašavanje vrane pozivanjem metode oglasi_se().\n",
    "    \"\"\"\n",
    "    nacin_glasanja: str = 'Kree'  # Sve vrane se isto oglasavaju\n",
    "    boja: str = 'Crna'  # Sve vrane su crne\n",
    "\n",
    "    def __init__(self, raspon_krila: float, nadimak: str = None) -> None:\n",
    "        \"\"\"\n",
    "        Konstruktor klase Papagaj.\n",
    "        \n",
    "        Args:\n",
    "            raspon_krila: Decimalna vrijednost u centimetrima koja čuva informaciju u rasponu krila vrane.\n",
    "            nadimak: Nadimak vrane. Ovaj parametar je opcionalan.\n",
    "        \"\"\"\n",
    "        super().__init__(\n",
    "            raspon_krila=raspon_krila,\n",
    "            nacin_glasanja=self.nacin_glasanja,\n",
    "            boja=self.boja,\n",
    "            nadimak=nadimak)\n",
    "\n",
    "\n",
    "Vrana(raspon_krila='40').oglasi_se()"
   ]
  },
  {
   "cell_type": "code",
   "execution_count": 81,
   "metadata": {},
   "outputs": [
    {
     "name": "stdout",
     "output_type": "stream",
     "text": [
      "huuhuuhuu\n"
     ]
    }
   ],
   "source": [
    "class Sova(Ptica):\n",
    "    \"\"\"\n",
    "    Klasa koja predstavlja jedne sove i\n",
    "    čuva nekoliko informacija o istoj kao što su:\n",
    "        - Raspon krila\n",
    "        - Način glasanja\n",
    "        - Boja\n",
    "        - Nadimak\n",
    "    i omogućava oglašavanje sove pozivanjem metode oglasi_se().\n",
    "    \"\"\"\n",
    "    nacin_glasanja: str = 'huuhuuhuu'\n",
    "    \n",
    "    def __init__(self, raspon_krila: float, boja: str, nadimak: str = None) -> None:\n",
    "        \"\"\"\n",
    "        Konstruktor klase Sova.\n",
    "        \n",
    "        Args:\n",
    "            raspon_krila: Decimalna vrijednost u centimetrima koja čuva informaciju u rasponu krila sove.\n",
    "            nacin_glasanja: Zvuk kojim se sova oglašava. Tekstualna vrijednost.\n",
    "            boja: Boja sove. Tekstualna vrijednost.\n",
    "            nadimak: Nadimak sove. Ovaj parametar je opcionalan.\n",
    "        \"\"\"\n",
    "        super().__init__(\n",
    "            raspon_krila=raspon_krila,\n",
    "            nacin_glasanja=self.nacin_glasanja,\n",
    "            boja=boja,\n",
    "            nadimak=nadimak)\n",
    "\n",
    "\n",
    "Sova(\n",
    "    raspon_krila='100',\n",
    "    boja='Smedja').oglasi_se()"
   ]
  },
  {
   "cell_type": "markdown",
   "metadata": {},
   "source": [
    "## Polimorfizam"
   ]
  },
  {
   "cell_type": "markdown",
   "metadata": {},
   "source": [
    "Nekada želimo da neku metodu iz naslijeđene klase prilagodimo datoj klasi (klasi koja nasljeđuje). Način na koji to radimo u Python-u jeste da jednostavno *prepišemo* datu metodu u novoj klasi:"
   ]
  },
  {
   "cell_type": "code",
   "execution_count": 82,
   "metadata": {},
   "outputs": [
    {
     "name": "stdout",
     "output_type": "stream",
     "text": [
      "Ova vrana ima raspon krila 40cm i oglasava se sa:\n",
      "Kree\n"
     ]
    }
   ],
   "source": [
    "class Vrana(Ptica):\n",
    "    \"\"\"\n",
    "    Klasa koja predstavlja jednu vranu i\n",
    "    čuva nekoliko informacija o istoj kao što su:\n",
    "        - Raspon krila\n",
    "        - Način glasanja\n",
    "        - Boja\n",
    "        - Nadimak\n",
    "    i omogućava oglašavanje vrane pozivanjem metode oglasi_se().\n",
    "    \"\"\"\n",
    "    nacin_glasanja: str = 'Kree'  # Sve vrane se isto oglasavaju\n",
    "    boja: str = 'Crna'  # Sve vrane su crne\n",
    "\n",
    "    def __init__(self, raspon_krila: float, nadimak: str = None) -> None:\n",
    "        \"\"\"\n",
    "        Konstruktor klase Papagaj.\n",
    "        \n",
    "        Args:\n",
    "            raspon_krila: Decimalna vrijednost u centimetrima koja čuva informaciju u rasponu krila vrane.\n",
    "            nadimak: Nadimak vrane. Ovaj parametar je opcionalan.\n",
    "        \"\"\"\n",
    "        super().__init__(\n",
    "            raspon_krila=raspon_krila,\n",
    "            nacin_glasanja=self.nacin_glasanja,\n",
    "            boja=self.boja,\n",
    "            nadimak=nadimak)\n",
    "    \n",
    "    def oglasi_se(self) -> None:\n",
    "        \"\"\"\n",
    "        Metoda ispisuje zvuk kojim se papagaj oglašava.\n",
    "        \"\"\"\n",
    "        print(f'Ova vrana ima raspon krila {self.raspon_krila}cm i oglasava se sa:')\n",
    "        super().oglasi_se()  # Pozivamo metodu za oglasavanje iz naslijedjene klase.\n",
    "\n",
    "\n",
    "Vrana(raspon_krila='40').oglasi_se()"
   ]
  },
  {
   "cell_type": "markdown",
   "metadata": {},
   "source": [
    "Koncept \"prepisivanja\" metode iz naslijeđene klase se naziva \"Overriding\"."
   ]
  },
  {
   "cell_type": "markdown",
   "metadata": {},
   "source": [
    "Ukoliko dolazimo iz programskog jezika kao što je npr. C++, upoznati smo sa konceptom preopterećenja (eng. overloading) metoda: Deklarisanja istoimenih metoda unutar iste klase sa različitim potpisom (različitim argumentima). Za programske jezike koji podržavaju *overriding* i *overloading* kažemo da podržavaju koncept **polimorfizma**. Koncept overloading-a nije podržan u programskom jeziku Python (barem ne nativno, mada imaju neki trikovi za simulaciju istog), stoga Python ne podržava polimorfizam u punom smislu tog koncepta."
   ]
  },
  {
   "cell_type": "markdown",
   "metadata": {},
   "source": [
    "## Apstrakcija"
   ]
  },
  {
   "cell_type": "markdown",
   "metadata": {},
   "source": [
    "Nekada želimo da programeri koji čitaju naš kod i analiziraju naše klase imaju olakšan uvid u to koje sve javne metode data klasa ima, ili **šta** to sve data klasa radi, bez detaljne analize **kako** data klasa nešto radi, to jeste, bez detaljne analize implementacija javnih metoda."
   ]
  },
  {
   "cell_type": "markdown",
   "metadata": {},
   "source": [
    "Python nudi način implementacije date funkcionalnosti kroz **apstraktne** klase i to na sljedeći način:"
   ]
  },
  {
   "cell_type": "code",
   "execution_count": 88,
   "metadata": {},
   "outputs": [],
   "source": [
    "import abc\n",
    "\n",
    "\n",
    "class ApstraktnaKlasa(abc.ABC):\n",
    "    @abc.abstractmethod\n",
    "    def apstraktna_metoda(self) -> None:\n",
    "        raise NotImplementedError()"
   ]
  },
  {
   "cell_type": "markdown",
   "metadata": {},
   "source": [
    "Dakle, dovoljno je da naslijedimo klasu **ABC** iz modula **abc** da bismo naznačili da je neka klasa apstraktna. Za svaku metodu za koju želimo naglasiti da je apstraktna (tj. da je u datoj klasi samo navedena, te da se njena implementacija očekuje u naslijeđenoj klasi) je dovoljno da joj pridružimo *dekorator* @abc.abstractmethod."
   ]
  },
  {
   "cell_type": "markdown",
   "metadata": {},
   "source": [
    "Naznačivši da je neka metoda apstraktna, dajemo do znanja onome ko nasljeđuje klasu, da data metoda zahtijeva *override* (implementaciju)."
   ]
  },
  {
   "cell_type": "markdown",
   "metadata": {},
   "source": [
    "## Zadatak za LV"
   ]
  },
  {
   "cell_type": "markdown",
   "metadata": {},
   "source": [
    "*Napomena: Sve sto napišete treba biti na engleskom jeziku.<br>*\n",
    "1. Kreirajte klasu **Pets** koja će imati atribut instance u kom će čuvati listu instanci klasa **Dog**. Ova klasa je potpuno odvojena od klase **Dog**. Drugim riječima, klasa **Dog** ne nasljeđuje klasu **Pets**. Zatim dodijelite tri instance klase **Dog** instanci klase **Pets**. Počnite sa kodom ispod. Klasa **Pets** treba imati metodu **report()** koja će ispisivati stanje u instanci klase **Pets**. Npr. njen ispis bi mogao izgledati ovako: <br><br>\n",
    "*I have 3 dogs.<br>\n",
    "Tom is 6.<br>\n",
    "Fletcher is 7.<br>\n",
    "Larry is 9.<br>\n",
    "And they're all mammals, of course.<br><br>*\n",
    "\n",
    "2. Dodajte atribut instance *is_hungry = True* u klasu **Dog**. Zatim dodajte metodu naziva **eat()** koja mijenja vrijednost od *is_hungry* u *False* kada se pozove. Otkrijte najbolji način da nahranite svakog psa u vašoj instanci klase **Pets**, a zatim ispišite \"My dogs are hungry.\" ako su svi gladni ili \"My dogs are not hungry.\" ako su svi siti. Primjer jednog ispisa bi mogao izgledati ovako: <br><br>\n",
    "*I have 3 dogs.<br>\n",
    "Tom is 6.<br>\n",
    "Fletcher is 7.<br>\n",
    "Larry is 9.<br>\n",
    "And they're all mammals, of course.<br>\n",
    "My dogs are not hungry.<br><br>*\n",
    "\n",
    "3. Dodajte metodu **walk()** u klasu **Pets** i **Dog** tako da kada pozovete metodu u instanci klase **Pets**, svaka instanca psa dodijeljena instanci klase **Pets** će pozvati svoju metodu **walk()** koja vraća string koji sadrži odgovarajuću poruku u kojoj stoji da dati pas hoda. Ispis bi mogao izgledati ovako:<br><br>\n",
    "*Tom is walking!<br>\n",
    "Fletcher is walking!<br>\n",
    "Larry is walking!<br>*"
   ]
  },
  {
   "cell_type": "code",
   "execution_count": 84,
   "metadata": {},
   "outputs": [],
   "source": [
    "# Parent class\n",
    "class Dog:\n",
    "\n",
    "    # Class attribute\n",
    "    species = 'mammal'\n",
    "\n",
    "    # Initializer / Instance attributes\n",
    "    def __init__(self, name, age):\n",
    "        self.name = name\n",
    "        self.age = age\n",
    "\n",
    "    # instance method\n",
    "    def description(self):\n",
    "        return f'{self.name} is {self.age} years old'\n",
    "\n",
    "    # instance method\n",
    "    def speak(self, sound):\n",
    "        return f'{self.name} says {self.sound}'\n",
    "\n",
    "# Child class (inherits from Dog class)\n",
    "class RussellTerrier(Dog):\n",
    "    def run(self, speed):\n",
    "        return f'{self.name} runs {speed}'\n",
    "\n",
    "# Child class (inherits from Dog class)\n",
    "class Bulldog(Dog):\n",
    "    def run(self, speed):\n",
    "        return f'{self.name} runs {self.speed}'"
   ]
  }
 ],
 "metadata": {
  "kernelspec": {
   "display_name": "Python 3",
   "language": "python",
   "name": "python3"
  },
  "language_info": {
   "codemirror_mode": {
    "name": "ipython",
    "version": 3
   },
   "file_extension": ".py",
   "mimetype": "text/x-python",
   "name": "python",
   "nbconvert_exporter": "python",
   "pygments_lexer": "ipython3",
   "version": "3.7.2"
  },
  "livereveal": {
   "theme": "serif"
  }
 },
 "nbformat": 4,
 "nbformat_minor": 2
}
