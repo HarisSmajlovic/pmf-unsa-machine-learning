{
 "cells": [
  {
   "cell_type": "markdown",
   "metadata": {},
   "source": [
    "# Linearna regresija"
   ]
  },
  {
   "cell_type": "markdown",
   "metadata": {},
   "source": [
    "Jedan od prvih algoritama za nalaženje trenda među podacima je ***Linearna regresija***. Ovaj algoritam nadgledanog učenja, unatoč postojanju nekolicine kvalitetnijih algoritama u istoj oblasti, uglavnom zbog svoje jednostavnosti nalazi široku primjenu u praksi.\n",
    "\n",
    "Trend podataka je, grubo rečeno, patern po kom se podaci ponavljaju za dati input. Npr. ukoliko primijetimo da se cijena neke konkretne tipe auta (npr. BMW m3 e46) smanjuje sa brojem pređenih kilometara, kažemo da je cijena te tipe auta opadajućeg trenda u odnosu na input **broj pređenih kilometara**. Recimo još da smo se domogli stvarnih podataka u kojima imamo informaciju o različitim cijenama date tipe auta za respektivan broj pređenih kilometara. Analizom parova (broj pređenih kilometara, cijena auta) možemo \"izračunati\" i na koji način cijena auta ovisi o broju pređenih kilometara. Konkretno u ovom slučaju možemo izračunati kojom \"brzinom\" opada cijena auta rastom broja pređenih kilometara. Na taj način kažemo da smo izračunali (ili često rečeno, uhvatili) trend po kojim se cijena auta mijenja u odnosu na broj pređenih kilometara i time možemo za bilo koji broj pređenih kilometara, o kom nemamo informaciju u skupu podataka kog smo se domogli, izračunati (uglavnom aproksimativno) cijenu auta. Ovaj način aproksimativnog računanja nekog podatka se naziva **predikcijom** datog podatka, a **način** kojim \"računamo\" isti se naziva **modelom predikcije** ili **modelom učenja** ili **modelom mašinskog učenja**. Tako da možemo kazati da je **regresija** upravo jedan model mašinskog učenja i to tačnije, model **nadgledanog** mašinskog učenja. Rroces kroz koji smo \"izračunali\" zavisnost između ulaznih i izlaznih podataka modela, konkretno u primjeru iznad, između cijene auta i broja pređenih kilometara, se naziva **treningom** ili **obučavanjem** modela nad datim skupom podataka, a dati skup podataka, **trening skupom** podataka."
   ]
  },
  {
   "cell_type": "markdown",
   "metadata": {},
   "source": [
    "Prisjetimo se (sa predavanja) da je element trening skupa, bilo kog modela nadgeldanog mašinskog učenja, formata ($\\overline{x}$, $\\overline{y}$) gdje $\\overline{x}$ odgovara ulaznom, a $\\overline{y}$ izlaznom podatku modela. *Svaki model nadgledanog mašinskog učenja, u suštini, nije ništa do jedna **funkcija** koja prima određene podatke kao input i na osnovu tih podataka računa i vraća neki rezultat.*"
   ]
  },
  {
   "cell_type": "markdown",
   "metadata": {},
   "source": [
    "Recimo da imamo na raspolaganju sljedeći trening skup: {(10000, 31000), (400000, 19000), (5000, 32000), (0, 40000), (1000, 33000), (100000, 26000), (50000, 29000), (50, 35000), (20000, 30000), (200000, 20000)}, gdje u svakom elementu skupa $(x, y)$, $x$ odgovara pređenom broju kilometara, a $y$ cijeni nekog auta. Smjestimo dati trening skup u niz `car_mileage_vs_value_data_set`:"
   ]
  },
  {
   "cell_type": "code",
   "execution_count": 2,
   "metadata": {},
   "outputs": [],
   "source": [
    "from typing import List, Tuple\n",
    "\n",
    "car_mileage_vs_value_data_set: List[List[int]] = [\n",
    "    (10000, 31000), (400000, 19000), (5000, 32000), (0, 40000),\n",
    "    (1000, 33000), (100000, 26000), (50000, 29000), (50, 35000),\n",
    "    (20000, 30000), (200000, 20000)]"
   ]
  },
  {
   "cell_type": "markdown",
   "metadata": {},
   "source": [
    "Konvertujmo dati niz u *numpy* niz radi lakše manipulacije istim:"
   ]
  },
  {
   "cell_type": "code",
   "execution_count": 3,
   "metadata": {},
   "outputs": [],
   "source": [
    "import numpy as np\n",
    "\n",
    "car_mileage_vs_value_data_set: np.ndarray = np.array(car_mileage_vs_value_data_set)"
   ]
  },
  {
   "cell_type": "markdown",
   "metadata": {
    "slideshow": {
     "slide_type": "slide"
    }
   },
   "source": [
    "Iscrtajmo dati trening skup uz napomene ispod:\n",
    "1. Koristimo biblioteku za vizualizaciju `plotly`.\n",
    "2. Naredba `ply.init_notebook_mode(connected=True)` daje do znanja biblioteci Plotly da se sva iscrtavanja vrše u Jupyter Notebook okruženju.\n",
    "2. `car_mileage_vs_value_data_set` je sada dvodimenzionalni *numpy* niz.\n",
    "3. `car_mileage_vs_value_data_set.T` vraća transponovanu matricu `car_mileage_vs_value_data_set`.\n",
    "4. `car_mileage_vs_value_data_set.T[0]` je jednodimenzionalni niz vrijednosti pređenih kilometara auta.\n",
    "5. `car_mileage_vs_value_data_set.T[1]` je jednodimenzionalni niz vrijednosti cijena auta.\n",
    "6. `go.Scatter()` formira objekat iz biblioteke Plotly koji čuva informaciju u podacima koje treba iscrtati kao i o formatu iscrtavanja istih.\n",
    "7. Slično je i sa `go.Layout()`. Formira se objekat koji čuva informaciju o formatu iscrtavanja plana (layout-a) cijelog plota (bez podataka).\n",
    "8. Objekat `go.Figure` objedinjuje informacije u *Scatter* i *Layout* objektu i naredba *ply.iplot()* vrši samo iscrtavanje.\n",
    "9. `typehint` se po konvenciji ne koristi kod instanciranja klasa."
   ]
  },
  {
   "cell_type": "code",
   "execution_count": 11,
   "metadata": {},
   "outputs": [
    {
     "data": {
      "text/html": [
       "<script type=\"text/javascript\">window.PlotlyConfig = {MathJaxConfig: 'local'};</script><script type=\"text/javascript\">if (window.MathJax) {MathJax.Hub.Config({SVG: {font: \"STIX-Web\"}});}</script><script>requirejs.config({paths: { 'plotly': ['https://cdn.plot.ly/plotly-latest.min']},});if(!window._Plotly) {require(['plotly'],function(plotly) {window._Plotly=plotly;});}</script>"
      ],
      "text/vnd.plotly.v1+html": [
       "<script type=\"text/javascript\">window.PlotlyConfig = {MathJaxConfig: 'local'};</script><script type=\"text/javascript\">if (window.MathJax) {MathJax.Hub.Config({SVG: {font: \"STIX-Web\"}});}</script><script>requirejs.config({paths: { 'plotly': ['https://cdn.plot.ly/plotly-latest.min']},});if(!window._Plotly) {require(['plotly'],function(plotly) {window._Plotly=plotly;});}</script>"
      ]
     },
     "metadata": {},
     "output_type": "display_data"
    },
    {
     "data": {
      "application/vnd.plotly.v1+json": {
       "config": {
        "linkText": "Export to plot.ly",
        "plotlyServerURL": "https://plot.ly",
        "showLink": false
       },
       "data": [
        {
         "marker": {
          "color": "black"
         },
         "mode": "markers",
         "type": "scatter",
         "uid": "69e940b0-30de-43bf-9bf1-3b8170ab14d8",
         "x": [
          10000,
          400000,
          5000,
          0,
          1000,
          100000,
          50000,
          50,
          20000,
          200000
         ],
         "y": [
          31000,
          19000,
          32000,
          40000,
          33000,
          26000,
          29000,
          35000,
          30000,
          20000
         ]
        }
       ],
       "layout": {
        "hovermode": "closest",
        "showlegend": false,
        "xaxis": {
         "showticklabels": true,
         "ticks": "",
         "zeroline": false
        },
        "yaxis": {
         "showticklabels": true,
         "ticks": "",
         "zeroline": false
        }
       }
      },
      "text/html": [
       "<div id=\"c9ee609f-eae8-4b55-9d27-e4e745b55e68\" style=\"height: 525px; width: 100%;\" class=\"plotly-graph-div\"></div><script type=\"text/javascript\">require([\"plotly\"], function(Plotly) { window.PLOTLYENV=window.PLOTLYENV || {};window.PLOTLYENV.BASE_URL=\"https://plot.ly\";\n",
       "if (document.getElementById(\"c9ee609f-eae8-4b55-9d27-e4e745b55e68\")) {\n",
       "    Plotly.newPlot(\"c9ee609f-eae8-4b55-9d27-e4e745b55e68\", [{\"marker\": {\"color\": \"black\"}, \"mode\": \"markers\", \"x\": [10000, 400000, 5000, 0, 1000, 100000, 50000, 50, 20000, 200000], \"y\": [31000, 19000, 32000, 40000, 33000, 26000, 29000, 35000, 30000, 20000], \"type\": \"scatter\", \"uid\": \"69e940b0-30de-43bf-9bf1-3b8170ab14d8\"}], {\"hovermode\": \"closest\", \"showlegend\": false, \"xaxis\": {\"showticklabels\": true, \"ticks\": \"\", \"zeroline\": false}, \"yaxis\": {\"showticklabels\": true, \"ticks\": \"\", \"zeroline\": false}}, {\"showLink\": false, \"linkText\": \"Export to plot.ly\", \"plotlyServerURL\": \"https://plot.ly\"}); \n",
       "}\n",
       "});</script><script type=\"text/javascript\">window.addEventListener(\"resize\", function(){if (document.getElementById(\"c9ee609f-eae8-4b55-9d27-e4e745b55e68\")) {window._Plotly.Plots.resize(document.getElementById(\"c9ee609f-eae8-4b55-9d27-e4e745b55e68\"));};})</script>"
      ],
      "text/vnd.plotly.v1+html": [
       "<div id=\"c9ee609f-eae8-4b55-9d27-e4e745b55e68\" style=\"height: 525px; width: 100%;\" class=\"plotly-graph-div\"></div><script type=\"text/javascript\">require([\"plotly\"], function(Plotly) { window.PLOTLYENV=window.PLOTLYENV || {};window.PLOTLYENV.BASE_URL=\"https://plot.ly\";\n",
       "if (document.getElementById(\"c9ee609f-eae8-4b55-9d27-e4e745b55e68\")) {\n",
       "    Plotly.newPlot(\"c9ee609f-eae8-4b55-9d27-e4e745b55e68\", [{\"marker\": {\"color\": \"black\"}, \"mode\": \"markers\", \"x\": [10000, 400000, 5000, 0, 1000, 100000, 50000, 50, 20000, 200000], \"y\": [31000, 19000, 32000, 40000, 33000, 26000, 29000, 35000, 30000, 20000], \"type\": \"scatter\", \"uid\": \"69e940b0-30de-43bf-9bf1-3b8170ab14d8\"}], {\"hovermode\": \"closest\", \"showlegend\": false, \"xaxis\": {\"showticklabels\": true, \"ticks\": \"\", \"zeroline\": false}, \"yaxis\": {\"showticklabels\": true, \"ticks\": \"\", \"zeroline\": false}}, {\"showLink\": false, \"linkText\": \"Export to plot.ly\", \"plotlyServerURL\": \"https://plot.ly\"}); \n",
       "}\n",
       "});</script><script type=\"text/javascript\">window.addEventListener(\"resize\", function(){if (document.getElementById(\"c9ee609f-eae8-4b55-9d27-e4e745b55e68\")) {window._Plotly.Plots.resize(document.getElementById(\"c9ee609f-eae8-4b55-9d27-e4e745b55e68\"));};})</script>"
      ]
     },
     "metadata": {},
     "output_type": "display_data"
    }
   ],
   "source": [
    "import plotly.offline as ply\n",
    "import plotly.graph_objs as go\n",
    "\n",
    "ply.init_notebook_mode(connected=True)\n",
    "\n",
    "car_mileages: np.ndarray = car_mileage_vs_value_data_set.T[0]\n",
    "car_values: np.ndarray = car_mileage_vs_value_data_set.T[1]\n",
    "\n",
    "plot_data = go.Scatter(x=car_mileages, \n",
    "                       y=car_values, \n",
    "                       mode='markers',\n",
    "                       marker=dict(color='black'))\n",
    "\n",
    "layout = go.Layout(xaxis=dict(ticks='', showticklabels=True,\n",
    "                              zeroline=False),\n",
    "                   yaxis=dict(ticks='', showticklabels=True,\n",
    "                              zeroline=False),\n",
    "                   showlegend=False, hovermode='closest')\n",
    "\n",
    "figure = go.Figure(data=[plot_data], layout=layout)\n",
    "\n",
    "ply.iplot(figure)"
   ]
  },
  {
   "cell_type": "markdown",
   "metadata": {},
   "source": [
    "Intuitivno, na navedenom primjeru, ideja linearne regresije je sadržana u pronalasku prave $p: y = m_1\\cdot x + m_0$ takve da je vrijednost funkcije greške date prave nad datim trening skupom što manja *(pogledati poglavlje o Regresionoj analizi u profesorovoj skripti za više informacija u funkcijama greške)*. Koristiti ćemo *mean squared error* kao funkciju greške. Dakle želimo da pronađemo parametre $m_1$ i $m_2$ takve da vrijednost $\\frac{1}{|\\chi|}\\cdot\\sum_{(x, y) \\in \\chi}{(m_1\\cdot x + m_0 - y)^2}$ bude što manja, gdje je $\\chi$ naš trening skup. Drugim riječima, želimo da pronađemo položaj prave $p$ takav da je, za sve parove $(x_i, y_i)$ trening skupa, (kumulativno) odstupanje vrijednosti $m_1\\cdot x_i + m_0$ od $y_i$ što manja."
   ]
  },
  {
   "cell_type": "markdown",
   "metadata": {},
   "source": [
    "Kada pronađemo takve parametre, nazovimo ih $m_1^*$ i $m_0^*$, to jeste pravu $p^*: y = m_1^*\\cdot x + m_0^*$, možemo za bilo koji input, broj pređenih kilometara, aproksimativno izračunati cijenu koju bi jedno takvo auto moglo imati, jednostavno uvrstivši željeni broj pređenih kilometara $x$ u izraz $m_1^*\\cdot x + m_0^*$. Drugim riječima, cijena auta se kreće po pravoj $p^*$ u odnosu na broj pređenih kilometara. U posljednjoj rečenici se oslikava i glavna osobina jednodimenzionalne linearne regresije (tj. linearne regresije sa samo jednim inputom, kao u našem primjeru. Kasnije ćemo se upoznati i sa višedimenzionalnom regresijom), a to je da **vrijednost output-a se kreće po pravoj $p*$ u odnosu na input i to postavljenoj u takav položaj da minimizira kumulativnu grešku (odstupanje) u odnosu na dati trening skup**."
   ]
  },
  {
   "cell_type": "markdown",
   "metadata": {},
   "source": [
    "Na primjeru ispod se nalazi navedena prava $p^*$ izračunata gotovom metodom `linear_model` biblioteke **sklearn**. Ne zamarajmo se toliko samom bibliotekom **sklearn** i njenim metodama sada, ali obratimo pažnju na to kako računamo *Mean squared error*."
   ]
  },
  {
   "cell_type": "code",
   "execution_count": 12,
   "metadata": {},
   "outputs": [
    {
     "name": "stdout",
     "output_type": "stream",
     "text": [
      "Mean squared error: 10080774.695512509\n"
     ]
    },
    {
     "data": {
      "application/vnd.plotly.v1+json": {
       "config": {
        "linkText": "Export to plot.ly",
        "plotlyServerURL": "https://plot.ly",
        "showLink": false
       },
       "data": [
        {
         "marker": {
          "color": "black"
         },
         "mode": "markers",
         "type": "scatter",
         "uid": "e0d69a6e-0333-4d4a-8eb0-40d70de5e279",
         "x": [
          10000,
          400000,
          5000,
          0,
          1000,
          100000,
          50000,
          50,
          20000,
          200000
         ],
         "y": [
          31000,
          19000,
          32000,
          40000,
          33000,
          26000,
          29000,
          35000,
          30000,
          20000
         ]
        },
        {
         "line": {
          "color": "blue",
          "width": 3
         },
         "mode": "lines",
         "type": "scatter",
         "uid": "d0851517-2c96-4ae6-81c5-65175967c7fa",
         "x": [
          10000,
          400000,
          5000,
          0,
          1000,
          100000,
          50000,
          50,
          20000,
          200000
         ],
         "y": [
          32418.47367118483,
          15827.777194804323,
          32631.174908061505,
          32843.87614493818,
          32801.33589756284,
          28589.851407404713,
          30716.863776171445,
          32841.74913256941,
          31993.071197431484,
          24335.82666987125
         ]
        }
       ],
       "layout": {
        "hovermode": "closest",
        "showlegend": false,
        "xaxis": {
         "showticklabels": true,
         "ticks": "",
         "zeroline": false
        },
        "yaxis": {
         "showticklabels": true,
         "ticks": "",
         "zeroline": false
        }
       }
      },
      "text/html": [
       "<div id=\"97701934-b66b-43d8-8efe-064d071aaa50\" style=\"height: 525px; width: 100%;\" class=\"plotly-graph-div\"></div><script type=\"text/javascript\">require([\"plotly\"], function(Plotly) { window.PLOTLYENV=window.PLOTLYENV || {};window.PLOTLYENV.BASE_URL=\"https://plot.ly\";\n",
       "if (document.getElementById(\"97701934-b66b-43d8-8efe-064d071aaa50\")) {\n",
       "    Plotly.newPlot(\"97701934-b66b-43d8-8efe-064d071aaa50\", [{\"marker\": {\"color\": \"black\"}, \"mode\": \"markers\", \"x\": [10000, 400000, 5000, 0, 1000, 100000, 50000, 50, 20000, 200000], \"y\": [31000, 19000, 32000, 40000, 33000, 26000, 29000, 35000, 30000, 20000], \"type\": \"scatter\", \"uid\": \"e0d69a6e-0333-4d4a-8eb0-40d70de5e279\"}, {\"line\": {\"color\": \"blue\", \"width\": 3}, \"mode\": \"lines\", \"x\": [10000, 400000, 5000, 0, 1000, 100000, 50000, 50, 20000, 200000], \"y\": [32418.47367118483, 15827.777194804323, 32631.174908061505, 32843.87614493818, 32801.33589756284, 28589.851407404713, 30716.863776171445, 32841.74913256941, 31993.071197431484, 24335.82666987125], \"type\": \"scatter\", \"uid\": \"d0851517-2c96-4ae6-81c5-65175967c7fa\"}], {\"hovermode\": \"closest\", \"showlegend\": false, \"xaxis\": {\"showticklabels\": true, \"ticks\": \"\", \"zeroline\": false}, \"yaxis\": {\"showticklabels\": true, \"ticks\": \"\", \"zeroline\": false}}, {\"showLink\": false, \"linkText\": \"Export to plot.ly\", \"plotlyServerURL\": \"https://plot.ly\"}); \n",
       "}\n",
       "});</script><script type=\"text/javascript\">window.addEventListener(\"resize\", function(){if (document.getElementById(\"97701934-b66b-43d8-8efe-064d071aaa50\")) {window._Plotly.Plots.resize(document.getElementById(\"97701934-b66b-43d8-8efe-064d071aaa50\"));};})</script>"
      ],
      "text/vnd.plotly.v1+html": [
       "<div id=\"97701934-b66b-43d8-8efe-064d071aaa50\" style=\"height: 525px; width: 100%;\" class=\"plotly-graph-div\"></div><script type=\"text/javascript\">require([\"plotly\"], function(Plotly) { window.PLOTLYENV=window.PLOTLYENV || {};window.PLOTLYENV.BASE_URL=\"https://plot.ly\";\n",
       "if (document.getElementById(\"97701934-b66b-43d8-8efe-064d071aaa50\")) {\n",
       "    Plotly.newPlot(\"97701934-b66b-43d8-8efe-064d071aaa50\", [{\"marker\": {\"color\": \"black\"}, \"mode\": \"markers\", \"x\": [10000, 400000, 5000, 0, 1000, 100000, 50000, 50, 20000, 200000], \"y\": [31000, 19000, 32000, 40000, 33000, 26000, 29000, 35000, 30000, 20000], \"type\": \"scatter\", \"uid\": \"e0d69a6e-0333-4d4a-8eb0-40d70de5e279\"}, {\"line\": {\"color\": \"blue\", \"width\": 3}, \"mode\": \"lines\", \"x\": [10000, 400000, 5000, 0, 1000, 100000, 50000, 50, 20000, 200000], \"y\": [32418.47367118483, 15827.777194804323, 32631.174908061505, 32843.87614493818, 32801.33589756284, 28589.851407404713, 30716.863776171445, 32841.74913256941, 31993.071197431484, 24335.82666987125], \"type\": \"scatter\", \"uid\": \"d0851517-2c96-4ae6-81c5-65175967c7fa\"}], {\"hovermode\": \"closest\", \"showlegend\": false, \"xaxis\": {\"showticklabels\": true, \"ticks\": \"\", \"zeroline\": false}, \"yaxis\": {\"showticklabels\": true, \"ticks\": \"\", \"zeroline\": false}}, {\"showLink\": false, \"linkText\": \"Export to plot.ly\", \"plotlyServerURL\": \"https://plot.ly\"}); \n",
       "}\n",
       "});</script><script type=\"text/javascript\">window.addEventListener(\"resize\", function(){if (document.getElementById(\"97701934-b66b-43d8-8efe-064d071aaa50\")) {window._Plotly.Plots.resize(document.getElementById(\"97701934-b66b-43d8-8efe-064d071aaa50\"));};})</script>"
      ]
     },
     "metadata": {},
     "output_type": "display_data"
    }
   ],
   "source": [
    "from sklearn import linear_model\n",
    "\n",
    "# np.expand_dims(a, axis=1) for input of a = [1, 2, 3] returns [[1], [2], [3]]\n",
    "# This expanded format of np array is required for an input to linear_model.LinearRegression.fit method\n",
    "# as well as for linear_model.LinearRegression.predict method\n",
    "expanded_car_mileages: np.ndarray = np.expand_dims(car_mileages, axis=1)\n",
    "\n",
    "# Create linear regression object\n",
    "regr = linear_model.LinearRegression()\n",
    "\n",
    "# Train the model using the training set\n",
    "regr.fit(expanded_car_mileages, car_values)\n",
    "\n",
    "# The mean squared error\n",
    "print(f'Mean squared error: {np.mean((regr.predict(expanded_car_mileages) - car_values) ** 2)}')\n",
    "\n",
    "linear_regression_line = go.Scatter(x=car_mileages, \n",
    "                                    y=regr.predict(expanded_car_mileages),\n",
    "                                    mode='lines',\n",
    "                                    line=dict(color='blue', width=3))\n",
    "\n",
    "figure = go.Figure(data=[plot_data, linear_regression_line], layout=layout)\n",
    "\n",
    "ply.iplot(figure)"
   ]
  },
  {
   "cell_type": "markdown",
   "metadata": {},
   "source": [
    "Sada ukoliko bismo željeli da procijenimo vrijednost auta koju bi isto moglo imati na kilometražama od 150000km, 250000km i 300000km, dovoljno je da izračunamo visinu prave za date inpute:"
   ]
  },
  {
   "cell_type": "code",
   "execution_count": 18,
   "metadata": {},
   "outputs": [
    {
     "name": "stdout",
     "output_type": "stream",
     "text": [
      "Mileage: 150000 -> Value: 26463.0\n",
      "Mileage: 250000 -> Value: 22209.0\n",
      "Mileage: 300000 -> Value: 20082.0\n"
     ]
    }
   ],
   "source": [
    "test_mileages: np.ndarray = np.array([150000, 250000, 300000])\n",
    "expanded_test_mileages: np.ndarray = np.expand_dims(test_mileages, axis=1)\n",
    "approximated_values: np.ndarray = regr.predict(expanded_test_mileages)\n",
    "\n",
    "for mileage, value in zip(test_mileages, approximated_values):\n",
    "    print(f'Mileage: {mileage} -> Value: {round(value)}')"
   ]
  },
  {
   "cell_type": "markdown",
   "metadata": {},
   "source": [
    "Nameće se pitanje, na koji način možemo pronaći jednu takvu pravu $p^*$."
   ]
  },
  {
   "cell_type": "code",
   "execution_count": null,
   "metadata": {},
   "outputs": [],
   "source": []
  },
  {
   "cell_type": "markdown",
   "metadata": {},
   "source": [
    "Postoje trenutci u praksi kada nam je potrebna brza, ali dovoljno dobra analiza podataka (tačnije analiza trenda podataka). Npr. prilikom pisanja poslovnih prijedloga ili POC-a *(Proof of concept)* projekata (i to ne nužno samo Data Science projekata). Zatim često je potreba plitka analiza podataka prije nego li se odlučimo za korištenje nekog kompleksnijeg algoritma nadgledanog učenja itd."
   ]
  }
 ],
 "metadata": {
  "kernelspec": {
   "display_name": "Python 3",
   "language": "python",
   "name": "python3"
  },
  "language_info": {
   "codemirror_mode": {
    "name": "ipython",
    "version": 3
   },
   "file_extension": ".py",
   "mimetype": "text/x-python",
   "name": "python",
   "nbconvert_exporter": "python",
   "pygments_lexer": "ipython3",
   "version": "3.6.7"
  }
 },
 "nbformat": 4,
 "nbformat_minor": 2
}
