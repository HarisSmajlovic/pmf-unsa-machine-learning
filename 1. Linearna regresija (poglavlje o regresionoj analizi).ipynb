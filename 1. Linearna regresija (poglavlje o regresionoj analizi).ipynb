{
 "cells": [
  {
   "cell_type": "markdown",
   "metadata": {},
   "source": [
    "# Linearna regresija"
   ]
  },
  {
   "cell_type": "markdown",
   "metadata": {},
   "source": [
    "Jedan od prvih algoritama za nalaženje trenda među podacima je ***Linearna regresija***. Ovaj algoritam nadgledanog učenja, unatoč postojanju nekolicine kvalitetnijih algoritama u istoj oblasti, uglavnom zbog svoje jednostavnosti nalazi široku primjenu u praksi.\n",
    "\n",
    "Trend podataka je, grubo rečeno, patern po kom se podaci ponavljaju za dati input. Npr. ukoliko primijetimo da se cijena neke konkretne tipe auta (npr. BMW m3 e46) smanjuje sa brojem pređenih kilometara, kažemo da je cijena te tipe auta opadajućeg trenda u odnosu na input **broj pređenih kilometara**. Recimo još da smo se domogli stvarnih podataka u kojima imamo informaciju o različitim cijenama date tipe auta za respektivan broj pređenih kilometara. Analizom parova (broj pređenih kilometara, cijena auta) možemo \"izračunati\" i na koji način cijena auta ovisi o broju pređenih kilometara. Konkretno u ovom slučaju možemo izračunati kojom \"brzinom\" opada cijena auta rastom broja pređenih kilometara. Na taj način kažemo da smo izračunali (ili često rečeno, uhvatili) trend po kojim se cijena auta mijenja u odnosu na broj pređenih kilometara i time možemo za bilo koji broj pređenih kilometara, o kom nemamo informaciju u skupu podataka kog smo se domogli, izračunati (uglavnom aproksimativno) cijenu auta. Ovaj način aproksimativnog računanja nekog podatka se naziva **predikcijom** datog podatka, a **način** kojim \"računamo\" isti se naziva **modelom predikcije** ili **modelom učenja** ili **modelom mašinskog učenja**. Tako da možemo kazati da je **regresija** upravo jedan model mašinskog učenja i to tačnije, model **nadgledanog** mašinskog učenja. Proces kroz koji smo \"izračunali\" zavisnost između ulaznih i izlaznih podataka modela, konkretno u primjeru iznad, između cijene auta i broja pređenih kilometara, se naziva **treningom** ili **obučavanjem** modela nad datim skupom podataka, a dati skup podataka, **trening skupom** podataka."
   ]
  },
  {
   "cell_type": "markdown",
   "metadata": {},
   "source": [
    "Prisjetimo se (sa predavanja) da je element trening skupa, bilo kog modela nadgeldanog mašinskog učenja, formata ($\\overline{x}$, $\\overline{y}$) gdje $\\overline{x}$ odgovara ulaznom, a $\\overline{y}$ izlaznom podatku modela. *Svaki model nadgledanog mašinskog učenja, u suštini, nije ništa do jedna **funkcija** koja prima određene podatke kao input i na osnovu tih podataka računa i vraća neki rezultat.*"
   ]
  },
  {
   "cell_type": "markdown",
   "metadata": {},
   "source": [
    "Recimo da imamo na raspolaganju sljedeći trening skup: {(10000, 31000), (400000, 19000), (5000, 32000), (0, 40000), (1000, 33000), (100000, 26000), (50000, 29000), (50, 35000), (20000, 30000), (200000, 20000)}, gdje u svakom elementu skupa $(x, y)$, $x$ odgovara pređenom broju kilometara, a $y$ cijeni nekog auta. Smjestimo dati trening skup u niz `car_mileage_vs_value_data_set`:"
   ]
  },
  {
   "cell_type": "code",
   "execution_count": 1,
   "metadata": {},
   "outputs": [],
   "source": [
    "from typing import List, Tuple\n",
    "\n",
    "car_mileage_vs_value_data_set: List[List[int]] = [\n",
    "    (10000, 31000), (400000, 19000), (5000, 32000), (0, 40000),\n",
    "    (1000, 33000), (100000, 26000), (50000, 29000), (50, 35000),\n",
    "    (20000, 30000), (200000, 20000)]"
   ]
  },
  {
   "cell_type": "markdown",
   "metadata": {},
   "source": [
    "Konvertujmo dati niz u *numpy* niz radi lakše manipulacije istim:"
   ]
  },
  {
   "cell_type": "code",
   "execution_count": 2,
   "metadata": {},
   "outputs": [],
   "source": [
    "import numpy as np\n",
    "\n",
    "car_mileage_vs_value_data_set: np.ndarray = np.array(car_mileage_vs_value_data_set)"
   ]
  },
  {
   "cell_type": "markdown",
   "metadata": {
    "slideshow": {
     "slide_type": "slide"
    }
   },
   "source": [
    "Iscrtajmo dati trening skup uz napomene ispod:\n",
    "1. Koristimo biblioteku za vizualizaciju `plotly`.\n",
    "2. Naredba `ply.init_notebook_mode(connected=True)` daje do znanja biblioteci Plotly da se sva iscrtavanja vrše u Jupyter Notebook okruženju.\n",
    "2. `car_mileage_vs_value_data_set` je sada dvodimenzionalni *numpy* niz.\n",
    "3. `car_mileage_vs_value_data_set.T` vraća transponovanu matricu `car_mileage_vs_value_data_set`.\n",
    "4. `car_mileage_vs_value_data_set.T[0]` je jednodimenzionalni niz vrijednosti pređenih kilometara auta.\n",
    "5. `car_mileage_vs_value_data_set.T[1]` je jednodimenzionalni niz vrijednosti cijena auta.\n",
    "6. `go.Scatter()` formira objekat iz biblioteke Plotly koji čuva informaciju u podacima koje treba iscrtati kao i o formatu iscrtavanja istih.\n",
    "7. Slično je i sa `go.Layout()`. Formira se objekat koji čuva informaciju o formatu iscrtavanja plana (layout-a) cijelog plota (bez podataka).\n",
    "8. Objekat `go.Figure` objedinjuje informacije u *Scatter* i *Layout* objektu i naredba *ply.iplot()* vrši samo iscrtavanje.\n",
    "9. `typehint` se po konvenciji ne koristi kod instanciranja klasa."
   ]
  },
  {
   "cell_type": "code",
   "execution_count": 4,
   "metadata": {},
   "outputs": [
    {
     "data": {
      "text/html": [
       "<script type=\"text/javascript\">window.PlotlyConfig = {MathJaxConfig: 'local'};</script><script type=\"text/javascript\">if (window.MathJax) {MathJax.Hub.Config({SVG: {font: \"STIX-Web\"}});}</script><script>requirejs.config({paths: { 'plotly': ['https://cdn.plot.ly/plotly-latest.min']},});if(!window._Plotly) {require(['plotly'],function(plotly) {window._Plotly=plotly;});}</script>"
      ],
      "text/vnd.plotly.v1+html": [
       "<script type=\"text/javascript\">window.PlotlyConfig = {MathJaxConfig: 'local'};</script><script type=\"text/javascript\">if (window.MathJax) {MathJax.Hub.Config({SVG: {font: \"STIX-Web\"}});}</script><script>requirejs.config({paths: { 'plotly': ['https://cdn.plot.ly/plotly-latest.min']},});if(!window._Plotly) {require(['plotly'],function(plotly) {window._Plotly=plotly;});}</script>"
      ]
     },
     "metadata": {},
     "output_type": "display_data"
    },
    {
     "data": {
      "application/vnd.plotly.v1+json": {
       "config": {
        "linkText": "Export to plot.ly",
        "plotlyServerURL": "https://plot.ly",
        "showLink": false
       },
       "data": [
        {
         "marker": {
          "color": "black"
         },
         "mode": "markers",
         "type": "scatter",
         "uid": "47dc6448-2144-408c-be18-422532974694",
         "x": [
          10000,
          400000,
          5000,
          0,
          1000,
          100000,
          50000,
          50,
          20000,
          200000
         ],
         "y": [
          31000,
          19000,
          32000,
          40000,
          33000,
          26000,
          29000,
          35000,
          30000,
          20000
         ]
        }
       ],
       "layout": {
        "hovermode": "closest",
        "showlegend": false,
        "xaxis": {
         "showticklabels": true,
         "ticks": "",
         "zeroline": false
        },
        "yaxis": {
         "showticklabels": true,
         "ticks": "",
         "zeroline": false
        }
       }
      },
      "text/html": [
       "<div id=\"cb5e57ea-eb01-4841-b077-407519b92e0f\" style=\"height: 525px; width: 100%;\" class=\"plotly-graph-div\"></div><script type=\"text/javascript\">require([\"plotly\"], function(Plotly) { window.PLOTLYENV=window.PLOTLYENV || {};window.PLOTLYENV.BASE_URL=\"https://plot.ly\";\n",
       "if (document.getElementById(\"cb5e57ea-eb01-4841-b077-407519b92e0f\")) {\n",
       "    Plotly.newPlot(\"cb5e57ea-eb01-4841-b077-407519b92e0f\", [{\"marker\": {\"color\": \"black\"}, \"mode\": \"markers\", \"x\": [10000, 400000, 5000, 0, 1000, 100000, 50000, 50, 20000, 200000], \"y\": [31000, 19000, 32000, 40000, 33000, 26000, 29000, 35000, 30000, 20000], \"type\": \"scatter\", \"uid\": \"47dc6448-2144-408c-be18-422532974694\"}], {\"hovermode\": \"closest\", \"showlegend\": false, \"xaxis\": {\"showticklabels\": true, \"ticks\": \"\", \"zeroline\": false}, \"yaxis\": {\"showticklabels\": true, \"ticks\": \"\", \"zeroline\": false}}, {\"showLink\": false, \"linkText\": \"Export to plot.ly\", \"plotlyServerURL\": \"https://plot.ly\"}); \n",
       "}\n",
       "});</script><script type=\"text/javascript\">window.addEventListener(\"resize\", function(){if (document.getElementById(\"cb5e57ea-eb01-4841-b077-407519b92e0f\")) {window._Plotly.Plots.resize(document.getElementById(\"cb5e57ea-eb01-4841-b077-407519b92e0f\"));};})</script>"
      ],
      "text/vnd.plotly.v1+html": [
       "<div id=\"cb5e57ea-eb01-4841-b077-407519b92e0f\" style=\"height: 525px; width: 100%;\" class=\"plotly-graph-div\"></div><script type=\"text/javascript\">require([\"plotly\"], function(Plotly) { window.PLOTLYENV=window.PLOTLYENV || {};window.PLOTLYENV.BASE_URL=\"https://plot.ly\";\n",
       "if (document.getElementById(\"cb5e57ea-eb01-4841-b077-407519b92e0f\")) {\n",
       "    Plotly.newPlot(\"cb5e57ea-eb01-4841-b077-407519b92e0f\", [{\"marker\": {\"color\": \"black\"}, \"mode\": \"markers\", \"x\": [10000, 400000, 5000, 0, 1000, 100000, 50000, 50, 20000, 200000], \"y\": [31000, 19000, 32000, 40000, 33000, 26000, 29000, 35000, 30000, 20000], \"type\": \"scatter\", \"uid\": \"47dc6448-2144-408c-be18-422532974694\"}], {\"hovermode\": \"closest\", \"showlegend\": false, \"xaxis\": {\"showticklabels\": true, \"ticks\": \"\", \"zeroline\": false}, \"yaxis\": {\"showticklabels\": true, \"ticks\": \"\", \"zeroline\": false}}, {\"showLink\": false, \"linkText\": \"Export to plot.ly\", \"plotlyServerURL\": \"https://plot.ly\"}); \n",
       "}\n",
       "});</script><script type=\"text/javascript\">window.addEventListener(\"resize\", function(){if (document.getElementById(\"cb5e57ea-eb01-4841-b077-407519b92e0f\")) {window._Plotly.Plots.resize(document.getElementById(\"cb5e57ea-eb01-4841-b077-407519b92e0f\"));};})</script>"
      ]
     },
     "metadata": {},
     "output_type": "display_data"
    }
   ],
   "source": [
    "import plotly.offline as ply\n",
    "import plotly.graph_objs as go\n",
    "\n",
    "ply.init_notebook_mode(connected=True)\n",
    "\n",
    "car_mileages: np.ndarray = car_mileage_vs_value_data_set.T[0]\n",
    "car_values: np.ndarray = car_mileage_vs_value_data_set.T[1]\n",
    "\n",
    "plot_data = go.Scatter(x=car_mileages, \n",
    "                       y=car_values, \n",
    "                       mode='markers',\n",
    "                       marker=dict(color='black'))\n",
    "\n",
    "layout = go.Layout(xaxis=dict(ticks='', showticklabels=True,\n",
    "                              zeroline=False),\n",
    "                   yaxis=dict(ticks='', showticklabels=True,\n",
    "                              zeroline=False),\n",
    "                   showlegend=False, hovermode='closest')\n",
    "\n",
    "figure = go.Figure(data=[plot_data], layout=layout)\n",
    "\n",
    "ply.iplot(figure)"
   ]
  },
  {
   "cell_type": "markdown",
   "metadata": {},
   "source": [
    "Intuitivno, na navedenom primjeru, ideja linearne regresije je sadržana u pronalasku prave $p: y = m_1\\cdot x + m_0$ takve da je vrijednost funkcije greške date prave nad datim trening skupom što manja *(pogledati poglavlje o Regresionoj analizi u profesorovoj skripti za više informacija u funkcijama greške)*. Koristiti ćemo *mean squared error* kao funkciju greške. Dakle želimo da pronađemo parametre $m_1$ i $m_2$ takve da vrijednost $\\frac{1}{|\\chi|}\\cdot\\sum_{(x, y) \\in \\chi}{(m_1\\cdot x + m_0 - y)^2}$ bude što manja, gdje je $\\chi$ naš trening skup. Drugim riječima, želimo da pronađemo položaj prave $p$ takav da je, za sve parove $(x_i, y_i)$ trening skupa, (kumulativno) odstupanje vrijednosti $m_1\\cdot x_i + m_0$ od $y_i$ što manja."
   ]
  },
  {
   "cell_type": "markdown",
   "metadata": {},
   "source": [
    "Kada pronađemo takve parametre, nazovimo ih $m_1^*$ i $m_0^*$, to jeste pravu $p^*: y = m_1^*\\cdot x + m_0^*$, možemo za bilo koji input, broj pređenih kilometara, aproksimativno izračunati cijenu koju bi jedno takvo auto moglo imati, jednostavno uvrstivši željeni broj pređenih kilometara $x$ u izraz $m_1^*\\cdot x + m_0^*$. Drugim riječima, cijena auta se kreće po pravoj $p^*$ u odnosu na broj pređenih kilometara. U posljednjoj rečenici se oslikava i glavna osobina jednodimenzionalne linearne regresije (tj. linearne regresije sa samo jednim inputom, kao u našem primjeru  (kasnije ćemo se upoznati i sa višedimenzionalnom regresijom), a to je da **vrijednost output-a se kreće po pravoj $p*$ u odnosu na input i to postavljenoj u takav položaj da minimizira kumulativnu grešku (odstupanje) u odnosu na dati trening skup**."
   ]
  },
  {
   "cell_type": "markdown",
   "metadata": {},
   "source": [
    "Na primjeru ispod se nalazi navedena prava $p^*$ izračunata kroz gotovi modul `linear_model` biblioteke **sklearn**. Ne zamarajmo se toliko samom bibliotekom **sklearn** i njenim metodama sada, ali obratimo pažnju na to kako računamo *Mean squared error*."
   ]
  },
  {
   "cell_type": "code",
   "execution_count": 5,
   "metadata": {},
   "outputs": [
    {
     "name": "stdout",
     "output_type": "stream",
     "text": [
      "Mean squared error: 10080774.695512509\n"
     ]
    },
    {
     "data": {
      "application/vnd.plotly.v1+json": {
       "config": {
        "linkText": "Export to plot.ly",
        "plotlyServerURL": "https://plot.ly",
        "showLink": false
       },
       "data": [
        {
         "marker": {
          "color": "black"
         },
         "mode": "markers",
         "type": "scatter",
         "uid": "cc76bcc1-f9dc-4528-9f05-f8734f5ccdd3",
         "x": [
          10000,
          400000,
          5000,
          0,
          1000,
          100000,
          50000,
          50,
          20000,
          200000
         ],
         "y": [
          31000,
          19000,
          32000,
          40000,
          33000,
          26000,
          29000,
          35000,
          30000,
          20000
         ]
        },
        {
         "line": {
          "color": "blue",
          "width": 3
         },
         "mode": "lines",
         "type": "scatter",
         "uid": "d88876c2-f497-4ac1-932e-654ecaf8a562",
         "x": [
          10000,
          400000,
          5000,
          0,
          1000,
          100000,
          50000,
          50,
          20000,
          200000
         ],
         "y": [
          32418.47367118483,
          15827.777194804323,
          32631.174908061505,
          32843.87614493818,
          32801.33589756284,
          28589.851407404713,
          30716.863776171445,
          32841.74913256941,
          31993.071197431484,
          24335.82666987125
         ]
        }
       ],
       "layout": {
        "hovermode": "closest",
        "showlegend": false,
        "xaxis": {
         "showticklabels": true,
         "ticks": "",
         "zeroline": false
        },
        "yaxis": {
         "showticklabels": true,
         "ticks": "",
         "zeroline": false
        }
       }
      },
      "text/html": [
       "<div id=\"befe5032-1577-43f0-9c03-ab748d944127\" style=\"height: 525px; width: 100%;\" class=\"plotly-graph-div\"></div><script type=\"text/javascript\">require([\"plotly\"], function(Plotly) { window.PLOTLYENV=window.PLOTLYENV || {};window.PLOTLYENV.BASE_URL=\"https://plot.ly\";\n",
       "if (document.getElementById(\"befe5032-1577-43f0-9c03-ab748d944127\")) {\n",
       "    Plotly.newPlot(\"befe5032-1577-43f0-9c03-ab748d944127\", [{\"marker\": {\"color\": \"black\"}, \"mode\": \"markers\", \"x\": [10000, 400000, 5000, 0, 1000, 100000, 50000, 50, 20000, 200000], \"y\": [31000, 19000, 32000, 40000, 33000, 26000, 29000, 35000, 30000, 20000], \"type\": \"scatter\", \"uid\": \"cc76bcc1-f9dc-4528-9f05-f8734f5ccdd3\"}, {\"line\": {\"color\": \"blue\", \"width\": 3}, \"mode\": \"lines\", \"x\": [10000, 400000, 5000, 0, 1000, 100000, 50000, 50, 20000, 200000], \"y\": [32418.47367118483, 15827.777194804323, 32631.174908061505, 32843.87614493818, 32801.33589756284, 28589.851407404713, 30716.863776171445, 32841.74913256941, 31993.071197431484, 24335.82666987125], \"type\": \"scatter\", \"uid\": \"d88876c2-f497-4ac1-932e-654ecaf8a562\"}], {\"hovermode\": \"closest\", \"showlegend\": false, \"xaxis\": {\"showticklabels\": true, \"ticks\": \"\", \"zeroline\": false}, \"yaxis\": {\"showticklabels\": true, \"ticks\": \"\", \"zeroline\": false}}, {\"showLink\": false, \"linkText\": \"Export to plot.ly\", \"plotlyServerURL\": \"https://plot.ly\"}); \n",
       "}\n",
       "});</script><script type=\"text/javascript\">window.addEventListener(\"resize\", function(){if (document.getElementById(\"befe5032-1577-43f0-9c03-ab748d944127\")) {window._Plotly.Plots.resize(document.getElementById(\"befe5032-1577-43f0-9c03-ab748d944127\"));};})</script>"
      ],
      "text/vnd.plotly.v1+html": [
       "<div id=\"befe5032-1577-43f0-9c03-ab748d944127\" style=\"height: 525px; width: 100%;\" class=\"plotly-graph-div\"></div><script type=\"text/javascript\">require([\"plotly\"], function(Plotly) { window.PLOTLYENV=window.PLOTLYENV || {};window.PLOTLYENV.BASE_URL=\"https://plot.ly\";\n",
       "if (document.getElementById(\"befe5032-1577-43f0-9c03-ab748d944127\")) {\n",
       "    Plotly.newPlot(\"befe5032-1577-43f0-9c03-ab748d944127\", [{\"marker\": {\"color\": \"black\"}, \"mode\": \"markers\", \"x\": [10000, 400000, 5000, 0, 1000, 100000, 50000, 50, 20000, 200000], \"y\": [31000, 19000, 32000, 40000, 33000, 26000, 29000, 35000, 30000, 20000], \"type\": \"scatter\", \"uid\": \"cc76bcc1-f9dc-4528-9f05-f8734f5ccdd3\"}, {\"line\": {\"color\": \"blue\", \"width\": 3}, \"mode\": \"lines\", \"x\": [10000, 400000, 5000, 0, 1000, 100000, 50000, 50, 20000, 200000], \"y\": [32418.47367118483, 15827.777194804323, 32631.174908061505, 32843.87614493818, 32801.33589756284, 28589.851407404713, 30716.863776171445, 32841.74913256941, 31993.071197431484, 24335.82666987125], \"type\": \"scatter\", \"uid\": \"d88876c2-f497-4ac1-932e-654ecaf8a562\"}], {\"hovermode\": \"closest\", \"showlegend\": false, \"xaxis\": {\"showticklabels\": true, \"ticks\": \"\", \"zeroline\": false}, \"yaxis\": {\"showticklabels\": true, \"ticks\": \"\", \"zeroline\": false}}, {\"showLink\": false, \"linkText\": \"Export to plot.ly\", \"plotlyServerURL\": \"https://plot.ly\"}); \n",
       "}\n",
       "});</script><script type=\"text/javascript\">window.addEventListener(\"resize\", function(){if (document.getElementById(\"befe5032-1577-43f0-9c03-ab748d944127\")) {window._Plotly.Plots.resize(document.getElementById(\"befe5032-1577-43f0-9c03-ab748d944127\"));};})</script>"
      ]
     },
     "metadata": {},
     "output_type": "display_data"
    }
   ],
   "source": [
    "from sklearn import linear_model\n",
    "\n",
    "# np.expand_dims(a, axis=1) for input of a = [1, 2, 3] returns [[1], [2], [3]]\n",
    "# This expanded format of np array is required for an input to linear_model.LinearRegression.fit method\n",
    "# as well as for linear_model.LinearRegression.predict method\n",
    "expanded_car_mileages: np.ndarray = np.expand_dims(car_mileages, axis=1)\n",
    "\n",
    "# Create linear regression object\n",
    "regr = linear_model.LinearRegression()\n",
    "\n",
    "# Train the model using the training set\n",
    "regr.fit(expanded_car_mileages, car_values)\n",
    "\n",
    "# The mean squared error\n",
    "sklearn_mse: float = np.mean((regr.predict(expanded_car_mileages) - car_values) ** 2)\n",
    "print(f'Mean squared error: {sklearn_mse}')\n",
    "\n",
    "linear_regression_line = go.Scatter(x=car_mileages, \n",
    "                                    y=regr.predict(expanded_car_mileages),\n",
    "                                    mode='lines',\n",
    "                                    line=dict(color='blue', width=3))\n",
    "\n",
    "figure = go.Figure(data=[plot_data, linear_regression_line], layout=layout)\n",
    "\n",
    "ply.iplot(figure)"
   ]
  },
  {
   "cell_type": "markdown",
   "metadata": {},
   "source": [
    "Sada ukoliko bismo željeli da procijenimo vrijednost auta koju bi isto moglo imati na kilometražama od 150000km, 250000km i 300000km, dovoljno je da izračunamo visinu prave za date inpute:"
   ]
  },
  {
   "cell_type": "code",
   "execution_count": 6,
   "metadata": {},
   "outputs": [
    {
     "name": "stdout",
     "output_type": "stream",
     "text": [
      "Mileage: 150000 -> Value: 26463.0\n",
      "Mileage: 250000 -> Value: 22209.0\n",
      "Mileage: 300000 -> Value: 20082.0\n"
     ]
    }
   ],
   "source": [
    "test_mileages: np.ndarray = np.array([150000, 250000, 300000])\n",
    "expanded_test_mileages: np.ndarray = np.expand_dims(test_mileages, axis=1)\n",
    "approximated_values: np.ndarray = regr.predict(expanded_test_mileages)\n",
    "\n",
    "for mileage, value in zip(test_mileages, approximated_values):\n",
    "    print(f'Mileage: {mileage} -> Value: {round(value)}')"
   ]
  },
  {
   "cell_type": "markdown",
   "metadata": {},
   "source": [
    "Nameće se pitanje, na koji način možemo pronaći jednu takvu pravu $p^*$, tj. takve parametre $m_0^*$ i $m_1^*$ (bez korištenja nekih eksternih biblioteka)."
   ]
  },
  {
   "cell_type": "markdown",
   "metadata": {},
   "source": [
    "Jedna ideja bi mogla da bude da parametrima $m_0$ i $m_1$ dodijelimo neke nasumične vrijednosti, izračunamo *MSE (Mean Squared Error)* koji formiraju dati parametri nad našim trening skupom i da onda povećavamo/smanjujemo $m_0$ i $m_1$ sve dok se *MSE* smanjuje. Ilustracije radi, pogledajmo kako bi mogla izgledati jedna ovakva procedura."
   ]
  },
  {
   "cell_type": "markdown",
   "metadata": {},
   "source": [
    "Najprije definišimo vrijednost koju ćemo dodavati ili oduzimati od parametara $m_0$ i $m_1$."
   ]
  },
  {
   "cell_type": "code",
   "execution_count": 7,
   "metadata": {},
   "outputs": [],
   "source": [
    "step_size: float = 0.1"
   ]
  },
  {
   "cell_type": "markdown",
   "metadata": {},
   "source": [
    "Zatim instancirajmo parametre $m_0$ i $m_1$ nekim nasumičnim vrijednostima."
   ]
  },
  {
   "cell_type": "code",
   "execution_count": 8,
   "metadata": {},
   "outputs": [],
   "source": [
    "from random import random\n",
    "\n",
    "m_0, m_1 = random(), random()"
   ]
  },
  {
   "cell_type": "markdown",
   "metadata": {},
   "source": [
    "Izračunajmo *MSE* za date parametre i naš trening skup. Potrebno nam je najprije nekoliko pomoćnih funkcija."
   ]
  },
  {
   "cell_type": "code",
   "execution_count": 9,
   "metadata": {},
   "outputs": [],
   "source": [
    "from functools import partial\n",
    "\n",
    "def calculate_line_height(x: float, k: float, n: float) -> float:\n",
    "    \"\"\"\n",
    "    Returns:\n",
    "        Hight of line y = k*x + n for given k, x and n parameters.\n",
    "    \"\"\"\n",
    "    return k * x + n\n",
    "\n",
    "def calculate_linear_regression_mse(\n",
    "    training_set: np.ndarray, m_0: float, m_1: float) -> float:\n",
    "    \"\"\"\n",
    "    Returns:\n",
    "        Mean squared error produced on top of provided training set,\n",
    "        using linear regression y = m_1*x + m_0\n",
    "    \"\"\"\n",
    "    inputs: np.ndarray = training_set.T[0]\n",
    "    outputs: np.ndarray = training_set.T[1]\n",
    "    linear_regression_predict: Callable[[float], float] = partial(\n",
    "        calculate_line_height, k=m_1, n=m_0)\n",
    "    \n",
    "    predictions: np.ndarray = linear_regression_predict(inputs)\n",
    "    squared_errors = (predictions - outputs) ** 2\n",
    "    \n",
    "    return np.mean(squared_errors)"
   ]
  },
  {
   "cell_type": "code",
   "execution_count": 10,
   "metadata": {},
   "outputs": [
    {
     "name": "stdout",
     "output_type": "stream",
     "text": [
      "Initial MSE: 17566311244.997627\n"
     ]
    }
   ],
   "source": [
    "mse: float = calculate_linear_regression_mse(\n",
    "    training_set=car_mileage_vs_value_data_set,\n",
    "    m_0=m_0,\n",
    "    m_1=m_1)\n",
    "\n",
    "initial_mse: float = mse\n",
    "print(f'Initial MSE: {initial_mse}')"
   ]
  },
  {
   "cell_type": "markdown",
   "metadata": {},
   "source": [
    "Sada pustimo da se $m_0$ i $m_1$ povećavaju ili smanjuju za korak veličine `step_size` sve dok se *MSE* smanjuje."
   ]
  },
  {
   "cell_type": "code",
   "execution_count": 11,
   "metadata": {},
   "outputs": [
    {
     "name": "stdout",
     "output_type": "stream",
     "text": [
      "Calculating ... takes up to one minute\n",
      "Initial mse: 17566311244.997627\n",
      "Optimized mse: 11302502.217573397\n",
      "sklearn optimized mse 10080774.695512509\n",
      "New params: m_0 = 32137.374850793884, m_1 = -0.033552394859316576\n"
     ]
    }
   ],
   "source": [
    "print('Calculating ... takes up to one minute')\n",
    "\n",
    "while True:\n",
    "    for step_sign_0, step_sign_1 in [(0, 1), (0, -1), (1, 0), (-1, 0)]:\n",
    "        updated_parameters = (\n",
    "            m_0 + step_size * step_sign_0, m_1 + step_size * step_sign_1)\n",
    "        new_mse = calculate_linear_regression_mse(\n",
    "            car_mileage_vs_value_data_set, *updated_parameters)\n",
    "        \n",
    "        if new_mse < mse:\n",
    "            m_0, m_1 = updated_parameters\n",
    "            break\n",
    "    \n",
    "    if new_mse < mse:\n",
    "        mse = new_mse\n",
    "        continue\n",
    "    \n",
    "    break\n",
    "\n",
    "print(f'Initial mse: {initial_mse}')\n",
    "print(f'Optimized mse: {mse}')\n",
    "print(f'sklearn optimized mse {sklearn_mse}')\n",
    "print(f'New params: m_0 = {m_0}, m_1 = {m_1}')"
   ]
  },
  {
   "cell_type": "markdown",
   "metadata": {},
   "source": [
    "Uporedite *MSE* dobijen na ovaj način sa optimalnim *MSE*-om kog smo dobili prethodno korišteći `sklearn` biblioteku.\n",
    "Šta možete zaključiti?"
   ]
  },
  {
   "cell_type": "markdown",
   "metadata": {},
   "source": [
    "*Opaska: Metod koji smo koristili za nalazak pseudo-optimalnih parametara $m_0$ i $m_1$ se zove First Choice Hill Climbing i zapravo je izuzetno popularan u oblasti Metaheuristika. Metaheuristka je oblast koja se bavi izučavanjem metoda za nalaženje pseudo-optimalnih rješenja optimizacionih problema. Ona se prožima kroz oblast Mašinskog Učenja u cjelosti, ali njeno detaljnije izučavanje izlazi iz domena ovog predmeta.*"
   ]
  },
  {
   "cell_type": "markdown",
   "metadata": {},
   "source": [
    "Iscrtajmo pravu koju smo upravo pronašli First Choice Hill Climbing metodom."
   ]
  },
  {
   "cell_type": "code",
   "execution_count": 12,
   "metadata": {},
   "outputs": [
    {
     "data": {
      "application/vnd.plotly.v1+json": {
       "config": {
        "linkText": "Export to plot.ly",
        "plotlyServerURL": "https://plot.ly",
        "showLink": false
       },
       "data": [
        {
         "marker": {
          "color": "black"
         },
         "mode": "markers",
         "type": "scatter",
         "uid": "4263c713-8c68-4fac-9c89-0d8827a449ee",
         "x": [
          10000,
          400000,
          5000,
          0,
          1000,
          100000,
          50000,
          50,
          20000,
          200000
         ],
         "y": [
          31000,
          19000,
          32000,
          40000,
          33000,
          26000,
          29000,
          35000,
          30000,
          20000
         ]
        },
        {
         "line": {
          "color": "blue",
          "width": 3
         },
         "mode": "lines",
         "type": "scatter",
         "uid": "6479b00d-daaa-4980-ae4f-74b849057b1c",
         "x": [
          10000,
          400000,
          5000,
          0,
          1000,
          100000,
          50000,
          50,
          20000,
          200000
         ],
         "y": [
          32418.47367118483,
          15827.777194804323,
          32631.174908061505,
          32843.87614493818,
          32801.33589756284,
          28589.851407404713,
          30716.863776171445,
          32841.74913256941,
          31993.071197431484,
          24335.82666987125
         ]
        },
        {
         "line": {
          "color": "red",
          "width": 3
         },
         "mode": "lines",
         "type": "scatter",
         "uid": "a2f35616-ad27-48e1-855d-667c51c149d9",
         "x": [
          10000,
          400000,
          5000,
          0,
          1000,
          100000,
          50000,
          50,
          20000,
          200000
         ],
         "y": [
          31801.850902200717,
          18716.416907067254,
          31969.6128764973,
          32137.374850793884,
          32103.822455934565,
          28782.135364862224,
          30459.755107828056,
          32135.69723105092,
          31466.326953607553,
          25426.89587893057
         ]
        }
       ],
       "layout": {
        "hovermode": "closest",
        "showlegend": false,
        "xaxis": {
         "showticklabels": true,
         "ticks": "",
         "zeroline": false
        },
        "yaxis": {
         "showticklabels": true,
         "ticks": "",
         "zeroline": false
        }
       }
      },
      "text/html": [
       "<div id=\"3e818118-ccc5-4273-b23d-d5d28525dfa6\" style=\"height: 525px; width: 100%;\" class=\"plotly-graph-div\"></div><script type=\"text/javascript\">require([\"plotly\"], function(Plotly) { window.PLOTLYENV=window.PLOTLYENV || {};window.PLOTLYENV.BASE_URL=\"https://plot.ly\";\n",
       "if (document.getElementById(\"3e818118-ccc5-4273-b23d-d5d28525dfa6\")) {\n",
       "    Plotly.newPlot(\"3e818118-ccc5-4273-b23d-d5d28525dfa6\", [{\"marker\": {\"color\": \"black\"}, \"mode\": \"markers\", \"x\": [10000, 400000, 5000, 0, 1000, 100000, 50000, 50, 20000, 200000], \"y\": [31000, 19000, 32000, 40000, 33000, 26000, 29000, 35000, 30000, 20000], \"type\": \"scatter\", \"uid\": \"4263c713-8c68-4fac-9c89-0d8827a449ee\"}, {\"line\": {\"color\": \"blue\", \"width\": 3}, \"mode\": \"lines\", \"x\": [10000, 400000, 5000, 0, 1000, 100000, 50000, 50, 20000, 200000], \"y\": [32418.47367118483, 15827.777194804323, 32631.174908061505, 32843.87614493818, 32801.33589756284, 28589.851407404713, 30716.863776171445, 32841.74913256941, 31993.071197431484, 24335.82666987125], \"type\": \"scatter\", \"uid\": \"6479b00d-daaa-4980-ae4f-74b849057b1c\"}, {\"line\": {\"color\": \"red\", \"width\": 3}, \"mode\": \"lines\", \"x\": [10000, 400000, 5000, 0, 1000, 100000, 50000, 50, 20000, 200000], \"y\": [31801.850902200717, 18716.416907067254, 31969.6128764973, 32137.374850793884, 32103.822455934565, 28782.135364862224, 30459.755107828056, 32135.69723105092, 31466.326953607553, 25426.89587893057], \"type\": \"scatter\", \"uid\": \"a2f35616-ad27-48e1-855d-667c51c149d9\"}], {\"hovermode\": \"closest\", \"showlegend\": false, \"xaxis\": {\"showticklabels\": true, \"ticks\": \"\", \"zeroline\": false}, \"yaxis\": {\"showticklabels\": true, \"ticks\": \"\", \"zeroline\": false}}, {\"showLink\": false, \"linkText\": \"Export to plot.ly\", \"plotlyServerURL\": \"https://plot.ly\"}); \n",
       "}\n",
       "});</script><script type=\"text/javascript\">window.addEventListener(\"resize\", function(){if (document.getElementById(\"3e818118-ccc5-4273-b23d-d5d28525dfa6\")) {window._Plotly.Plots.resize(document.getElementById(\"3e818118-ccc5-4273-b23d-d5d28525dfa6\"));};})</script>"
      ],
      "text/vnd.plotly.v1+html": [
       "<div id=\"3e818118-ccc5-4273-b23d-d5d28525dfa6\" style=\"height: 525px; width: 100%;\" class=\"plotly-graph-div\"></div><script type=\"text/javascript\">require([\"plotly\"], function(Plotly) { window.PLOTLYENV=window.PLOTLYENV || {};window.PLOTLYENV.BASE_URL=\"https://plot.ly\";\n",
       "if (document.getElementById(\"3e818118-ccc5-4273-b23d-d5d28525dfa6\")) {\n",
       "    Plotly.newPlot(\"3e818118-ccc5-4273-b23d-d5d28525dfa6\", [{\"marker\": {\"color\": \"black\"}, \"mode\": \"markers\", \"x\": [10000, 400000, 5000, 0, 1000, 100000, 50000, 50, 20000, 200000], \"y\": [31000, 19000, 32000, 40000, 33000, 26000, 29000, 35000, 30000, 20000], \"type\": \"scatter\", \"uid\": \"4263c713-8c68-4fac-9c89-0d8827a449ee\"}, {\"line\": {\"color\": \"blue\", \"width\": 3}, \"mode\": \"lines\", \"x\": [10000, 400000, 5000, 0, 1000, 100000, 50000, 50, 20000, 200000], \"y\": [32418.47367118483, 15827.777194804323, 32631.174908061505, 32843.87614493818, 32801.33589756284, 28589.851407404713, 30716.863776171445, 32841.74913256941, 31993.071197431484, 24335.82666987125], \"type\": \"scatter\", \"uid\": \"6479b00d-daaa-4980-ae4f-74b849057b1c\"}, {\"line\": {\"color\": \"red\", \"width\": 3}, \"mode\": \"lines\", \"x\": [10000, 400000, 5000, 0, 1000, 100000, 50000, 50, 20000, 200000], \"y\": [31801.850902200717, 18716.416907067254, 31969.6128764973, 32137.374850793884, 32103.822455934565, 28782.135364862224, 30459.755107828056, 32135.69723105092, 31466.326953607553, 25426.89587893057], \"type\": \"scatter\", \"uid\": \"a2f35616-ad27-48e1-855d-667c51c149d9\"}], {\"hovermode\": \"closest\", \"showlegend\": false, \"xaxis\": {\"showticklabels\": true, \"ticks\": \"\", \"zeroline\": false}, \"yaxis\": {\"showticklabels\": true, \"ticks\": \"\", \"zeroline\": false}}, {\"showLink\": false, \"linkText\": \"Export to plot.ly\", \"plotlyServerURL\": \"https://plot.ly\"}); \n",
       "}\n",
       "});</script><script type=\"text/javascript\">window.addEventListener(\"resize\", function(){if (document.getElementById(\"3e818118-ccc5-4273-b23d-d5d28525dfa6\")) {window._Plotly.Plots.resize(document.getElementById(\"3e818118-ccc5-4273-b23d-d5d28525dfa6\"));};})</script>"
      ]
     },
     "metadata": {},
     "output_type": "display_data"
    }
   ],
   "source": [
    "fchc_linear_regression_line = go.Scatter(x=car_mileages, \n",
    "                                         y=calculate_line_height(x=car_mileages, k=m_1, n=m_0),\n",
    "                                         mode='lines',\n",
    "                                         line=dict(color='red', width=3))\n",
    "\n",
    "figure = go.Figure(data=[plot_data,\n",
    "                         linear_regression_line,\n",
    "                         fchc_linear_regression_line],\n",
    "                   layout=layout)\n",
    "\n",
    "ply.iplot(figure)"
   ]
  },
  {
   "cell_type": "markdown",
   "metadata": {},
   "source": [
    "Plava prava odgovara linearnoj regresiji izračunatoj koristeći biblioteku `sklearn`, a crvena odgovara linearnoj regresiji izračunatoj koristeći našu *First Choice Hill Climbing* (FCHC) metaheurisku."
   ]
  },
  {
   "cell_type": "markdown",
   "metadata": {},
   "source": [
    "*Pitanje za razmišljanje: Zašto se crvena linija ne poklapa sa plavom? Tj. zašto naša metaheuristika nije pronašla najbolje rješenje?*"
   ]
  },
  {
   "cell_type": "markdown",
   "metadata": {},
   "source": [
    "FCHC je prilično primitivna metaheuristika. Postoje metaheuristike mnogo jačeg kalibra sa kojima bismo sigurno dobili bolje rezultate. Srećom, optimalna prava linearne regresije se može pronaći bez ijedne metaheuristike i to koristeći isključivo kalkulus."
   ]
  },
  {
   "cell_type": "markdown",
   "metadata": {},
   "source": [
    "Prisjetimo se da želimo da pronađemo parametre $m_0, m_1 \\in \\mathbb{R}$ za koje je naš *Mean Squared Error* $ MSE(m_0, m_1) = \\frac{1}{|\\chi|}\\cdot\\sum_{(x, y) \\in \\chi}{(m_1\\cdot x + m_0 - y)^2}$ najmanji mogući. Drugim riječima, želimo da pronađemo minimum površi $MSE(m_0, m_1)$ u zavisnosti od parametara $m_0$ i $m_1$. Prisjetimo li se kalkulusa više promjenjivih, sjetiti ćemo se da se jedan takav ekstrem površi može relativno lahko izračunati. Naime, pokazuje se da $MSE(m_0, m_1)$ dostiže minimum za $$m_1=\\frac{\\overline{\\overline{y}} - \\overline{y}}{\\overline{\\overline{x}} - \\overline{x}}$$ $$m_0=\\overline{y} - m_1\\cdot \\overline{x}$$ gdje je $$\\overline{\\overline{y}} = \\frac{m_1'}{N\\cdot\\overline{x}}$$ $$\\overline{\\overline{x}} = \\frac{m_0'}{N\\cdot\\overline{x}}$$ $$\\overline{x} = \\frac{\\sum_{(x, y) \\in \\chi}{x}}{N}$$ $$\\overline{y} = \\frac{\\sum_{(x, y) \\in \\chi}{y}}{N}$$ a $$m_0' = \\sum_{(x, y) \\in \\chi}{x^2}$$ $$m_1' = \\sum_{(x, y) \\in \\chi}{x\\cdot y}$$ *Detaljan račun za nalazak parametara $m_0$ i $m_1$ se nalazi u poglavlju Regresiona analiza u profesorovoj skripti.*"
   ]
  },
  {
   "cell_type": "markdown",
   "metadata": {},
   "source": [
    "Sada našu linearnu regresiju možemo direktno implementirati kao:"
   ]
  },
  {
   "cell_type": "code",
   "execution_count": 12,
   "metadata": {},
   "outputs": [
    {
     "name": "stdout",
     "output_type": "stream",
     "text": [
      "m_0 = 32843.87614493818\n",
      "m_1 = -0.04254024737533463\n",
      "MSE: 10080774.695512515\n"
     ]
    }
   ],
   "source": [
    "assert len(car_mileages) == len(car_values), 'Invalid train/labels size'\n",
    "training_set_size: int = len(car_values)\n",
    "\n",
    "\n",
    "m_0_ = np.sum(car_mileages ** 2)\n",
    "m_1_ = np.dot(car_mileages, car_values)\n",
    "    \n",
    "x_ = np.mean(car_mileages)\n",
    "y_ = np.mean(car_values)\n",
    "    \n",
    "x__ = m_0_ / training_set_size / x_\n",
    "y__ = m_1_ / training_set_size / x_\n",
    "\n",
    "m_1: float = (y__ - y_) / (x__ - x_)\n",
    "m_0: float = y_ - m_1 * x_\n",
    "    \n",
    "print(f'm_0 = {m_0}')\n",
    "print(f'm_1 = {m_1}')\n",
    "print(f'MSE: {calculate_linear_regression_mse(training_set=car_mileage_vs_value_data_set, m_0=m_0, m_1=m_1)}')"
   ]
  },
  {
   "cell_type": "markdown",
   "metadata": {},
   "source": [
    "Iscrtajmo linearnu regresiju koju formiraju novopronađeni parametri $m_0$ i $m_1$:"
   ]
  },
  {
   "cell_type": "code",
   "execution_count": 13,
   "metadata": {},
   "outputs": [
    {
     "data": {
      "application/vnd.plotly.v1+json": {
       "config": {
        "linkText": "Export to plot.ly",
        "plotlyServerURL": "https://plot.ly",
        "showLink": false
       },
       "data": [
        {
         "marker": {
          "color": "black"
         },
         "mode": "markers",
         "type": "scatter",
         "uid": "5abe05cb-058b-45dc-8c97-8ec4f56c44e8",
         "x": [
          10000,
          400000,
          5000,
          0,
          1000,
          100000,
          50000,
          50,
          20000,
          200000
         ],
         "y": [
          31000,
          19000,
          32000,
          40000,
          33000,
          26000,
          29000,
          35000,
          30000,
          20000
         ]
        },
        {
         "line": {
          "color": "blue",
          "width": 3
         },
         "mode": "lines",
         "type": "scatter",
         "uid": "8f5df110-25c3-4019-be4d-64c43621fae7",
         "x": [
          10000,
          400000,
          5000,
          0,
          1000,
          100000,
          50000,
          50,
          20000,
          200000
         ],
         "y": [
          32418.47367118483,
          15827.777194804323,
          32631.174908061505,
          32843.87614493818,
          32801.33589756284,
          28589.851407404713,
          30716.863776171445,
          32841.74913256941,
          31993.071197431484,
          24335.82666987125
         ]
        },
        {
         "line": {
          "color": "red",
          "width": 3
         },
         "mode": "lines",
         "type": "scatter",
         "uid": "c0e7e38d-2266-4581-978c-295fafffcb9e",
         "x": [
          10000,
          400000,
          5000,
          0,
          1000,
          100000,
          50000,
          50,
          20000,
          200000
         ],
         "y": [
          27778.552325539928,
          37564.26935493916,
          27653.0944149066,
          27527.63650427328,
          27552.728086399944,
          30036.794716939752,
          28782.215610606516,
          27528.891083379614,
          28029.468146806576,
          32545.95292960622
         ]
        },
        {
         "line": {
          "color": "green",
          "width": 3
         },
         "mode": "lines",
         "type": "scatter",
         "uid": "7ced0928-38ba-4449-8d70-5a70ca2a7d61",
         "x": [
          10000,
          400000,
          5000,
          0,
          1000,
          100000,
          50000,
          50,
          20000,
          200000
         ],
         "y": [
          32418.47367118483,
          15827.777194804326,
          32631.174908061505,
          32843.87614493818,
          32801.33589756284,
          28589.851407404716,
          30716.863776171445,
          32841.74913256941,
          31993.071197431487,
          24335.826669871254
         ]
        }
       ],
       "layout": {
        "hovermode": "closest",
        "showlegend": false,
        "xaxis": {
         "showticklabels": true,
         "ticks": "",
         "zeroline": false
        },
        "yaxis": {
         "showticklabels": true,
         "ticks": "",
         "zeroline": false
        }
       }
      },
      "text/html": [
       "<div id=\"fa55fcaf-9979-4f3a-aaa4-eb2347778a53\" style=\"height: 525px; width: 100%;\" class=\"plotly-graph-div\"></div><script type=\"text/javascript\">require([\"plotly\"], function(Plotly) { window.PLOTLYENV=window.PLOTLYENV || {};window.PLOTLYENV.BASE_URL=\"https://plot.ly\";\n",
       "if (document.getElementById(\"fa55fcaf-9979-4f3a-aaa4-eb2347778a53\")) {\n",
       "    Plotly.newPlot(\"fa55fcaf-9979-4f3a-aaa4-eb2347778a53\", [{\"marker\": {\"color\": \"black\"}, \"mode\": \"markers\", \"x\": [10000, 400000, 5000, 0, 1000, 100000, 50000, 50, 20000, 200000], \"y\": [31000, 19000, 32000, 40000, 33000, 26000, 29000, 35000, 30000, 20000], \"type\": \"scatter\", \"uid\": \"5abe05cb-058b-45dc-8c97-8ec4f56c44e8\"}, {\"line\": {\"color\": \"blue\", \"width\": 3}, \"mode\": \"lines\", \"x\": [10000, 400000, 5000, 0, 1000, 100000, 50000, 50, 20000, 200000], \"y\": [32418.47367118483, 15827.777194804323, 32631.174908061505, 32843.87614493818, 32801.33589756284, 28589.851407404713, 30716.863776171445, 32841.74913256941, 31993.071197431484, 24335.82666987125], \"type\": \"scatter\", \"uid\": \"8f5df110-25c3-4019-be4d-64c43621fae7\"}, {\"line\": {\"color\": \"red\", \"width\": 3}, \"mode\": \"lines\", \"x\": [10000, 400000, 5000, 0, 1000, 100000, 50000, 50, 20000, 200000], \"y\": [27778.552325539928, 37564.26935493916, 27653.0944149066, 27527.63650427328, 27552.728086399944, 30036.794716939752, 28782.215610606516, 27528.891083379614, 28029.468146806576, 32545.95292960622], \"type\": \"scatter\", \"uid\": \"c0e7e38d-2266-4581-978c-295fafffcb9e\"}, {\"line\": {\"color\": \"green\", \"width\": 3}, \"mode\": \"lines\", \"x\": [10000, 400000, 5000, 0, 1000, 100000, 50000, 50, 20000, 200000], \"y\": [32418.47367118483, 15827.777194804326, 32631.174908061505, 32843.87614493818, 32801.33589756284, 28589.851407404716, 30716.863776171445, 32841.74913256941, 31993.071197431487, 24335.826669871254], \"type\": \"scatter\", \"uid\": \"7ced0928-38ba-4449-8d70-5a70ca2a7d61\"}], {\"hovermode\": \"closest\", \"showlegend\": false, \"xaxis\": {\"showticklabels\": true, \"ticks\": \"\", \"zeroline\": false}, \"yaxis\": {\"showticklabels\": true, \"ticks\": \"\", \"zeroline\": false}}, {\"showLink\": false, \"linkText\": \"Export to plot.ly\", \"plotlyServerURL\": \"https://plot.ly\"}); \n",
       "}\n",
       "});</script><script type=\"text/javascript\">window.addEventListener(\"resize\", function(){if (document.getElementById(\"fa55fcaf-9979-4f3a-aaa4-eb2347778a53\")) {window._Plotly.Plots.resize(document.getElementById(\"fa55fcaf-9979-4f3a-aaa4-eb2347778a53\"));};})</script>"
      ],
      "text/vnd.plotly.v1+html": [
       "<div id=\"fa55fcaf-9979-4f3a-aaa4-eb2347778a53\" style=\"height: 525px; width: 100%;\" class=\"plotly-graph-div\"></div><script type=\"text/javascript\">require([\"plotly\"], function(Plotly) { window.PLOTLYENV=window.PLOTLYENV || {};window.PLOTLYENV.BASE_URL=\"https://plot.ly\";\n",
       "if (document.getElementById(\"fa55fcaf-9979-4f3a-aaa4-eb2347778a53\")) {\n",
       "    Plotly.newPlot(\"fa55fcaf-9979-4f3a-aaa4-eb2347778a53\", [{\"marker\": {\"color\": \"black\"}, \"mode\": \"markers\", \"x\": [10000, 400000, 5000, 0, 1000, 100000, 50000, 50, 20000, 200000], \"y\": [31000, 19000, 32000, 40000, 33000, 26000, 29000, 35000, 30000, 20000], \"type\": \"scatter\", \"uid\": \"5abe05cb-058b-45dc-8c97-8ec4f56c44e8\"}, {\"line\": {\"color\": \"blue\", \"width\": 3}, \"mode\": \"lines\", \"x\": [10000, 400000, 5000, 0, 1000, 100000, 50000, 50, 20000, 200000], \"y\": [32418.47367118483, 15827.777194804323, 32631.174908061505, 32843.87614493818, 32801.33589756284, 28589.851407404713, 30716.863776171445, 32841.74913256941, 31993.071197431484, 24335.82666987125], \"type\": \"scatter\", \"uid\": \"8f5df110-25c3-4019-be4d-64c43621fae7\"}, {\"line\": {\"color\": \"red\", \"width\": 3}, \"mode\": \"lines\", \"x\": [10000, 400000, 5000, 0, 1000, 100000, 50000, 50, 20000, 200000], \"y\": [27778.552325539928, 37564.26935493916, 27653.0944149066, 27527.63650427328, 27552.728086399944, 30036.794716939752, 28782.215610606516, 27528.891083379614, 28029.468146806576, 32545.95292960622], \"type\": \"scatter\", \"uid\": \"c0e7e38d-2266-4581-978c-295fafffcb9e\"}, {\"line\": {\"color\": \"green\", \"width\": 3}, \"mode\": \"lines\", \"x\": [10000, 400000, 5000, 0, 1000, 100000, 50000, 50, 20000, 200000], \"y\": [32418.47367118483, 15827.777194804326, 32631.174908061505, 32843.87614493818, 32801.33589756284, 28589.851407404716, 30716.863776171445, 32841.74913256941, 31993.071197431487, 24335.826669871254], \"type\": \"scatter\", \"uid\": \"7ced0928-38ba-4449-8d70-5a70ca2a7d61\"}], {\"hovermode\": \"closest\", \"showlegend\": false, \"xaxis\": {\"showticklabels\": true, \"ticks\": \"\", \"zeroline\": false}, \"yaxis\": {\"showticklabels\": true, \"ticks\": \"\", \"zeroline\": false}}, {\"showLink\": false, \"linkText\": \"Export to plot.ly\", \"plotlyServerURL\": \"https://plot.ly\"}); \n",
       "}\n",
       "});</script><script type=\"text/javascript\">window.addEventListener(\"resize\", function(){if (document.getElementById(\"fa55fcaf-9979-4f3a-aaa4-eb2347778a53\")) {window._Plotly.Plots.resize(document.getElementById(\"fa55fcaf-9979-4f3a-aaa4-eb2347778a53\"));};})</script>"
      ]
     },
     "metadata": {},
     "output_type": "display_data"
    }
   ],
   "source": [
    "calculus_linear_regression_line = go.Scatter(x=car_mileages, \n",
    "                                             y=calculate_line_height(x=car_mileages, k=m_1, n=m_0),\n",
    "                                             mode='lines',\n",
    "                                             line=dict(color='green', width=3))\n",
    "\n",
    "figure = go.Figure(data=[plot_data,\n",
    "                         linear_regression_line,\n",
    "                         fchc_linear_regression_line,\n",
    "                         calculus_linear_regression_line],\n",
    "                   layout=layout)\n",
    "\n",
    "ply.iplot(figure)"
   ]
  },
  {
   "cell_type": "markdown",
   "metadata": {},
   "source": [
    "Zelena linija preklapa plavu, što potvrđuje da biblioteka `sklearn` također nalazi optimalnu linearnu regresiju."
   ]
  },
  {
   "cell_type": "markdown",
   "metadata": {},
   "source": [
    "Postoje trenutci u praksi kada nam je potrebna brza, ali dovoljno dobra analiza podataka (tačnije analiza trenda podataka). Npr. prilikom pisanja poslovnih prijedloga ili POC-a *(Proof of concept)* projekata (i to ne nužno samo Data Science projekata). Zatim često je potreba plitka analiza podataka prije nego li se odlučimo za korištenje nekog kompleksnijeg algoritma nadgledanog učenja itd. Linearna regresija je uglavnom najpopularniji alat u navedenim situacijama i kao takva, neizostavan alat svakog ko se iole dotiče neke statističke analize podataka."
   ]
  }
 ],
 "metadata": {
  "kernelspec": {
   "display_name": "Python 3",
   "language": "python",
   "name": "python3"
  },
  "language_info": {
   "codemirror_mode": {
    "name": "ipython",
    "version": 3
   },
   "file_extension": ".py",
   "mimetype": "text/x-python",
   "name": "python",
   "nbconvert_exporter": "python",
   "pygments_lexer": "ipython3",
   "version": "3.7.2"
  }
 },
 "nbformat": 4,
 "nbformat_minor": 2
}
