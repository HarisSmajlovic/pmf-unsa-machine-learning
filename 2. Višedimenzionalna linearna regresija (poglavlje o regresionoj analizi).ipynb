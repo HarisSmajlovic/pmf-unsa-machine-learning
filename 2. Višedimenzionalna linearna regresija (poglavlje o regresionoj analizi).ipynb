{
 "cells": [
  {
   "cell_type": "markdown",
   "metadata": {},
   "source": [
    "# Višedimenzionalna linearna regresija"
   ]
  },
  {
   "cell_type": "markdown",
   "metadata": {},
   "source": [
    "Broj pređenih kilometera sigurno utiče na cijenu auta, ali nije ni približno jedini faktor koji ju određuje. Tu su još i starost auta, broj odrađenih servisa, trošnost auta, boja auta itd. Nameće se pitanje, da li možemo našu linearnu regresiju proširiti tako da umjesto jednog parametra, broj pređenih kilometara, ona prima više parametara na osnovu kojih će vršiti procjenu cijene auta. Odgovor je da može, sve dok je skup vrijednosti svakog parametra uređen *(tj. između nas, sve dok možemo vrijednosti bilo kog parametra poredati na brojnu osu)*."
   ]
  },
  {
   "cell_type": "markdown",
   "metadata": {},
   "source": [
    "Generalizirajmo malo prethodni navod. Linearna regresija $y = m_1\\cdot x + m_0$, se može proširiti na način da umjesto jednog parametra $x$, prima vektor $\\overline{x}=(x_1, ..., x_p)$, $x_i \\in S_i$, $\\forall i \\in \\overline{1, p}$, gdje je $S_i$ uređen za svako $i \\in \\overline{1, p}$, $p \\in \\mathbb{N}$. Takva linearna regresija se naziva **višedimenzionalna linearna regresija**."
   ]
  },
  {
   "cell_type": "markdown",
   "metadata": {},
   "source": [
    "Način na koji se vrši navedeno proširenje je poprilično prirodan: $$y = \\overline{m}\\cdot\\overline{x} + m_0$$ s tim da je $\\overline{m}$ sada vektor i to takav da $\\overline{m} \\in \\mathbb{R}^p$, a $\\overline{m}\\cdot\\overline{x}$ odgovara skalarnom produktu vektora $\\overline{m}$ i $\\overline{x}$."
   ]
  },
  {
   "cell_type": "markdown",
   "metadata": {},
   "source": [
    "Sjetimo se da nam je kod linearne regresije $y = m_1\\cdot x + m_0$ cilj bio da za date parove $(x_i, y_i)$ u trening skupu, odredimo vrijednost parametara $m_1$ i $m_0$, bilo koristeći metaheuristike ili analizu ekstrema površi, takve da prava $y = m_1\\cdot x + m_0$ što bolje \"oslika\" dati trening skup. Ista analogija se primjenjuje i kod višedimenzionalne linearne regresije. Naime, želimo da za date parove $(\\overline{x}, y)$ novog trening skupa, pronađemo $\\overline{m_1}$ i $m_0$, takve da hiperravan $y = \\overline{m}\\cdot\\overline{x} + m_0$ što bolje \"oslika\" dati trening skup. Prisjetimo se još da smo kod linearne regresije kvalitet kojim prava \"oslikava\" trening skup mjerili računajući MSE trening skupa $(x_i, y_i)$: $$MSE(\\chi, m_0, m_1) = \\frac{1}{|\\chi|}\\cdot\\sum_{(x, y) \\in \\chi}{(m_1\\cdot x + m_0 - y)^2}$$\n",
    "Odlučimo se da za mjerenje kvaliteta višedimenzionalne linearne regresije, koristimo također MSE: $$MSE(\\chi, m_0, \\overline{m}) = \\frac{1}{|\\chi|}\\cdot\\sum_{(\\overline{x}, y) \\in \\chi}{(\\overline{m}\\cdot \\overline{x} + m_0 - y)^2}$$"
   ]
  },
  {
   "cell_type": "markdown",
   "metadata": {},
   "source": [
    "Vratimo se našemu konkretnom problemu procjene cijene auta. Recimo da sada, pored broja pređenih kilometara, imamo i informaciju o starosti auta. Dakle naš trening skup se sastoji od uređenih parova $((broj\\_pređenih\\_kilometara, starost\\_auta), cijena\\_auta)$. Radi lakše prezentacije podataka, recimo da nam je starost auta data u satima, te da naš prošireni trening skup glasi: $${((10000km, 5000h), 31000\\$), ((400000km, 100000h), 19000\\$), ((5000km, 2500h), 32000\\$), ((0km, 0h), 40000\\$), ((1000km, 500h), 33000\\$), ((100000km, 50000h), 26000\\$), ((50000km, 25000h), 29000\\$), ((50km, 24h), 35000\\$), ((20000km, 10000h), 30000\\$), ((200000km, 100000h), 20000\\$)}$$\n",
    "Zarad lakše prezentacije podataka, dopisane su i jedinice. Iscrtajmo date podatke:"
   ]
  },
  {
   "cell_type": "code",
   "execution_count": 1,
   "metadata": {},
   "outputs": [],
   "source": [
    "import numpy as np\n",
    "\n",
    "training_data: np.array = np.array(\n",
    "    [(10000 ,5000, 31000), (400000, 100000, 19000), (5000, 2500, 32000),\n",
    "     (0, 0, 40000), (1000, 500, 33000), (100000, 50000, 26000),\n",
    "     (50000, 25000, 29000), (50, 24, 35000), (20000, 10000, 30000),\n",
    "     (200000, 100000, 20000)])"
   ]
  },
  {
   "cell_type": "code",
   "execution_count": 3,
   "metadata": {
    "scrolled": false
   },
   "outputs": [
    {
     "data": {
      "text/html": [
       "<script type=\"text/javascript\">window.PlotlyConfig = {MathJaxConfig: 'local'};</script><script type=\"text/javascript\">if (window.MathJax) {MathJax.Hub.Config({SVG: {font: \"STIX-Web\"}});}</script><script>requirejs.config({paths: { 'plotly': ['https://cdn.plot.ly/plotly-latest.min']},});if(!window._Plotly) {require(['plotly'],function(plotly) {window._Plotly=plotly;});}</script>"
      ],
      "text/vnd.plotly.v1+html": [
       "<script type=\"text/javascript\">window.PlotlyConfig = {MathJaxConfig: 'local'};</script><script type=\"text/javascript\">if (window.MathJax) {MathJax.Hub.Config({SVG: {font: \"STIX-Web\"}});}</script><script>requirejs.config({paths: { 'plotly': ['https://cdn.plot.ly/plotly-latest.min']},});if(!window._Plotly) {require(['plotly'],function(plotly) {window._Plotly=plotly;});}</script>"
      ]
     },
     "metadata": {},
     "output_type": "display_data"
    },
    {
     "data": {
      "application/vnd.plotly.v1+json": {
       "config": {
        "linkText": "Export to plot.ly",
        "plotlyServerURL": "https://plot.ly",
        "showLink": false
       },
       "data": [
        {
         "marker": {
          "color": [
           31000,
           19000,
           32000,
           40000,
           33000,
           26000,
           29000,
           35000,
           30000,
           20000
          ],
          "colorscale": "Viridis",
          "opacity": 0.8,
          "size": 10
         },
         "mode": "markers",
         "type": "scatter3d",
         "uid": "124f4c35-d305-4437-9316-6487ebc8cb99",
         "x": [
          10000,
          400000,
          5000,
          0,
          1000,
          100000,
          50000,
          50,
          20000,
          200000
         ],
         "y": [
          5000,
          100000,
          2500,
          0,
          500,
          50000,
          25000,
          24,
          10000,
          100000
         ],
         "z": [
          31000,
          19000,
          32000,
          40000,
          33000,
          26000,
          29000,
          35000,
          30000,
          20000
         ]
        }
       ],
       "layout": {
        "scene": {
         "xaxis": {
          "title": {
           "font": {
            "color": "rgb(200, 200, 200)"
           },
           "text": "Mileage"
          }
         },
         "yaxis": {
          "title": {
           "font": {
            "color": "rgb(200, 200, 200)"
           },
           "text": "Age"
          }
         },
         "zaxis": {
          "title": {
           "font": {
            "color": "rgb(200, 200, 200)"
           },
           "text": "Price"
          }
         }
        }
       }
      },
      "text/html": [
       "<div id=\"d9c9d928-5a2c-476b-9821-cdee54baf0af\" style=\"height: 525px; width: 100%;\" class=\"plotly-graph-div\"></div><script type=\"text/javascript\">require([\"plotly\"], function(Plotly) { window.PLOTLYENV=window.PLOTLYENV || {};window.PLOTLYENV.BASE_URL=\"https://plot.ly\";\n",
       "if (document.getElementById(\"d9c9d928-5a2c-476b-9821-cdee54baf0af\")) {\n",
       "    Plotly.newPlot(\"d9c9d928-5a2c-476b-9821-cdee54baf0af\", [{\"marker\": {\"color\": [31000, 19000, 32000, 40000, 33000, 26000, 29000, 35000, 30000, 20000], \"colorscale\": \"Viridis\", \"opacity\": 0.8, \"size\": 10}, \"mode\": \"markers\", \"x\": [10000, 400000, 5000, 0, 1000, 100000, 50000, 50, 20000, 200000], \"y\": [5000, 100000, 2500, 0, 500, 50000, 25000, 24, 10000, 100000], \"z\": [31000, 19000, 32000, 40000, 33000, 26000, 29000, 35000, 30000, 20000], \"type\": \"scatter3d\", \"uid\": \"124f4c35-d305-4437-9316-6487ebc8cb99\"}], {\"scene\": {\"xaxis\": {\"title\": {\"font\": {\"color\": \"rgb(200, 200, 200)\"}, \"text\": \"Mileage\"}}, \"yaxis\": {\"title\": {\"font\": {\"color\": \"rgb(200, 200, 200)\"}, \"text\": \"Age\"}}, \"zaxis\": {\"title\": {\"font\": {\"color\": \"rgb(200, 200, 200)\"}, \"text\": \"Price\"}}}}, {\"showLink\": false, \"linkText\": \"Export to plot.ly\", \"plotlyServerURL\": \"https://plot.ly\"}); \n",
       "}\n",
       "});</script><script type=\"text/javascript\">window.addEventListener(\"resize\", function(){if (document.getElementById(\"d9c9d928-5a2c-476b-9821-cdee54baf0af\")) {window._Plotly.Plots.resize(document.getElementById(\"d9c9d928-5a2c-476b-9821-cdee54baf0af\"));};})</script>"
      ],
      "text/vnd.plotly.v1+html": [
       "<div id=\"d9c9d928-5a2c-476b-9821-cdee54baf0af\" style=\"height: 525px; width: 100%;\" class=\"plotly-graph-div\"></div><script type=\"text/javascript\">require([\"plotly\"], function(Plotly) { window.PLOTLYENV=window.PLOTLYENV || {};window.PLOTLYENV.BASE_URL=\"https://plot.ly\";\n",
       "if (document.getElementById(\"d9c9d928-5a2c-476b-9821-cdee54baf0af\")) {\n",
       "    Plotly.newPlot(\"d9c9d928-5a2c-476b-9821-cdee54baf0af\", [{\"marker\": {\"color\": [31000, 19000, 32000, 40000, 33000, 26000, 29000, 35000, 30000, 20000], \"colorscale\": \"Viridis\", \"opacity\": 0.8, \"size\": 10}, \"mode\": \"markers\", \"x\": [10000, 400000, 5000, 0, 1000, 100000, 50000, 50, 20000, 200000], \"y\": [5000, 100000, 2500, 0, 500, 50000, 25000, 24, 10000, 100000], \"z\": [31000, 19000, 32000, 40000, 33000, 26000, 29000, 35000, 30000, 20000], \"type\": \"scatter3d\", \"uid\": \"124f4c35-d305-4437-9316-6487ebc8cb99\"}], {\"scene\": {\"xaxis\": {\"title\": {\"font\": {\"color\": \"rgb(200, 200, 200)\"}, \"text\": \"Mileage\"}}, \"yaxis\": {\"title\": {\"font\": {\"color\": \"rgb(200, 200, 200)\"}, \"text\": \"Age\"}}, \"zaxis\": {\"title\": {\"font\": {\"color\": \"rgb(200, 200, 200)\"}, \"text\": \"Price\"}}}}, {\"showLink\": false, \"linkText\": \"Export to plot.ly\", \"plotlyServerURL\": \"https://plot.ly\"}); \n",
       "}\n",
       "});</script><script type=\"text/javascript\">window.addEventListener(\"resize\", function(){if (document.getElementById(\"d9c9d928-5a2c-476b-9821-cdee54baf0af\")) {window._Plotly.Plots.resize(document.getElementById(\"d9c9d928-5a2c-476b-9821-cdee54baf0af\"));};})</script>"
      ]
     },
     "metadata": {},
     "output_type": "display_data"
    }
   ],
   "source": [
    "import plotly.offline as ply\n",
    "import plotly.graph_objs as go\n",
    "\n",
    "ply.init_notebook_mode(connected=True)\n",
    "\n",
    "\n",
    "car_mileages: np.ndarray = training_data.T[0]\n",
    "car_ages: np.ndarray = training_data.T[1]\n",
    "car_values: np.ndarray = training_data.T[2]\n",
    "\n",
    "plot_data = go.Scatter3d(x=car_mileages, \n",
    "                         y=car_ages,\n",
    "                         z=car_values,\n",
    "                         mode='markers',\n",
    "                         marker=dict(\n",
    "                            size=10,\n",
    "                            color=car_values,\n",
    "                            colorscale='Viridis',\n",
    "                            opacity=0.8))\n",
    "\n",
    "layout = go.Layout(\n",
    "    scene = dict(xaxis=dict(title='Mileage',\n",
    "                            titlefont=dict(color='rgb(200, 200, 200)')),\n",
    "                 yaxis=dict(title='Age',\n",
    "                            titlefont=dict(color='rgb(200, 200, 200)')),\n",
    "                 zaxis=dict(title='Price',\n",
    "                            titlefont=dict(color='rgb(200, 200, 200)'))))\n",
    "\n",
    "\n",
    "figure = go.Figure(data=[plot_data], layout=layout)\n",
    "ply.iplot(figure)"
   ]
  },
  {
   "cell_type": "markdown",
   "metadata": {},
   "source": [
    "Dimenzija vektora $\\overline{x}$, u trening skupu kojeg čine parovi $(\\overline{x}, y)$ određuje dimenziju trening skupa. Odatle je navedeni trening skup dvodimenzionalan, pa je time i linearna regresija koju nalazimo za dati trening skup dvodimenzionalna. Drugim riječima, linerna regresija koju nalazimo sada odgovara ravni $y = m_2\\cdot x_2 + m_1\\cdot x_1 + m_0$, takvoj da $\\frac{1}{|\\chi|}\\cdot\\sum_{((x_1, x_2), y) \\in \\chi}{(m_2\\cdot x_2 + m_1\\cdot x_1 + m_0 - y)^2}$ prima najmanju moguću vrijednost."
   ]
  },
  {
   "cell_type": "markdown",
   "metadata": {},
   "source": [
    "Za početak, iskoristimo biblioteku `sklearn` da pronađemo linearnu regresiju datog trening skupa."
   ]
  },
  {
   "cell_type": "code",
   "execution_count": 5,
   "metadata": {},
   "outputs": [
    {
     "name": "stdout",
     "output_type": "stream",
     "text": [
      "Mean squared error: 5443580.650145473\n"
     ]
    },
    {
     "data": {
      "application/vnd.plotly.v1+json": {
       "config": {
        "linkText": "Export to plot.ly",
        "plotlyServerURL": "https://plot.ly",
        "showLink": false
       },
       "data": [
        {
         "marker": {
          "color": [
           31000,
           19000,
           32000,
           40000,
           33000,
           26000,
           29000,
           35000,
           30000,
           20000
          ],
          "colorscale": "Viridis",
          "opacity": 0.8,
          "size": 10
         },
         "mode": "markers",
         "type": "scatter3d",
         "uid": "c62d7eec-7bfe-4a60-8c0c-ebe4232804c8",
         "x": [
          10000,
          400000,
          5000,
          0,
          1000,
          100000,
          50000,
          50,
          20000,
          200000
         ],
         "y": [
          5000,
          100000,
          2500,
          0,
          500,
          50000,
          25000,
          24,
          10000,
          100000
         ],
         "z": [
          31000,
          19000,
          32000,
          40000,
          33000,
          26000,
          29000,
          35000,
          30000,
          20000
         ]
        },
        {
         "type": "surface",
         "uid": "b7efd08c-5851-49a8-8d7b-82acbe70f4dc",
         "x": [
          10000,
          400000,
          5000,
          0,
          1000,
          100000,
          50000,
          50,
          20000,
          200000
         ],
         "y": [
          5000,
          100000,
          2500,
          0,
          500,
          50000,
          25000,
          24,
          10000,
          100000
         ],
         "z": [
          [
           33087.83600105291,
           32887.13335679348,
           33090.40911187675,
           33092.982222700586,
           33092.46760053582,
           33041.52000622381,
           33067.2511144622,
           33092.95649159235,
           33082.68977940523,
           32990.057789747036
          ],
          [
           19200.714440766424,
           19000.011796507,
           19203.287551590263,
           19205.860662414103,
           19205.346040249337,
           19154.398445937328,
           19180.129554175714,
           19205.834931305864,
           19195.568219118748,
           19102.936229460553
          ],
          [
           33453.28656842887,
           33252.58392416944,
           33455.85967925271,
           33458.43279007654,
           33457.918167911776,
           33406.97057359977,
           33432.70168183816,
           33458.4070589683,
           33448.14034678119,
           33355.50835712299
          ],
          [
           33818.737135804826,
           33618.034491545404,
           33821.310246628665,
           33823.883357452505,
           33823.36873528774,
           33772.421140975726,
           33798.152249214116,
           33823.85762634427,
           33813.59091415715,
           33720.958924498955
          ],
          [
           33745.647022329635,
           33544.944378070206,
           33748.220133153474,
           33750.793243977314,
           33750.27862181255,
           33699.331027500535,
           33725.062135738925,
           33750.767512869075,
           33740.500800681955,
           33647.86881102376
          ],
          [
           26509.72578828563,
           26309.0231440262,
           26512.298899109464,
           26514.872009933304,
           26514.357387768538,
           26463.40979345653,
           26489.14090169492,
           26514.846278825065,
           26504.57956663795,
           26411.94757697975
          ],
          [
           30164.231462045227,
           29963.528817785802,
           30166.804572869067,
           30169.377683692903,
           30168.863061528136,
           30117.915467216128,
           30143.646575454517,
           30169.351952584668,
           30159.08524039755,
           30066.453250739352
          ],
          [
           33815.22881035802,
           33614.52616609859,
           33817.801921181854,
           33820.37503200569,
           33819.86040984093,
           33768.91281552892,
           33794.64392376731,
           33820.349300897455,
           33810.08258871034,
           33717.45059905214
          ],
          [
           32356.934866300988,
           32156.232222041563,
           32359.507977124827,
           32362.081087948663,
           32361.566465783897,
           32310.61887147189,
           32336.349979710278,
           32362.05535684043,
           32351.78864465331,
           32259.156654995113
          ],
          [
           19200.714440766424,
           19000.011796507,
           19203.287551590263,
           19205.860662414103,
           19205.346040249337,
           19154.398445937328,
           19180.129554175714,
           19205.834931305864,
           19195.568219118748,
           19102.936229460553
          ]
         ]
        }
       ],
       "layout": {
        "scene": {
         "xaxis": {
          "title": {
           "font": {
            "color": "rgb(200, 200, 200)"
           },
           "text": "Mileage"
          }
         },
         "yaxis": {
          "title": {
           "font": {
            "color": "rgb(200, 200, 200)"
           },
           "text": "Age"
          }
         },
         "zaxis": {
          "title": {
           "font": {
            "color": "rgb(200, 200, 200)"
           },
           "text": "Price"
          }
         }
        }
       }
      },
      "text/html": [
       "<div id=\"d83e68a8-88e3-47fe-8dfc-1ccbb5ec5a3a\" style=\"height: 525px; width: 100%;\" class=\"plotly-graph-div\"></div><script type=\"text/javascript\">require([\"plotly\"], function(Plotly) { window.PLOTLYENV=window.PLOTLYENV || {};window.PLOTLYENV.BASE_URL=\"https://plot.ly\";\n",
       "if (document.getElementById(\"d83e68a8-88e3-47fe-8dfc-1ccbb5ec5a3a\")) {\n",
       "    Plotly.newPlot(\"d83e68a8-88e3-47fe-8dfc-1ccbb5ec5a3a\", [{\"marker\": {\"color\": [31000, 19000, 32000, 40000, 33000, 26000, 29000, 35000, 30000, 20000], \"colorscale\": \"Viridis\", \"opacity\": 0.8, \"size\": 10}, \"mode\": \"markers\", \"x\": [10000, 400000, 5000, 0, 1000, 100000, 50000, 50, 20000, 200000], \"y\": [5000, 100000, 2500, 0, 500, 50000, 25000, 24, 10000, 100000], \"z\": [31000, 19000, 32000, 40000, 33000, 26000, 29000, 35000, 30000, 20000], \"type\": \"scatter3d\", \"uid\": \"c62d7eec-7bfe-4a60-8c0c-ebe4232804c8\"}, {\"x\": [10000, 400000, 5000, 0, 1000, 100000, 50000, 50, 20000, 200000], \"y\": [5000, 100000, 2500, 0, 500, 50000, 25000, 24, 10000, 100000], \"z\": [[33087.83600105291, 32887.13335679348, 33090.40911187675, 33092.982222700586, 33092.46760053582, 33041.52000622381, 33067.2511144622, 33092.95649159235, 33082.68977940523, 32990.057789747036], [19200.714440766424, 19000.011796507, 19203.287551590263, 19205.860662414103, 19205.346040249337, 19154.398445937328, 19180.129554175714, 19205.834931305864, 19195.568219118748, 19102.936229460553], [33453.28656842887, 33252.58392416944, 33455.85967925271, 33458.43279007654, 33457.918167911776, 33406.97057359977, 33432.70168183816, 33458.4070589683, 33448.14034678119, 33355.50835712299], [33818.737135804826, 33618.034491545404, 33821.310246628665, 33823.883357452505, 33823.36873528774, 33772.421140975726, 33798.152249214116, 33823.85762634427, 33813.59091415715, 33720.958924498955], [33745.647022329635, 33544.944378070206, 33748.220133153474, 33750.793243977314, 33750.27862181255, 33699.331027500535, 33725.062135738925, 33750.767512869075, 33740.500800681955, 33647.86881102376], [26509.72578828563, 26309.0231440262, 26512.298899109464, 26514.872009933304, 26514.357387768538, 26463.40979345653, 26489.14090169492, 26514.846278825065, 26504.57956663795, 26411.94757697975], [30164.231462045227, 29963.528817785802, 30166.804572869067, 30169.377683692903, 30168.863061528136, 30117.915467216128, 30143.646575454517, 30169.351952584668, 30159.08524039755, 30066.453250739352], [33815.22881035802, 33614.52616609859, 33817.801921181854, 33820.37503200569, 33819.86040984093, 33768.91281552892, 33794.64392376731, 33820.349300897455, 33810.08258871034, 33717.45059905214], [32356.934866300988, 32156.232222041563, 32359.507977124827, 32362.081087948663, 32361.566465783897, 32310.61887147189, 32336.349979710278, 32362.05535684043, 32351.78864465331, 32259.156654995113], [19200.714440766424, 19000.011796507, 19203.287551590263, 19205.860662414103, 19205.346040249337, 19154.398445937328, 19180.129554175714, 19205.834931305864, 19195.568219118748, 19102.936229460553]], \"type\": \"surface\", \"uid\": \"b7efd08c-5851-49a8-8d7b-82acbe70f4dc\"}], {\"scene\": {\"xaxis\": {\"title\": {\"font\": {\"color\": \"rgb(200, 200, 200)\"}, \"text\": \"Mileage\"}}, \"yaxis\": {\"title\": {\"font\": {\"color\": \"rgb(200, 200, 200)\"}, \"text\": \"Age\"}}, \"zaxis\": {\"title\": {\"font\": {\"color\": \"rgb(200, 200, 200)\"}, \"text\": \"Price\"}}}}, {\"showLink\": false, \"linkText\": \"Export to plot.ly\", \"plotlyServerURL\": \"https://plot.ly\"}); \n",
       "}\n",
       "});</script><script type=\"text/javascript\">window.addEventListener(\"resize\", function(){if (document.getElementById(\"d83e68a8-88e3-47fe-8dfc-1ccbb5ec5a3a\")) {window._Plotly.Plots.resize(document.getElementById(\"d83e68a8-88e3-47fe-8dfc-1ccbb5ec5a3a\"));};})</script>"
      ],
      "text/vnd.plotly.v1+html": [
       "<div id=\"d83e68a8-88e3-47fe-8dfc-1ccbb5ec5a3a\" style=\"height: 525px; width: 100%;\" class=\"plotly-graph-div\"></div><script type=\"text/javascript\">require([\"plotly\"], function(Plotly) { window.PLOTLYENV=window.PLOTLYENV || {};window.PLOTLYENV.BASE_URL=\"https://plot.ly\";\n",
       "if (document.getElementById(\"d83e68a8-88e3-47fe-8dfc-1ccbb5ec5a3a\")) {\n",
       "    Plotly.newPlot(\"d83e68a8-88e3-47fe-8dfc-1ccbb5ec5a3a\", [{\"marker\": {\"color\": [31000, 19000, 32000, 40000, 33000, 26000, 29000, 35000, 30000, 20000], \"colorscale\": \"Viridis\", \"opacity\": 0.8, \"size\": 10}, \"mode\": \"markers\", \"x\": [10000, 400000, 5000, 0, 1000, 100000, 50000, 50, 20000, 200000], \"y\": [5000, 100000, 2500, 0, 500, 50000, 25000, 24, 10000, 100000], \"z\": [31000, 19000, 32000, 40000, 33000, 26000, 29000, 35000, 30000, 20000], \"type\": \"scatter3d\", \"uid\": \"c62d7eec-7bfe-4a60-8c0c-ebe4232804c8\"}, {\"x\": [10000, 400000, 5000, 0, 1000, 100000, 50000, 50, 20000, 200000], \"y\": [5000, 100000, 2500, 0, 500, 50000, 25000, 24, 10000, 100000], \"z\": [[33087.83600105291, 32887.13335679348, 33090.40911187675, 33092.982222700586, 33092.46760053582, 33041.52000622381, 33067.2511144622, 33092.95649159235, 33082.68977940523, 32990.057789747036], [19200.714440766424, 19000.011796507, 19203.287551590263, 19205.860662414103, 19205.346040249337, 19154.398445937328, 19180.129554175714, 19205.834931305864, 19195.568219118748, 19102.936229460553], [33453.28656842887, 33252.58392416944, 33455.85967925271, 33458.43279007654, 33457.918167911776, 33406.97057359977, 33432.70168183816, 33458.4070589683, 33448.14034678119, 33355.50835712299], [33818.737135804826, 33618.034491545404, 33821.310246628665, 33823.883357452505, 33823.36873528774, 33772.421140975726, 33798.152249214116, 33823.85762634427, 33813.59091415715, 33720.958924498955], [33745.647022329635, 33544.944378070206, 33748.220133153474, 33750.793243977314, 33750.27862181255, 33699.331027500535, 33725.062135738925, 33750.767512869075, 33740.500800681955, 33647.86881102376], [26509.72578828563, 26309.0231440262, 26512.298899109464, 26514.872009933304, 26514.357387768538, 26463.40979345653, 26489.14090169492, 26514.846278825065, 26504.57956663795, 26411.94757697975], [30164.231462045227, 29963.528817785802, 30166.804572869067, 30169.377683692903, 30168.863061528136, 30117.915467216128, 30143.646575454517, 30169.351952584668, 30159.08524039755, 30066.453250739352], [33815.22881035802, 33614.52616609859, 33817.801921181854, 33820.37503200569, 33819.86040984093, 33768.91281552892, 33794.64392376731, 33820.349300897455, 33810.08258871034, 33717.45059905214], [32356.934866300988, 32156.232222041563, 32359.507977124827, 32362.081087948663, 32361.566465783897, 32310.61887147189, 32336.349979710278, 32362.05535684043, 32351.78864465331, 32259.156654995113], [19200.714440766424, 19000.011796507, 19203.287551590263, 19205.860662414103, 19205.346040249337, 19154.398445937328, 19180.129554175714, 19205.834931305864, 19195.568219118748, 19102.936229460553]], \"type\": \"surface\", \"uid\": \"b7efd08c-5851-49a8-8d7b-82acbe70f4dc\"}], {\"scene\": {\"xaxis\": {\"title\": {\"font\": {\"color\": \"rgb(200, 200, 200)\"}, \"text\": \"Mileage\"}}, \"yaxis\": {\"title\": {\"font\": {\"color\": \"rgb(200, 200, 200)\"}, \"text\": \"Age\"}}, \"zaxis\": {\"title\": {\"font\": {\"color\": \"rgb(200, 200, 200)\"}, \"text\": \"Price\"}}}}, {\"showLink\": false, \"linkText\": \"Export to plot.ly\", \"plotlyServerURL\": \"https://plot.ly\"}); \n",
       "}\n",
       "});</script><script type=\"text/javascript\">window.addEventListener(\"resize\", function(){if (document.getElementById(\"d83e68a8-88e3-47fe-8dfc-1ccbb5ec5a3a\")) {window._Plotly.Plots.resize(document.getElementById(\"d83e68a8-88e3-47fe-8dfc-1ccbb5ec5a3a\"));};})</script>"
      ]
     },
     "metadata": {},
     "output_type": "display_data"
    }
   ],
   "source": [
    "from sklearn import linear_model\n",
    "\n",
    "# Form the training matrix\n",
    "car_mileages_and_ages: np.ndarray = np.array(list(zip(car_mileages, car_ages)))\n",
    "\n",
    "# Create linear regression object\n",
    "regr = linear_model.LinearRegression()\n",
    "\n",
    "# Train the model using the training set\n",
    "regr.fit(car_mileages_and_ages, car_values)\n",
    "\n",
    "# The mean squared error\n",
    "sklearn_mse: float = np.mean((regr.predict(car_mileages_and_ages) - car_values) ** 2)\n",
    "print(f'Mean squared error: {sklearn_mse}')\n",
    "\n",
    "# Form plane points\n",
    "plane: np.array = np.array([regr.predict([[car_mileage, car_age]\n",
    "                                            for car_mileage in car_mileages])\n",
    "                              for car_age in car_ages])\n",
    "\n",
    "sklearn_regression_plane = go.Surface(\n",
    "    x=car_mileages,\n",
    "    y=car_ages,\n",
    "    z=plane)\n",
    "\n",
    "figure = go.Figure(data=[plot_data, sklearn_regression_plane], layout=layout)\n",
    "ply.iplot(figure)"
   ]
  },
  {
   "cell_type": "markdown",
   "metadata": {},
   "source": [
    "Sada za bilo koji par (broj_pređenih_kilometara, startost) možemo iskoristiti pronađenu dvodimenzionalnu linearnu regresiju za procjenu cijene auta:"
   ]
  },
  {
   "cell_type": "code",
   "execution_count": 7,
   "metadata": {},
   "outputs": [
    {
     "name": "stdout",
     "output_type": "stream",
     "text": [
      "Mileage: 150000 km and Age: 11.0 years -> Value: 19129.0 $\n",
      "Mileage: 250000 km and Age: 23.0 years -> Value: 4459.0 $\n",
      "Mileage: 300000 km and Age: 23.0 years -> Value: 4433.0 $\n"
     ]
    }
   ],
   "source": [
    "test_data: np.ndarray = np.array([(150000, 100000), (250000, 200000), (300000, 200000)])\n",
    "approximated_values: np.ndarray = regr.predict(test_data)\n",
    "\n",
    "for (mileage, age), value in zip(test_data, approximated_values):\n",
    "    print(f'Mileage: {mileage} km and Age: {round(age / 24 / 365)} years -> Value: {round(value)} $')"
   ]
  },
  {
   "cell_type": "markdown",
   "metadata": {},
   "source": [
    "*Nastavak vježbi dolazi uskoro. U međuvremenu: Šta možete reći o nalasku optimalnih parametara $m_0, m_1 i m_2$ u dvodimenzionalnoj linearnog regresiji $y = m_2\\cdot x_2 + m_1\\cdot x_1 + m_0$, spram funkcije greške $MSE: \\frac{1}{|\\chi|}\\cdot\\sum_{((x_1, x_2), y) \\in \\chi}{(m_2\\cdot x_2 + m_1\\cdot x_1 + m_0 - y)^2}$? Možemo li ih pronaći analizom ekstrema površi kao što smo to uradili kod jednodimenzionalne linearne regresije? Ili smo primorani da koristimo neku metaheuristiku?*"
   ]
  }
 ],
 "metadata": {
  "kernelspec": {
   "display_name": "Python 3",
   "language": "python",
   "name": "python3"
  },
  "language_info": {
   "codemirror_mode": {
    "name": "ipython",
    "version": 3
   },
   "file_extension": ".py",
   "mimetype": "text/x-python",
   "name": "python",
   "nbconvert_exporter": "python",
   "pygments_lexer": "ipython3",
   "version": "3.6.7"
  }
 },
 "nbformat": 4,
 "nbformat_minor": 2
}
