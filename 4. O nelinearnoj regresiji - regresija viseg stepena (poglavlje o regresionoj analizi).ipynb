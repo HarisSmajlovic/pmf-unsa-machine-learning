{
 "cells": [
  {
   "cell_type": "markdown",
   "metadata": {},
   "source": [
    "# O nelinearnoj regresiji"
   ]
  },
  {
   "cell_type": "markdown",
   "metadata": {},
   "source": [
    "## Regresija višeg stepena"
   ]
  },
  {
   "cell_type": "markdown",
   "metadata": {},
   "source": [
    "U prethodnim vježbama smo uvidjeli značajnu razliku u kvalitetama linearne i kvadratne regresije, te postavili prirodno pitanje: Hoćemo li dobiti još bolje rezultate (tj. još manji MSE u našem slučaju) ukoliko dodatno povećamo stepen polinoma kojim računamo regresiju. Pogledajmo:"
   ]
  },
  {
   "cell_type": "markdown",
   "metadata": {},
   "source": [
    "*Neophodne implementacije iz prethodnih vjezbi:*"
   ]
  },
  {
   "cell_type": "code",
   "execution_count": 1,
   "metadata": {},
   "outputs": [
    {
     "data": {
      "text/html": [
       "<script type=\"text/javascript\">window.PlotlyConfig = {MathJaxConfig: 'local'};</script><script type=\"text/javascript\">if (window.MathJax) {MathJax.Hub.Config({SVG: {font: \"STIX-Web\"}});}</script><script>requirejs.config({paths: { 'plotly': ['https://cdn.plot.ly/plotly-latest.min']},});if(!window._Plotly) {require(['plotly'],function(plotly) {window._Plotly=plotly;});}</script>"
      ],
      "text/vnd.plotly.v1+html": [
       "<script type=\"text/javascript\">window.PlotlyConfig = {MathJaxConfig: 'local'};</script><script type=\"text/javascript\">if (window.MathJax) {MathJax.Hub.Config({SVG: {font: \"STIX-Web\"}});}</script><script>requirejs.config({paths: { 'plotly': ['https://cdn.plot.ly/plotly-latest.min']},});if(!window._Plotly) {require(['plotly'],function(plotly) {window._Plotly=plotly;});}</script>"
      ]
     },
     "metadata": {},
     "output_type": "display_data"
    }
   ],
   "source": [
    "from typing import List, Tuple\n",
    "\n",
    "import plotly.offline as ply\n",
    "import plotly.graph_objs as go\n",
    "import numpy as np\n",
    "\n",
    "\n",
    "# Instantiate dataset\n",
    "car_mileage_vs_value_data_set: List[List[int]] = [\n",
    "    (10000, 31000), (400000, 19000), (5000, 32000), (0, 40000),\n",
    "    (1000, 33000), (100000, 26000), (50000, 29000), (50, 35000),\n",
    "    (20000, 30000), (200000, 20000)]\n",
    "car_mileage_vs_value_data_set: np.ndarray = np.array(car_mileage_vs_value_data_set)\n",
    "car_mileages: np.ndarray = car_mileage_vs_value_data_set.T[0]\n",
    "car_values: np.ndarray = car_mileage_vs_value_data_set.T[1]\n",
    "\n",
    "# Instantiate plot.ly objects\n",
    "ply.init_notebook_mode(connected=True)\n",
    "\n",
    "plot_data = go.Scatter(x=car_mileages, \n",
    "                       y=car_values, \n",
    "                       mode='markers',\n",
    "                       marker=dict(color='black'),\n",
    "                       name='Training point')\n",
    "\n",
    "layout = go.Layout(xaxis=dict(ticks='', showticklabels=True,\n",
    "                              zeroline=False),\n",
    "                   yaxis=dict(ticks='', showticklabels=True,\n",
    "                              zeroline=False),\n",
    "                   showlegend=False, hovermode='closest')\n",
    "\n",
    "\n",
    "def calculate_polynomial_mse(training_set: List[Tuple[float, float]], *coefficients: float) -> float:\n",
    "    polynomial = np.poly1d(coefficients)\n",
    "    \n",
    "    return sum([(polynomial(x) - y)**2 for x, y in training_set]) / len(training_set)\n",
    "\n",
    "\n",
    "def get_regression_curve(input_data: np.ndarray, polynomial: np.poly1d, color: str = 'blue') -> go.Scatter:\n",
    "    x_new = np.linspace(min(input_data), max(input_data), 50)\n",
    "    y_new = polynomial(x_new)\n",
    "\n",
    "    regression_curve = go.Scatter(\n",
    "        x=x_new,\n",
    "        y=y_new,\n",
    "        mode='lines',\n",
    "        line=dict(color=color, width=3),\n",
    "        name='Regression curve')\n",
    "    \n",
    "    return regression_curve"
   ]
  },
  {
   "cell_type": "markdown",
   "metadata": {},
   "source": [
    "Isprobajmo kubni polinom: $$p_3: y = m_3\\cdot x^3 + m_2\\cdot x^2 + m_1\\cdot x + m_0$$ kao regresionu krivu."
   ]
  },
  {
   "cell_type": "code",
   "execution_count": 2,
   "metadata": {},
   "outputs": [
    {
     "name": "stdout",
     "output_type": "stream",
     "text": [
      "m_3=-4.4528879075042366e-13, m_2=4.226304878227773e-07, m_1=-0.13664585240154206, m_0=34494.49954539051\n",
      "Cubic regression MSE: 4646173.626382839\n"
     ]
    },
    {
     "data": {
      "application/vnd.plotly.v1+json": {
       "config": {
        "linkText": "Export to plot.ly",
        "plotlyServerURL": "https://plot.ly",
        "showLink": false
       },
       "data": [
        {
         "marker": {
          "color": "black"
         },
         "mode": "markers",
         "name": "Training point",
         "type": "scatter",
         "uid": "1c6d3f45-5881-40d5-aa3a-96029af06517",
         "x": [
          10000,
          400000,
          5000,
          0,
          1000,
          100000,
          50000,
          50,
          20000,
          200000
         ],
         "y": [
          31000,
          19000,
          32000,
          40000,
          33000,
          26000,
          29000,
          35000,
          30000,
          20000
         ]
        },
        {
         "line": {
          "color": "blue",
          "width": 3
         },
         "mode": "lines",
         "name": "Regression curve",
         "type": "scatter",
         "uid": "8c4b6579-506c-4179-a95c-04cf8c791bec",
         "x": [
          0,
          8163.265306122449,
          16326.530612244898,
          24489.79591836735,
          32653.061224489797,
          40816.32653061225,
          48979.5918367347,
          57142.857142857145,
          65306.12244897959,
          73469.38775510204,
          81632.6530612245,
          89795.91836734694,
          97959.1836734694,
          106122.44897959183,
          114285.71428571429,
          122448.97959183673,
          130612.24489795919,
          138775.51020408163,
          146938.77551020408,
          155102.04081632654,
          163265.306122449,
          171428.57142857142,
          179591.83673469388,
          187755.10204081633,
          195918.3673469388,
          204081.63265306124,
          212244.89795918367,
          220408.16326530612,
          228571.42857142858,
          236734.69387755104,
          244897.95918367346,
          253061.22448979592,
          261224.48979591837,
          269387.7551020408,
          277551.02040816325,
          285714.28571428574,
          293877.55102040817,
          302040.8163265306,
          310204.0816326531,
          318367.3469387755,
          326530.612244898,
          334693.8775510204,
          342857.14285714284,
          351020.4081632653,
          359183.67346938775,
          367346.93877551024,
          375510.20408163266,
          383673.4693877551,
          391836.7346938776,
          400000
         ],
         "y": [
          34494.49954539051,
          33406.94459715875,
          32374.26351231225,
          31395.002892219083,
          30467.70933824732,
          29590.929451765027,
          28763.20983414027,
          27983.097086741116,
          27249.137810935637,
          26559.878608091894,
          25913.866079577965,
          25309.646826761913,
          24745.7674510118,
          24220.774553695708,
          23733.21473618169,
          23281.634599837827,
          22864.580746032178,
          22480.599776132814,
          22128.238291507805,
          21806.042893525213,
          21512.560183553116,
          21246.336762959574,
          21005.919233112654,
          20789.85419538043,
          20596.68825113097,
          20424.968001732337,
          20273.2400485526,
          20140.050992959834,
          20023.947436322098,
          19923.475980007468,
          19837.183225384004,
          19763.615773819773,
          19701.320226682856,
          19648.84318534131,
          19604.731251163204,
          19567.53102551661,
          19535.789109769594,
          19508.05210529022,
          19482.866613446567,
          19458.77923560669,
          19434.336573138666,
          19408.08522741056,
          19378.57179979044,
          19344.342891646378,
          19303.945104346432,
          19255.925039258684,
          19198.82929775119,
          19131.204481192017,
          19051.597190949244,
          18958.554028390936
         ]
        }
       ],
       "layout": {
        "hovermode": "closest",
        "showlegend": false,
        "xaxis": {
         "showticklabels": true,
         "ticks": "",
         "zeroline": false
        },
        "yaxis": {
         "showticklabels": true,
         "ticks": "",
         "zeroline": false
        }
       }
      },
      "text/html": [
       "<div id=\"2257fa0a-a0d9-4a15-a9b4-d62d44dffcca\" style=\"height: 525px; width: 100%;\" class=\"plotly-graph-div\"></div><script type=\"text/javascript\">require([\"plotly\"], function(Plotly) { window.PLOTLYENV=window.PLOTLYENV || {};window.PLOTLYENV.BASE_URL=\"https://plot.ly\";\n",
       "if (document.getElementById(\"2257fa0a-a0d9-4a15-a9b4-d62d44dffcca\")) {\n",
       "    Plotly.newPlot(\"2257fa0a-a0d9-4a15-a9b4-d62d44dffcca\", [{\"marker\": {\"color\": \"black\"}, \"mode\": \"markers\", \"name\": \"Training point\", \"x\": [10000, 400000, 5000, 0, 1000, 100000, 50000, 50, 20000, 200000], \"y\": [31000, 19000, 32000, 40000, 33000, 26000, 29000, 35000, 30000, 20000], \"type\": \"scatter\", \"uid\": \"1c6d3f45-5881-40d5-aa3a-96029af06517\"}, {\"line\": {\"color\": \"blue\", \"width\": 3}, \"mode\": \"lines\", \"name\": \"Regression curve\", \"x\": [0.0, 8163.265306122449, 16326.530612244898, 24489.79591836735, 32653.061224489797, 40816.32653061225, 48979.5918367347, 57142.857142857145, 65306.12244897959, 73469.38775510204, 81632.6530612245, 89795.91836734694, 97959.1836734694, 106122.44897959183, 114285.71428571429, 122448.97959183673, 130612.24489795919, 138775.51020408163, 146938.77551020408, 155102.04081632654, 163265.306122449, 171428.57142857142, 179591.83673469388, 187755.10204081633, 195918.3673469388, 204081.63265306124, 212244.89795918367, 220408.16326530612, 228571.42857142858, 236734.69387755104, 244897.95918367346, 253061.22448979592, 261224.48979591837, 269387.7551020408, 277551.02040816325, 285714.28571428574, 293877.55102040817, 302040.8163265306, 310204.0816326531, 318367.3469387755, 326530.612244898, 334693.8775510204, 342857.14285714284, 351020.4081632653, 359183.67346938775, 367346.93877551024, 375510.20408163266, 383673.4693877551, 391836.7346938776, 400000.0], \"y\": [34494.49954539051, 33406.94459715875, 32374.26351231225, 31395.002892219083, 30467.70933824732, 29590.929451765027, 28763.20983414027, 27983.097086741116, 27249.137810935637, 26559.878608091894, 25913.866079577965, 25309.646826761913, 24745.7674510118, 24220.774553695708, 23733.21473618169, 23281.634599837827, 22864.580746032178, 22480.599776132814, 22128.238291507805, 21806.042893525213, 21512.560183553116, 21246.336762959574, 21005.919233112654, 20789.85419538043, 20596.68825113097, 20424.968001732337, 20273.2400485526, 20140.050992959834, 20023.947436322098, 19923.475980007468, 19837.183225384004, 19763.615773819773, 19701.320226682856, 19648.84318534131, 19604.731251163204, 19567.53102551661, 19535.789109769594, 19508.05210529022, 19482.866613446567, 19458.77923560669, 19434.336573138666, 19408.08522741056, 19378.57179979044, 19344.342891646378, 19303.945104346432, 19255.925039258684, 19198.82929775119, 19131.204481192017, 19051.597190949244, 18958.554028390936], \"type\": \"scatter\", \"uid\": \"8c4b6579-506c-4179-a95c-04cf8c791bec\"}], {\"hovermode\": \"closest\", \"showlegend\": false, \"xaxis\": {\"showticklabels\": true, \"ticks\": \"\", \"zeroline\": false}, \"yaxis\": {\"showticklabels\": true, \"ticks\": \"\", \"zeroline\": false}}, {\"showLink\": false, \"linkText\": \"Export to plot.ly\", \"plotlyServerURL\": \"https://plot.ly\"}); \n",
       "}\n",
       "});</script><script type=\"text/javascript\">window.addEventListener(\"resize\", function(){if (document.getElementById(\"2257fa0a-a0d9-4a15-a9b4-d62d44dffcca\")) {window._Plotly.Plots.resize(document.getElementById(\"2257fa0a-a0d9-4a15-a9b4-d62d44dffcca\"));};})</script>"
      ],
      "text/vnd.plotly.v1+html": [
       "<div id=\"2257fa0a-a0d9-4a15-a9b4-d62d44dffcca\" style=\"height: 525px; width: 100%;\" class=\"plotly-graph-div\"></div><script type=\"text/javascript\">require([\"plotly\"], function(Plotly) { window.PLOTLYENV=window.PLOTLYENV || {};window.PLOTLYENV.BASE_URL=\"https://plot.ly\";\n",
       "if (document.getElementById(\"2257fa0a-a0d9-4a15-a9b4-d62d44dffcca\")) {\n",
       "    Plotly.newPlot(\"2257fa0a-a0d9-4a15-a9b4-d62d44dffcca\", [{\"marker\": {\"color\": \"black\"}, \"mode\": \"markers\", \"name\": \"Training point\", \"x\": [10000, 400000, 5000, 0, 1000, 100000, 50000, 50, 20000, 200000], \"y\": [31000, 19000, 32000, 40000, 33000, 26000, 29000, 35000, 30000, 20000], \"type\": \"scatter\", \"uid\": \"1c6d3f45-5881-40d5-aa3a-96029af06517\"}, {\"line\": {\"color\": \"blue\", \"width\": 3}, \"mode\": \"lines\", \"name\": \"Regression curve\", \"x\": [0.0, 8163.265306122449, 16326.530612244898, 24489.79591836735, 32653.061224489797, 40816.32653061225, 48979.5918367347, 57142.857142857145, 65306.12244897959, 73469.38775510204, 81632.6530612245, 89795.91836734694, 97959.1836734694, 106122.44897959183, 114285.71428571429, 122448.97959183673, 130612.24489795919, 138775.51020408163, 146938.77551020408, 155102.04081632654, 163265.306122449, 171428.57142857142, 179591.83673469388, 187755.10204081633, 195918.3673469388, 204081.63265306124, 212244.89795918367, 220408.16326530612, 228571.42857142858, 236734.69387755104, 244897.95918367346, 253061.22448979592, 261224.48979591837, 269387.7551020408, 277551.02040816325, 285714.28571428574, 293877.55102040817, 302040.8163265306, 310204.0816326531, 318367.3469387755, 326530.612244898, 334693.8775510204, 342857.14285714284, 351020.4081632653, 359183.67346938775, 367346.93877551024, 375510.20408163266, 383673.4693877551, 391836.7346938776, 400000.0], \"y\": [34494.49954539051, 33406.94459715875, 32374.26351231225, 31395.002892219083, 30467.70933824732, 29590.929451765027, 28763.20983414027, 27983.097086741116, 27249.137810935637, 26559.878608091894, 25913.866079577965, 25309.646826761913, 24745.7674510118, 24220.774553695708, 23733.21473618169, 23281.634599837827, 22864.580746032178, 22480.599776132814, 22128.238291507805, 21806.042893525213, 21512.560183553116, 21246.336762959574, 21005.919233112654, 20789.85419538043, 20596.68825113097, 20424.968001732337, 20273.2400485526, 20140.050992959834, 20023.947436322098, 19923.475980007468, 19837.183225384004, 19763.615773819773, 19701.320226682856, 19648.84318534131, 19604.731251163204, 19567.53102551661, 19535.789109769594, 19508.05210529022, 19482.866613446567, 19458.77923560669, 19434.336573138666, 19408.08522741056, 19378.57179979044, 19344.342891646378, 19303.945104346432, 19255.925039258684, 19198.82929775119, 19131.204481192017, 19051.597190949244, 18958.554028390936], \"type\": \"scatter\", \"uid\": \"8c4b6579-506c-4179-a95c-04cf8c791bec\"}], {\"hovermode\": \"closest\", \"showlegend\": false, \"xaxis\": {\"showticklabels\": true, \"ticks\": \"\", \"zeroline\": false}, \"yaxis\": {\"showticklabels\": true, \"ticks\": \"\", \"zeroline\": false}}, {\"showLink\": false, \"linkText\": \"Export to plot.ly\", \"plotlyServerURL\": \"https://plot.ly\"}); \n",
       "}\n",
       "});</script><script type=\"text/javascript\">window.addEventListener(\"resize\", function(){if (document.getElementById(\"2257fa0a-a0d9-4a15-a9b4-d62d44dffcca\")) {window._Plotly.Plots.resize(document.getElementById(\"2257fa0a-a0d9-4a15-a9b4-d62d44dffcca\"));};})</script>"
      ]
     },
     "metadata": {},
     "output_type": "display_data"
    }
   ],
   "source": [
    "m_3, m_2, m_1, m_0 = np.polyfit(\n",
    "    x=car_mileages,\n",
    "    y=car_values,\n",
    "    deg=3)\n",
    "\n",
    "print(f'm_3={m_3}, m_2={m_2}, m_1={m_1}, m_0={m_0}')\n",
    "print(f'Cubic regression MSE: {calculate_polynomial_mse(car_mileage_vs_value_data_set, m_3, m_2, m_1, m_0)}')\n",
    "\n",
    "figure = go.Figure(data=[plot_data, get_regression_curve(car_mileages, np.poly1d([m_3, m_2, m_1, m_0]))],\n",
    "                   layout=layout)\n",
    "\n",
    "ply.iplot(figure)"
   ]
  },
  {
   "cell_type": "markdown",
   "metadata": {},
   "source": [
    "Za nijansu bolji rezultat. *Prisjetimo se kvadratnog MSE-a sa prethodnih vježbi: $4816444$.* Šta ako probamo neki veći stepen, recimo 7."
   ]
  },
  {
   "cell_type": "code",
   "execution_count": 3,
   "metadata": {},
   "outputs": [
    {
     "name": "stdout",
     "output_type": "stream",
     "text": [
      "Cubic regression MSE: 1705216.6022341922\n"
     ]
    }
   ],
   "source": [
    "coefficients = np.polyfit(\n",
    "    x=car_mileages,\n",
    "    y=car_values,\n",
    "    deg=7)\n",
    "\n",
    "print(f'Cubic regression MSE: {calculate_polynomial_mse(car_mileage_vs_value_data_set, *coefficients)}')"
   ]
  },
  {
   "cell_type": "markdown",
   "metadata": {},
   "source": [
    "MSE značajno bolji! Hajde čisto iz kurioznosti da probamo još i stepen 10:"
   ]
  },
  {
   "cell_type": "code",
   "execution_count": 10,
   "metadata": {},
   "outputs": [
    {
     "name": "stdout",
     "output_type": "stream",
     "text": [
      "Cubic regression MSE: 38.73987531533089\n"
     ]
    },
    {
     "name": "stderr",
     "output_type": "stream",
     "text": [
      "/opt/tljh/user/lib/python3.6/site-packages/ipykernel_launcher.py:4: RankWarning:\n",
      "\n",
      "Polyfit may be poorly conditioned\n",
      "\n"
     ]
    }
   ],
   "source": [
    "coefficients = np.polyfit(\n",
    "    x=car_mileages,\n",
    "    y=car_values,\n",
    "    deg=10)\n",
    "\n",
    "print(f'Cubic regression MSE: {calculate_polynomial_mse(car_mileage_vs_value_data_set, *coefficients)}')"
   ]
  },
  {
   "cell_type": "markdown",
   "metadata": {},
   "source": [
    "MSE je skoro jednak nuli?! Je li to moguće? Pronašli smo model predikcije najbolje moguće kvalitete! Drugim riječima, sada za auto bilo koje kilometraže možemo izračunati skoro tačnu cijenu! Pogledajmo:\n",
    "*(Opaska: Primijetite upozorenje `Polyfit may be poorly conditioned` prilikom izračuna koeficijenata. Osvrnuti ćemo se na njega kasnije.)*"
   ]
  },
  {
   "cell_type": "code",
   "execution_count": 8,
   "metadata": {},
   "outputs": [
    {
     "name": "stdout",
     "output_type": "stream",
     "text": [
      "Car mileage: 200000 -> Car value: 20000.0$\n",
      "Car mileage: 250000 -> Car value: 19122506668816.0$\n",
      "Car mileage: 300000 -> Car value: 124405892289612.0$\n",
      "Car mileage: 350000 -> Car value: 278196507634565.0$\n",
      "Car mileage: 400000 -> Car value: 143554933752392.0$\n"
     ]
    }
   ],
   "source": [
    "polynomial = np.poly1d(coefficients)\n",
    "test_car_mileages: np.ndarray = np.array([200000, 250000, 300000, 350000, 400000])\n",
    "predicted_car_values: np.ndarray = polynomial(test_car_mileages)\n",
    "\n",
    "for test_car_mileage, predicted_car_value in zip(test_car_mileages, predicted_car_values):\n",
    "    print(f'Car mileage: {test_car_mileage} -> Car value: {round(predicted_car_value)}$')"
   ]
  },
  {
   "cell_type": "markdown",
   "metadata": {},
   "source": [
    "Hmm. Rezultati su, u najmanju ruku, čudni. Hajde da iscrtamo našu regresionu krivu:"
   ]
  },
  {
   "cell_type": "code",
   "execution_count": 11,
   "metadata": {},
   "outputs": [
    {
     "data": {
      "application/vnd.plotly.v1+json": {
       "config": {
        "linkText": "Export to plot.ly",
        "plotlyServerURL": "https://plot.ly",
        "showLink": false
       },
       "data": [
        {
         "marker": {
          "color": "black"
         },
         "mode": "markers",
         "name": "Training point",
         "type": "scatter",
         "uid": "7f1ae9d7-7196-443d-ae1a-54ac139161e7",
         "x": [
          10000,
          400000,
          5000,
          0,
          1000,
          100000,
          50000,
          50,
          20000,
          200000
         ],
         "y": [
          31000,
          19000,
          32000,
          40000,
          33000,
          26000,
          29000,
          35000,
          30000,
          20000
         ]
        },
        {
         "line": {
          "color": "green",
          "width": 3
         },
         "mode": "lines",
         "name": "Regression curve",
         "type": "scatter",
         "uid": "878598b7-67a8-40d9-a26d-01babfffb36c",
         "x": [
          0,
          8163.265306122449,
          16326.530612244898,
          24489.79591836735,
          32653.061224489797,
          40816.32653061225,
          48979.5918367347,
          57142.857142857145,
          65306.12244897959,
          73469.38775510204,
          81632.6530612245,
          89795.91836734694,
          97959.1836734694,
          106122.44897959183,
          114285.71428571429,
          122448.97959183673,
          130612.24489795919,
          138775.51020408163,
          146938.77551020408,
          155102.04081632654,
          163265.306122449,
          171428.57142857142,
          179591.83673469388,
          187755.10204081633,
          195918.3673469388,
          204081.63265306124,
          212244.89795918367,
          220408.16326530612,
          228571.42857142858,
          236734.69387755104,
          244897.95918367346,
          253061.22448979592,
          261224.48979591837,
          269387.7551020408,
          277551.02040816325,
          285714.28571428574,
          293877.55102040817,
          302040.8163265306,
          310204.0816326531,
          318367.3469387755,
          326530.612244898,
          334693.8775510204,
          342857.14285714284,
          351020.4081632653,
          359183.67346938775,
          367346.93877551024,
          375510.20408163266,
          383673.4693877551,
          391836.7346938776,
          400000
         ],
         "y": [
          40001.54749006593,
          -252274.2543902541,
          3285415.1089062584,
          -23390073.50913902,
          -151043576.73124737,
          -302310422.6559787,
          -85132658.3589025,
          1177214191.4649897,
          4128465319.5306716,
          8767164999.021303,
          13611831049.084143,
          14786782895.145214,
          5233722959.731631,
          -25695790104.445824,
          -91975682671.1837,
          -209657116835.4515,
          -394323328035.4623,
          -656952653710.3711,
          -997935777950.7117,
          -1399058782330.5198,
          -1813355952877.1365,
          -2152857597589.465,
          -2274410528211.4785,
          -1963934504255.751,
          -919698976706.6488,
          1264536946435.302,
          5115380110421.123,
          11293173171703.568,
          20601013253891,
          33987123684581.766,
          52537804532436.99,
          77457658654127.52,
          110033208354696.45,
          151575381412264.16,
          203335651968724.3,
          266389869491972.06,
          341482995522109.3,
          428827091073877.94,
          527843955230068.44,
          636842805475698.2,
          752622310540295.4,
          869985134785296.1,
          981151927345453.5,
          1075060387157002.6,
          1136533654530800.2,
          1145300818906123.8,
          1074850788699342.2,
          891099140591969.9,
          550845850033781.2,
          18995.605035978642
         ]
        }
       ],
       "layout": {
        "hovermode": "closest",
        "showlegend": false,
        "xaxis": {
         "showticklabels": true,
         "ticks": "",
         "zeroline": false
        },
        "yaxis": {
         "showticklabels": true,
         "ticks": "",
         "zeroline": false
        }
       }
      },
      "text/html": [
       "<div id=\"19fd7f78-7908-4f5b-b6bc-bef00017e0d9\" style=\"height: 525px; width: 100%;\" class=\"plotly-graph-div\"></div><script type=\"text/javascript\">require([\"plotly\"], function(Plotly) { window.PLOTLYENV=window.PLOTLYENV || {};window.PLOTLYENV.BASE_URL=\"https://plot.ly\";\n",
       "if (document.getElementById(\"19fd7f78-7908-4f5b-b6bc-bef00017e0d9\")) {\n",
       "    Plotly.newPlot(\"19fd7f78-7908-4f5b-b6bc-bef00017e0d9\", [{\"marker\": {\"color\": \"black\"}, \"mode\": \"markers\", \"name\": \"Training point\", \"x\": [10000, 400000, 5000, 0, 1000, 100000, 50000, 50, 20000, 200000], \"y\": [31000, 19000, 32000, 40000, 33000, 26000, 29000, 35000, 30000, 20000], \"type\": \"scatter\", \"uid\": \"7f1ae9d7-7196-443d-ae1a-54ac139161e7\"}, {\"line\": {\"color\": \"green\", \"width\": 3}, \"mode\": \"lines\", \"name\": \"Regression curve\", \"x\": [0.0, 8163.265306122449, 16326.530612244898, 24489.79591836735, 32653.061224489797, 40816.32653061225, 48979.5918367347, 57142.857142857145, 65306.12244897959, 73469.38775510204, 81632.6530612245, 89795.91836734694, 97959.1836734694, 106122.44897959183, 114285.71428571429, 122448.97959183673, 130612.24489795919, 138775.51020408163, 146938.77551020408, 155102.04081632654, 163265.306122449, 171428.57142857142, 179591.83673469388, 187755.10204081633, 195918.3673469388, 204081.63265306124, 212244.89795918367, 220408.16326530612, 228571.42857142858, 236734.69387755104, 244897.95918367346, 253061.22448979592, 261224.48979591837, 269387.7551020408, 277551.02040816325, 285714.28571428574, 293877.55102040817, 302040.8163265306, 310204.0816326531, 318367.3469387755, 326530.612244898, 334693.8775510204, 342857.14285714284, 351020.4081632653, 359183.67346938775, 367346.93877551024, 375510.20408163266, 383673.4693877551, 391836.7346938776, 400000.0], \"y\": [40001.54749006593, -252274.2543902541, 3285415.1089062584, -23390073.50913902, -151043576.73124737, -302310422.6559787, -85132658.3589025, 1177214191.4649897, 4128465319.5306716, 8767164999.021303, 13611831049.084143, 14786782895.145214, 5233722959.731631, -25695790104.445824, -91975682671.1837, -209657116835.4515, -394323328035.4623, -656952653710.3711, -997935777950.7117, -1399058782330.5198, -1813355952877.1365, -2152857597589.465, -2274410528211.4785, -1963934504255.751, -919698976706.6488, 1264536946435.302, 5115380110421.123, 11293173171703.568, 20601013253891.0, 33987123684581.766, 52537804532436.99, 77457658654127.52, 110033208354696.45, 151575381412264.16, 203335651968724.3, 266389869491972.06, 341482995522109.3, 428827091073877.94, 527843955230068.44, 636842805475698.2, 752622310540295.4, 869985134785296.1, 981151927345453.5, 1075060387157002.6, 1136533654530800.2, 1145300818906123.8, 1074850788699342.2, 891099140591969.9, 550845850033781.2, 18995.605035978642], \"type\": \"scatter\", \"uid\": \"878598b7-67a8-40d9-a26d-01babfffb36c\"}], {\"hovermode\": \"closest\", \"showlegend\": false, \"xaxis\": {\"showticklabels\": true, \"ticks\": \"\", \"zeroline\": false}, \"yaxis\": {\"showticklabels\": true, \"ticks\": \"\", \"zeroline\": false}}, {\"showLink\": false, \"linkText\": \"Export to plot.ly\", \"plotlyServerURL\": \"https://plot.ly\"}); \n",
       "}\n",
       "});</script><script type=\"text/javascript\">window.addEventListener(\"resize\", function(){if (document.getElementById(\"19fd7f78-7908-4f5b-b6bc-bef00017e0d9\")) {window._Plotly.Plots.resize(document.getElementById(\"19fd7f78-7908-4f5b-b6bc-bef00017e0d9\"));};})</script>"
      ],
      "text/vnd.plotly.v1+html": [
       "<div id=\"19fd7f78-7908-4f5b-b6bc-bef00017e0d9\" style=\"height: 525px; width: 100%;\" class=\"plotly-graph-div\"></div><script type=\"text/javascript\">require([\"plotly\"], function(Plotly) { window.PLOTLYENV=window.PLOTLYENV || {};window.PLOTLYENV.BASE_URL=\"https://plot.ly\";\n",
       "if (document.getElementById(\"19fd7f78-7908-4f5b-b6bc-bef00017e0d9\")) {\n",
       "    Plotly.newPlot(\"19fd7f78-7908-4f5b-b6bc-bef00017e0d9\", [{\"marker\": {\"color\": \"black\"}, \"mode\": \"markers\", \"name\": \"Training point\", \"x\": [10000, 400000, 5000, 0, 1000, 100000, 50000, 50, 20000, 200000], \"y\": [31000, 19000, 32000, 40000, 33000, 26000, 29000, 35000, 30000, 20000], \"type\": \"scatter\", \"uid\": \"7f1ae9d7-7196-443d-ae1a-54ac139161e7\"}, {\"line\": {\"color\": \"green\", \"width\": 3}, \"mode\": \"lines\", \"name\": \"Regression curve\", \"x\": [0.0, 8163.265306122449, 16326.530612244898, 24489.79591836735, 32653.061224489797, 40816.32653061225, 48979.5918367347, 57142.857142857145, 65306.12244897959, 73469.38775510204, 81632.6530612245, 89795.91836734694, 97959.1836734694, 106122.44897959183, 114285.71428571429, 122448.97959183673, 130612.24489795919, 138775.51020408163, 146938.77551020408, 155102.04081632654, 163265.306122449, 171428.57142857142, 179591.83673469388, 187755.10204081633, 195918.3673469388, 204081.63265306124, 212244.89795918367, 220408.16326530612, 228571.42857142858, 236734.69387755104, 244897.95918367346, 253061.22448979592, 261224.48979591837, 269387.7551020408, 277551.02040816325, 285714.28571428574, 293877.55102040817, 302040.8163265306, 310204.0816326531, 318367.3469387755, 326530.612244898, 334693.8775510204, 342857.14285714284, 351020.4081632653, 359183.67346938775, 367346.93877551024, 375510.20408163266, 383673.4693877551, 391836.7346938776, 400000.0], \"y\": [40001.54749006593, -252274.2543902541, 3285415.1089062584, -23390073.50913902, -151043576.73124737, -302310422.6559787, -85132658.3589025, 1177214191.4649897, 4128465319.5306716, 8767164999.021303, 13611831049.084143, 14786782895.145214, 5233722959.731631, -25695790104.445824, -91975682671.1837, -209657116835.4515, -394323328035.4623, -656952653710.3711, -997935777950.7117, -1399058782330.5198, -1813355952877.1365, -2152857597589.465, -2274410528211.4785, -1963934504255.751, -919698976706.6488, 1264536946435.302, 5115380110421.123, 11293173171703.568, 20601013253891.0, 33987123684581.766, 52537804532436.99, 77457658654127.52, 110033208354696.45, 151575381412264.16, 203335651968724.3, 266389869491972.06, 341482995522109.3, 428827091073877.94, 527843955230068.44, 636842805475698.2, 752622310540295.4, 869985134785296.1, 981151927345453.5, 1075060387157002.6, 1136533654530800.2, 1145300818906123.8, 1074850788699342.2, 891099140591969.9, 550845850033781.2, 18995.605035978642], \"type\": \"scatter\", \"uid\": \"878598b7-67a8-40d9-a26d-01babfffb36c\"}], {\"hovermode\": \"closest\", \"showlegend\": false, \"xaxis\": {\"showticklabels\": true, \"ticks\": \"\", \"zeroline\": false}, \"yaxis\": {\"showticklabels\": true, \"ticks\": \"\", \"zeroline\": false}}, {\"showLink\": false, \"linkText\": \"Export to plot.ly\", \"plotlyServerURL\": \"https://plot.ly\"}); \n",
       "}\n",
       "});</script><script type=\"text/javascript\">window.addEventListener(\"resize\", function(){if (document.getElementById(\"19fd7f78-7908-4f5b-b6bc-bef00017e0d9\")) {window._Plotly.Plots.resize(document.getElementById(\"19fd7f78-7908-4f5b-b6bc-bef00017e0d9\"));};})</script>"
      ]
     },
     "metadata": {},
     "output_type": "display_data"
    }
   ],
   "source": [
    "figure = go.Figure(data=[plot_data, get_regression_curve(car_mileages, np.poly1d(coefficients), 'green')],\n",
    "                   layout=layout)\n",
    "\n",
    "ply.iplot(figure)"
   ]
  },
  {
   "cell_type": "markdown",
   "metadata": {},
   "source": [
    "Sada i gore navedeno upozorenje `Polyfit may be poorly conditioned` ima smisla. Radi se upravo o upozorenju o velikoj razlici vrijednosti polinoma na različitim koordinatama. Npr. za tačku 50000 i 350000."
   ]
  },
  {
   "cell_type": "markdown",
   "metadata": {},
   "source": [
    "Primijetimo da se regresiona kriva “prilagodila\" **islkjučivo** podacima u našem trening setu i na taj način reducirala grešku (u našem slučaju MSE) na 38 *(MSE bi, u teoriji, za stepen 10 trebao biti 0. Razmislite zašto. Zbog načina na koji `polyfit` računa koeficijente, te zbog greške zaokruživanja decimalnih vrijednosti, MSE poprima vrijednost nešto veću od nule.)*. Međutim, prilagođavajuci se našim podacima, neke vrijednosti (kao što je recimo tačka (350000, 1580127433543813)) su daleko promašene. Ovaj koncept, preprilagođavanja modela predikcije trening skupu, se naziva **overfitting-om** i to je jedan od najpoznatijih problema svih modela mašinskog učenja."
   ]
  }
 ],
 "metadata": {
  "kernelspec": {
   "display_name": "Python 3",
   "language": "python",
   "name": "python3"
  },
  "language_info": {
   "codemirror_mode": {
    "name": "ipython",
    "version": 3
   },
   "file_extension": ".py",
   "mimetype": "text/x-python",
   "name": "python",
   "nbconvert_exporter": "python",
   "pygments_lexer": "ipython3",
   "version": "3.6.7"
  }
 },
 "nbformat": 4,
 "nbformat_minor": 2
}
