{
 "cells": [
  {
   "cell_type": "markdown",
   "metadata": {
    "slideshow": {
     "slide_type": "slide"
    }
   },
   "source": [
    "# Demonstratorske vježbe iz Uvoda u mašinsko učenje - PMF\n",
    "\n",
    "Ciljevi demonstratorskih vježbi\n",
    "\n",
    "Način na koji ćemo postići naš cilj\n",
    "\n",
    "Glavna motivacija predmeta\n",
    "\n",
    "Materijali\n",
    "\n",
    "- Elements of Statistical Learning - Trevor Hastie, Robert Tibshirani, Jerome Friedman\n",
    "- Machine Learning - A Probabilistic Perspective - Kevin P. Murphy"
   ]
  },
  {
   "cell_type": "markdown",
   "metadata": {
    "slideshow": {
     "slide_type": "slide"
    }
   },
   "source": [
    "# Uvod u mašinsko učenje\n",
    "\n",
    "## Motivacija \n",
    "\n",
    "- Era *Big Data* - bilioni *web* stranica; 1 sat YouTube video sadržaja svake sekunde; Transakcije i ogromne baze podataka; \n",
    "- Mašinsko učenje kao jedna vrsta rješenja\n",
    "- Primjeri: Spam filteri, Speech recognition\n",
    "\n",
    "Mašinsko učenje je odlično za rješavanje problema sa osobinama:\n",
    "\n",
    "* Postojeća rješenja zahtijevaju ogromne liste pravila\n",
    "* Kompleksne probleme za koje ne postoje dovoljno dobra rješenja koristeći tradicionalni pristup\n",
    "* Oscilirajuća okruženja\n",
    "* Traženja uvide o kompleksnim problemima i ogromnim količinama podataka"
   ]
  },
  {
   "cell_type": "markdown",
   "metadata": {
    "slideshow": {
     "slide_type": "slide"
    }
   },
   "source": [
    "## Tipovi mašinskog učenja\n",
    "\n",
    "* Prediktivno ili nadgledano učenje\n",
    "    * Mapiranje unose x (*input*) u izlaz y (*output* ili *response variable*)\n",
    "    * trening set (*training set*)\n",
    "    * atribute (*features*)\n",
    "    * Klasifikacija ili *pattern recognition* - kategorična ili nominalna *response* varijabla iz konačnog skupa\n",
    "    * Regresija - realna vrijednost *response* varijable\n",
    "* Deskriptivno ili nenadgledano učenje\n",
    "    * Cilj je naći \"interesantne šablone\"\n",
    "    * *Knowledge discovery*\n",
    "    * Mnogo manje definisan problem\n",
    "* Reinforcement learning\n",
    "    * Učenje na osnovu nagrađivanja ili kažnjavanja"
   ]
  },
  {
   "cell_type": "markdown",
   "metadata": {
    "slideshow": {
     "slide_type": "slide"
    }
   },
   "source": [
    "### Nadgledano učenje\n",
    "\n",
    "* *Supervised learning*\n",
    "* *Labels*, *features*\n",
    "\n",
    "Tipično nadgledano učenje: *regression* i *classification*\n",
    "\n",
    "Poznati algoritmi:\n",
    "\n",
    "* k-Nearest Neighbor\n",
    "* Linear Regression\n",
    "* Logistic Regression\n",
    "* Support Vector Machines (SVMs)\n",
    "* Decision Trees and Random Forests\n",
    "* Neural Networks"
   ]
  },
  {
   "cell_type": "markdown",
   "metadata": {
    "slideshow": {
     "slide_type": "subslide"
    }
   },
   "source": [
    "Pogledati za nadgledano učenje:\n",
    "\n",
    "- https://www.kaggle.com/c/titanic/data - klasifikacija\n",
    "- https://www.kaggle.com/c/house-prices-advanced-regression-techniques/data - regresija\n",
    "- https://www.kaggle.com/c/digit-recognizer - klasifikacija"
   ]
  },
  {
   "cell_type": "markdown",
   "metadata": {
    "slideshow": {
     "slide_type": "slide"
    }
   },
   "source": [
    "### Nenadgledano učenje\n",
    "\n",
    "- Unsupervised learning\n",
    "\n",
    "Poznati algoritmi:\n",
    "\n",
    "- Clustering\n",
    "    * k-Means\n",
    "    * Hierarchical Cluster Analysis (HCA)\n",
    "    * Expectation Maximization\n",
    "- Visualization and dimensionality reduction\n",
    "    * Principal Component Analysis (PCA)\n",
    "    * Kernel PCA\n",
    "    * Locally-Linear Embedding (LLE)\n",
    "    * t-distributed Stochastic Neighbor Embedding (t-SNE)\n",
    "- Association rule learning\n",
    "    * Apriori\n",
    "    * Eclat"
   ]
  },
  {
   "cell_type": "markdown",
   "metadata": {
    "slideshow": {
     "slide_type": "slide"
    }
   },
   "source": [
    "### Ostali slučajevi mašinskog učenja\n",
    "\n",
    "- Semisupervised learning\n",
    "- Reinforcement learning\n",
    "\n",
    "Načini na koje model mašinskog učenja uči:\n",
    "\n",
    "- Batch Learning\n",
    "- Online Learning\n",
    "\n",
    "Načini kako model mašinskog učenja generalizuje:\n",
    "\n",
    "- Instance-based Learning\n",
    "- Model-based Learning"
   ]
  },
  {
   "cell_type": "markdown",
   "metadata": {
    "slideshow": {
     "slide_type": "slide"
    }
   },
   "source": [
    "### Malo više o Model-based Learning\n",
    "\n",
    "- Fitness function, cost function\n",
    "- Training the model\n",
    "\n",
    "Na kraju:\n",
    "\n",
    "- Studirali podatke\n",
    "- Odabrali model\n",
    "- Trenirali ga nad nekim trening podacima\n",
    "- Aplicirali model da napravi svoja predviđanja na novim slučajevima"
   ]
  },
  {
   "cell_type": "markdown",
   "metadata": {
    "slideshow": {
     "slide_type": "slide"
    }
   },
   "source": [
    "## Glavni izazovi mašinskog učenja\n",
    "\n",
    "- Nedovoljni kvantitet trening podataka\n",
    "- Nereprezentatitvni trening podaci\n",
    "- Loš kvalitet podataka\n",
    "- Nevažni atributi\n",
    "- *Overfitting* trening podataka\n",
    "- *Underfitting* trening podataka"
   ]
  },
  {
   "cell_type": "markdown",
   "metadata": {
    "slideshow": {
     "slide_type": "slide"
    }
   },
   "source": [
    "## Testiranje i validiranje\n",
    "\n",
    "- Trening set i test set\n",
    "- Greška (out-of-sample greška)\n",
    "- Hiperparametri\n",
    "- Validacijski set\n",
    "- Unakrsna validacija (cross-validation)\n",
    "- no free lunch theorem"
   ]
  },
  {
   "cell_type": "markdown",
   "metadata": {
    "slideshow": {
     "slide_type": "slide"
    }
   },
   "source": [
    "# Reference\n",
    "\n",
    "- Géron, AG 2017, The Machine Learning Landscape: *Hands-On Machine Learning with Scikit-Learn & Tensorflow*. O'Reilly Media, Sebastopol, CA, USA\n",
    "- Hastie, T., Tibshirani, R. and Friedman, J. (2009). *The Elements of Statistical Learning: Data Mining, Inference, and Prediction*. Springer-Verlag, New York, NY, USA"
   ]
  }
 ],
 "metadata": {
  "celltoolbar": "Slideshow",
  "kernelspec": {
   "display_name": "Python 3",
   "language": "python",
   "name": "python3"
  },
  "language_info": {
   "codemirror_mode": {
    "name": "ipython",
    "version": 3
   },
   "file_extension": ".py",
   "mimetype": "text/x-python",
   "name": "python",
   "nbconvert_exporter": "python",
   "pygments_lexer": "ipython3",
   "version": "3.7.2"
  }
 },
 "nbformat": 4,
 "nbformat_minor": 2
}
