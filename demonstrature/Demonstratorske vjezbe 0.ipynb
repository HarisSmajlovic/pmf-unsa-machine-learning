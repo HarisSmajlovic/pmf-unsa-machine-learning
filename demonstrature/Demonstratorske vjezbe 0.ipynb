{
 "cells": [
  {
   "cell_type": "markdown",
   "metadata": {},
   "source": [
    "# Sastanak\n",
    "\n",
    "Ideje:\n",
    "\n",
    "- Projekti sa Kaggle, dataset plata javnog sektora KS-a i primjena raznih algoritama\n",
    "- Implementacija Machine Learning algoritama\n",
    "- Teoretski zadaci sa dokazima\n",
    "\n",
    "Realizacija u jeziku Python i sljedeće biblioteke:\n",
    "\n",
    "- Miniconda\n",
    "- NumPy (linearna algebra)\n",
    "- Pandas (rad s podacima)\n",
    "- Matplotlib i/ili Seaborn (visualizacija)\n",
    "- Scikit-Learn\n",
    "- PyTorch ili Tensorflow"
   ]
  },
  {
   "cell_type": "markdown",
   "metadata": {},
   "source": [
    "# Mišljenje studenata\n",
    "\n",
    "Ideje:\n",
    "\n"
   ]
  }
 ],
 "metadata": {
  "kernelspec": {
   "display_name": "Python 3",
   "language": "python",
   "name": "python3"
  },
  "language_info": {
   "codemirror_mode": {
    "name": "ipython",
    "version": 3
   },
   "file_extension": ".py",
   "mimetype": "text/x-python",
   "name": "python",
   "nbconvert_exporter": "python",
   "pygments_lexer": "ipython3",
   "version": "3.7.2"
  }
 },
 "nbformat": 4,
 "nbformat_minor": 2
}
